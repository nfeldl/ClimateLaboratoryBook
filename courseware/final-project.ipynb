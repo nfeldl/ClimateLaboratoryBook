{
 "cells": [
  {
   "cell_type": "markdown",
   "id": "b1ada39f",
   "metadata": {},
   "source": [
    "# Replace with your title\n",
    "\n",
    "## Replace with your name\n",
    "### March 2023"
   ]
  },
  {
   "cell_type": "markdown",
   "id": "a27fc704",
   "metadata": {},
   "source": [
    "## Introduction\n",
    "\n",
    "[15 points]"
   ]
  },
  {
   "cell_type": "markdown",
   "id": "e226beed",
   "metadata": {},
   "source": [
    "*Delete these instructons before submitting your project* The introduction should describe the scientific question being explored or hypothesis being tested. This section should start by introducing and motivating your topic in broad terms for a wide audience and narrowing to the specific questions addressed in this research."
   ]
  },
  {
   "cell_type": "markdown",
   "id": "6a872e4a",
   "metadata": {},
   "source": []
  },
  {
   "cell_type": "markdown",
   "id": "3b0cfc60",
   "metadata": {},
   "source": [
    "## Methods\n",
    "\n",
    "[15 points]"
   ]
  },
  {
   "cell_type": "markdown",
   "id": "abb3da88",
   "metadata": {},
   "source": [
    "*Delete these instructons before submitting your project* This section should provide all necessary details for the methods. Describe in words the model you are using and also **provide your code here** for creating the model or accessing the model output. You are encouraged to add as many cells as needed to make your notebook modular and easy to use."
   ]
  },
  {
   "cell_type": "markdown",
   "id": "7c57c76e",
   "metadata": {},
   "source": []
  },
  {
   "cell_type": "markdown",
   "id": "faa10399",
   "metadata": {},
   "source": [
    "## Results\n",
    "\n",
    "[50 points]"
   ]
  },
  {
   "cell_type": "markdown",
   "id": "ede708f8",
   "metadata": {},
   "source": [
    "*Delete these instructons before submitting your project* This section should include your analysis, including all code necessary to reproduce your results. Communicate the results as well-labeled plots and tables as appropriate. Provide interpretation of your results in words. You are encouraged to add as many cells as needed to make your notebook modular and easy to use."
   ]
  },
  {
   "cell_type": "markdown",
   "id": "b1e8e46f",
   "metadata": {},
   "source": []
  },
  {
   "cell_type": "markdown",
   "id": "67d7bf03",
   "metadata": {},
   "source": [
    "## Conclusions\n",
    "\n",
    "[15 points]"
   ]
  },
  {
   "cell_type": "markdown",
   "id": "b15fedaf",
   "metadata": {},
   "source": [
    "*Delete these instructons before submitting your project* Conclude by summarizing what you learned. Discuss any caveats to the work or possible directions for future research."
   ]
  },
  {
   "cell_type": "markdown",
   "id": "958e7ee2",
   "metadata": {},
   "source": []
  },
  {
   "cell_type": "markdown",
   "id": "e21113d0",
   "metadata": {},
   "source": [
    "*Delete these instructions before submitting your project* As always, make sure to `Restart & Run All`. If your notebook does not run cleanly from start to end, identify and fix any bugs."
   ]
  },
  {
   "cell_type": "code",
   "execution_count": null,
   "id": "e5f5be9a",
   "metadata": {},
   "outputs": [],
   "source": []
  }
 ],
 "metadata": {
  "kernelspec": {
   "display_name": "Python 3 (ipykernel)",
   "language": "python",
   "name": "python3"
  },
  "language_info": {
   "codemirror_mode": {
    "name": "ipython",
    "version": 3
   },
   "file_extension": ".py",
   "mimetype": "text/x-python",
   "name": "python",
   "nbconvert_exporter": "python",
   "pygments_lexer": "ipython3",
   "version": "3.10.4"
  }
 },
 "nbformat": 4,
 "nbformat_minor": 5
}

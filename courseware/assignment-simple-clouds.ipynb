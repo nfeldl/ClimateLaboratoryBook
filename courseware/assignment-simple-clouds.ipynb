{
 "cells": [
  {
   "cell_type": "markdown",
   "metadata": {},
   "source": [
    "# Assignment: Clouds in the Leaky Greenhouse Model\n",
    "\n",
    "## Due Sunday April 27, 2025"
   ]
  },
  {
   "cell_type": "markdown",
   "metadata": {},
   "source": [
    "## Learning goals\n",
    "\n",
    "Students completing this assignment will gain the following skills and concepts:\n",
    "\n",
    "- Continued practice working with the Jupyter notebook\n",
    "- Familiarity with the toy \"leaky greenhouse\" model\n",
    "- Conceptual understanding of the role of clouds in the planetary energy budget"
   ]
  },
  {
   "cell_type": "markdown",
   "metadata": {},
   "source": [
    "## Instructions\n",
    "\n",
    "*This assignment requires some mathematics. You can present your work in this notebook (using LaTeX formatting in Markdown cells) **or** by embedding an image of hand-written work on paper. For the latter, see the code of any lecture notebook for an example--you will have to upload the image to the JupyterHub and also copy it to your submissions folder.*\n",
    "\n",
    "- In a local copy of this notebook (on the JupyterHub or your own device) **add your answers in additional cells**.\n",
    "- **Complete the required problems** below. \n",
    "- Remember to set your cell types to `Markdown` for text, and `Code` for Python code!\n",
    "- **Include comments** in your code to explain your method as necessary.\n",
    "- Remember to actually answer the questions. **Written answers are required** (not just code and figures!)\n",
    "- Submit your solutions in **a single Jupyter notebook** that contains your text, your code, and your figures.\n",
    "- *Make sure that your notebook* ***runs cleanly without errors:***\n",
    "    - Save your notebook\n",
    "    - From the `Kernel` menu, select `Restart & Run All`\n",
    "    - Did the notebook run from start to finish without error and produce the expected output?\n",
    "    - If yes, save again and submit your notebook file\n",
    "    - If no, fix the errors and try again.\n"
   ]
  },
  {
   "cell_type": "markdown",
   "metadata": {},
   "source": [
    "## Introduction\n",
    "\n",
    "Consider the two-layer \"leaky greenhouse\" (or grey radiation) model from the elementary greenhouse lecture notes.\n",
    "\n",
    "Here you will use this model to investigate the **radiative effects of clouds**.\n",
    "\n",
    "Clouds simultaneously **reflect shortwave radiation** and **absorb longwave radiation**. These two effects often oppose each other in nature, and which one is stronger depends (among other things) on whether the clouds are **low** or **high** (i.e. in layer 0 or layer 1).\n",
    "\n",
    "For this question we will suppose (as we did in the lecture notes) that there is **no absorption of shortwave radiation** in the atmosphere."
   ]
  },
  {
   "cell_type": "markdown",
   "metadata": {},
   "source": [
    "## Question 1\n",
    "### 6 pts\n",
    "\n",
    "Suppose a cloud reflects a fraction $\\alpha_c$ of the shortwave beam incoming from above. $\\alpha_c$ is a number between 0 and 1. Provide a coherent argument (in words, sketches, and/or equations) for why the **shortwave** cloud effect should alway be a **cooling** on the surface. Is this cooling effect different if the cloud is low or high? Explain."
   ]
  },
  {
   "cell_type": "markdown",
   "metadata": {},
   "source": [
    "(Double click this cell and replace my text with your response.)"
   ]
  },
  {
   "cell_type": "markdown",
   "metadata": {},
   "source": [
    "## Question 2\n",
    "### 16 pts\n",
    "\n",
    "Because the liquid water droplets in a cloud are effective absorbers of longwave radiation, a cloud will **increase the longwave absorptivity / emissivity** of the layer in which it resides. \n",
    "\n",
    "We can represent this in the two-layer atmosphere by letting the absorptivity of a cloudy layer be $\\epsilon + \\epsilon_c$, where $\\epsilon_c$ is an additional absorptivity due to the cloud. Derive a formula (i.e. an algebraic expression) for the OLR in terms of the temperatures $T_s, T_0, T_1$ and the emissivities $\\epsilon, \\epsilon_c$ for two different cases:\n",
    "\n",
    "- a low cloud (the additional $\\epsilon_c$ is in layer 0)\n",
    "- a high cloud (the additional $\\epsilon_c$ is in layer 1)\n",
    "\n",
    "Hint: To do this successfully, you will need to start your derivation from first principles (i.e., from the sketch of the 2-layer model)."
   ]
  },
  {
   "cell_type": "markdown",
   "metadata": {},
   "source": [
    "(Double click this cell and replace my text with your response.)"
   ]
  },
  {
   "cell_type": "markdown",
   "metadata": {},
   "source": [
    "## Question 3\n",
    "### 16 pts\n",
    "\n",
    "Now use the tuned numerical values we used in class:\n",
    "\n",
    "- $T_s = 288$ K\n",
    "- $T_0 = 275$ K\n",
    "- $T_1 = 230$ K\n",
    "- $\\epsilon = 0.586$\n",
    "\n",
    "and take $\\epsilon_c = 0.2$\n",
    "\n",
    "(a) Repeat the following for both a high cloud and a low cloud:\n",
    "\n",
    "- Calculate the **difference in OLR** due to the presence of the cloud, compared to the case with no cloud. \n",
    "- Does this represent a warming or cooling effect?\n",
    "\n",
    "(b) Which one has a larger effect, the low cloud or the high cloud?"
   ]
  },
  {
   "cell_type": "code",
   "execution_count": null,
   "metadata": {},
   "outputs": [],
   "source": []
  },
  {
   "cell_type": "markdown",
   "metadata": {},
   "source": [
    "(Double click this cell and replace my text with your response.)"
   ]
  },
  {
   "cell_type": "markdown",
   "metadata": {},
   "source": [
    "## Question 4\n",
    "### 6 pts\n",
    "\n",
    "Based on your results in questions 1-3, which do you think is more likely to produce a **net warming effect** on the climate: a low cloud or a high cloud? Give an explanation in words."
   ]
  },
  {
   "cell_type": "markdown",
   "metadata": {},
   "source": [
    "(Double click this cell and replace my text with your response.)"
   ]
  },
  {
   "cell_type": "markdown",
   "metadata": {},
   "source": [
    "## Question 5\n",
    "### 6 pts\n",
    "\n",
    "How would your answer change if the atmosphere were **isothermal**, i.e. $T_s = T_0 = T_1$?"
   ]
  },
  {
   "cell_type": "code",
   "execution_count": null,
   "metadata": {},
   "outputs": [],
   "source": []
  },
  {
   "cell_type": "markdown",
   "metadata": {},
   "source": [
    "(Double click this cell and replace my text with your response.)"
   ]
  }
 ],
 "metadata": {
  "kernelspec": {
   "display_name": "Python 3 (ipykernel)",
   "language": "python",
   "name": "python3"
  },
  "language_info": {
   "codemirror_mode": {
    "name": "ipython",
    "version": 3
   },
   "file_extension": ".py",
   "mimetype": "text/x-python",
   "name": "python",
   "nbconvert_exporter": "python",
   "pygments_lexer": "ipython3",
   "version": "3.11.9"
  }
 },
 "nbformat": 4,
 "nbformat_minor": 4
}

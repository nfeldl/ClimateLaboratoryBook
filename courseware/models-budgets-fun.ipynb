{
 "cells": [
  {
   "cell_type": "markdown",
   "metadata": {
    "slideshow": {
     "slide_type": "slide"
    }
   },
   "source": [
    "# Climate models, the global energy budget, and Fun with Python"
   ]
  },
  {
   "cell_type": "markdown",
   "metadata": {
    "slideshow": {
     "slide_type": "slide"
    }
   },
   "source": [
    "____________\n",
    "<a id='section1'></a>\n",
    "\n",
    "## 1. What is a Climate Model?\n",
    "____________"
   ]
  },
  {
   "cell_type": "markdown",
   "metadata": {
    "slideshow": {
     "slide_type": "slide"
    }
   },
   "source": [
    "First, some thoughts on modeling from [xkcd](https://xkcd.com)\n",
    "\n",
    "![physicists](https://imgs.xkcd.com/comics/physicists.png)"
   ]
  },
  {
   "cell_type": "markdown",
   "metadata": {
    "slideshow": {
     "slide_type": "slide"
    }
   },
   "source": [
    "Let's be a little pedantic and decompose that question:\n",
    "\n",
    "- what is climate?\n",
    "- what is a model?"
   ]
  },
  {
   "cell_type": "markdown",
   "metadata": {
    "slideshow": {
     "slide_type": "fragment"
    }
   },
   "source": [
    "**Climate** is\n",
    "\n",
    "- statistics of weather, e.g. averages in space and/or time of quantities such as temperature and precipitation\n",
    "- statistics might also mean higher-order stats, e.g. variability"
   ]
  },
  {
   "cell_type": "markdown",
   "metadata": {
    "slideshow": {
     "slide_type": "fragment"
    }
   },
   "source": [
    "A **model** is\n",
    "\n",
    " - not easy to define!"
   ]
  },
  {
   "cell_type": "markdown",
   "metadata": {
    "slideshow": {
     "slide_type": "slide"
    }
   },
   "source": [
    "Wikipedia: http://en.wikipedia.org/wiki/Conceptual_model\n",
    "\n",
    "> In the most general sense, a model is anything used in any way to represent anything else. Some models are physical objects, for instance, a toy model which may be assembled, and may even be made to work like the object it represents. Whereas, a conceptual model is a model made of the composition of concepts, that thus exists only in the mind. Conceptual models are used to help us know, understand, or simulate the subject matter they represent."
   ]
  },
  {
   "cell_type": "markdown",
   "metadata": {
    "slideshow": {
     "slide_type": "slide"
    }
   },
   "source": [
    "George E. P. Box (statistician):\n",
    "> Essentially, all models are wrong, but some are useful."
   ]
  },
  {
   "cell_type": "markdown",
   "metadata": {
    "slideshow": {
     "slide_type": "slide"
    }
   },
   "source": [
    "From the Climate Modelling Primer, 4th ed {cite:p}`ClimateModellingPrimer:4ed`\n",
    "\n",
    "> In the broadest sense, models are for learning about the world (in our case, the climate) and the learning takes place in the construction and the manipulation of the model, as anyone who has watched a child build idealised houses or spaceships with Lego, or built with it themselves, will know.  Climate models are, likewise, idealised representations of a complicated and complex reality through which our understanding of the climate has significantly expanded. All models involve some ignoring, distorting and approximating, but gradually they allow us to build understanding of the system being modelled. A child's Lego construction typically contains the essential elements of the real objects, improves with attention to detail, helps them understand the real world, but is never confused with the real thing."
   ]
  },
  {
   "cell_type": "markdown",
   "metadata": {
    "slideshow": {
     "slide_type": "slide"
    }
   },
   "source": [
    "### A minimal definition of a climate model\n",
    "\n",
    "*A representation of the exchange of energy between the Earth system and space, and its effects on average surface temperature.*\n",
    "\n",
    "What average? \n",
    "\n",
    "Note the focus on **planetary energy budget**. That’s the key to all climate modeling."
   ]
  },
  {
   "cell_type": "markdown",
   "metadata": {
    "slideshow": {
     "slide_type": "slide"
    }
   },
   "source": [
    "____________\n",
    "<a id='section2'></a>\n",
    "\n",
    "## 2. The observed global energy budget\n",
    "____________\n",
    "\n",
    "The figure below shows current best estimates of the *global, annual mean* energy fluxes through the climate system {cite:p}`Trenberth:2012a`.\n",
    "\n",
    "We will look at many of these processes in detail throughout the course."
   ]
  },
  {
   "cell_type": "markdown",
   "metadata": {
    "slideshow": {
     "slide_type": "slide"
    }
   },
   "source": [
    "![Observed global energy flows from Trenberth and Fasullo (2012)](../images/GlobalEnergyBudget.png)"
   ]
  },
  {
   "cell_type": "markdown",
   "metadata": {},
   "source": [
    "The figure above shows current best estimates of the *global, annual mean* energy fluxes through the climate system.\n",
    "\n",
    "We will look at many of these processes in detail throughout the course."
   ]
  },
  {
   "cell_type": "markdown",
   "metadata": {
    "slideshow": {
     "slide_type": "slide"
    }
   },
   "source": [
    "## Things to note:\n",
    "\n",
    "### On the shortwave side (UV and visible radiation from the sun)\n",
    "\n",
    "- Global mean albedo is 101.9 W m$^{-2}$ / 341.3 W m$^{-2}$ = 0.299\n",
    "- Reflection off clouds = 79 W m$^{-2}$\n",
    "- Off surface = 23 W m$^{-2}$\n",
    "    - 3 times as much reflection off clouds as off surface\n",
    "    \n",
    "Why? Think about both areas of ice and snow, and the fact that sunlight has to travel through cloudy atmosphere to get to the ice and snow."
   ]
  },
  {
   "cell_type": "markdown",
   "metadata": {
    "slideshow": {
     "slide_type": "slide"
    }
   },
   "source": [
    "Additionally, there is some absorption of shortwave by the atmosphere:\n",
    "\n",
    "- Atmospheric absorption = 78 W m$^{-2}$\n",
    "(so about the same as reflected by clouds)\n",
    "\n",
    "Which gases contribute to shortwave absorption?"
   ]
  },
  {
   "cell_type": "markdown",
   "metadata": {
    "slideshow": {
     "slide_type": "fragment"
    }
   },
   "source": [
    "O$_3$ and H$_2$O mostly.\n",
    "\n",
    "We will look at this later."
   ]
  },
  {
   "cell_type": "markdown",
   "metadata": {
    "slideshow": {
     "slide_type": "slide"
    }
   },
   "source": [
    "### On the longwave side (infrared radiation from the Earth-atmosphere system)\n",
    "\n",
    "- Observed emission from the surface is 396 W m$^{-2}$\n",
    "- This is very close to the blackbody emission $\\sigma T^4$ at $T = 288$ K (the global mean surface temperature).\n",
    "- But emission to space is much smaller = 239 W m$^{-2}$\n",
    "\n",
    "What do we call this? "
   ]
  },
  {
   "cell_type": "markdown",
   "metadata": {
    "slideshow": {
     "slide_type": "fragment"
    }
   },
   "source": [
    "The greenhouse effect."
   ]
  },
  {
   "cell_type": "markdown",
   "metadata": {
    "slideshow": {
     "slide_type": "slide"
    }
   },
   "source": [
    "### Look at net numbers…\n",
    "\n",
    "- Net absorbed = 0.9 W m$^{-2}$\n",
    "- Why?\n",
    "- What happens as a consequence?\n",
    "\n",
    "Note, the exchanges of energy between the surface and the atmosphere are complicated, involving a number of different processes. We will look at these more carefully later."
   ]
  },
  {
   "cell_type": "markdown",
   "metadata": {
    "slideshow": {
     "slide_type": "slide"
    }
   },
   "source": [
    "### Additional points:\n",
    "\n",
    "- Notice that this is a budget of energy, not temperature. We will need to discuss the connection between the two.\n",
    "- **Clouds** affect both longwave and shortwave sides of the budget.\n",
    "- **WATER** is involved in many of the terms: \n",
    "\n",
    "    - evaporation\n",
    "    - latent heating (equal and opposite in the global mean)\n",
    "    - clouds\n",
    "    - greenhouse effect\n",
    "    - atmospheric SW absorption\n",
    "    - surface reflectivity (ice and snow)"
   ]
  },
  {
   "cell_type": "markdown",
   "metadata": {
    "slideshow": {
     "slide_type": "slide"
    }
   },
   "source": [
    "### Discussion question\n",
    "\n",
    "How might we expect some of the terms in the global energy budget to vary under anthropogenic climate change?"
   ]
  },
  {
   "cell_type": "markdown",
   "metadata": {
    "slideshow": {
     "slide_type": "slide"
    }
   },
   "source": [
    "____________\n",
    "\n",
    "## 3. Using Python to compute emission to space\n",
    "____________"
   ]
  },
  {
   "cell_type": "markdown",
   "metadata": {},
   "source": [
    "*Most of what follows is intended as a \"fill in the blanks\" exercise. We will practice writing some Python code while discussing the physical process of longwave emission to space.*"
   ]
  },
  {
   "cell_type": "markdown",
   "metadata": {
    "slideshow": {
     "slide_type": "-"
    }
   },
   "source": [
    "### Stefan-Boltzmann Law\n",
    "\n",
    "Suppose the Earth behaves like a **blackbody radiator** with effective global mean **emission temperature $T_e$**.\n",
    "\n",
    "Then\n",
    "\n",
    "$$ OLR = \\sigma T_e^4 $$\n",
    "\n",
    "where OLR = \"Outgoing Longwave Radiation\", and $\\sigma = 5.67 \\times 10^{-8}$ W m$^{-2}$ K$^{-4}$ the Stefan-Boltzmann constant.\n",
    "\n",
    "**We can just take this as a definition of the emission temperature.**"
   ]
  },
  {
   "cell_type": "markdown",
   "metadata": {},
   "source": [
    "Looking back at the observations, the global, annual mean value for OLR is 238.5 W m$^{-2}$."
   ]
  },
  {
   "cell_type": "markdown",
   "metadata": {
    "slideshow": {
     "slide_type": "-"
    }
   },
   "source": [
    "### Calculate the emission temperature $T_e$"
   ]
  },
  {
   "cell_type": "markdown",
   "metadata": {},
   "source": [
    "Rerranging the Stefan-Boltzmann law we get\n",
    "\n",
    "$$ T_e = \\left(\\frac{\\text{OLR}}{\\sigma} \\right)^{\\frac{1}{4}} $$"
   ]
  },
  {
   "cell_type": "markdown",
   "metadata": {},
   "source": [
    "First just use Python like a hand calculator to calculate $T_e$ interactively:"
   ]
  },
  {
   "cell_type": "code",
   "execution_count": null,
   "metadata": {},
   "outputs": [],
   "source": []
  },
  {
   "cell_type": "markdown",
   "metadata": {},
   "source": [
    "Try typing a few different ways, with and without whitespace."
   ]
  },
  {
   "cell_type": "code",
   "execution_count": null,
   "metadata": {},
   "outputs": [],
   "source": []
  },
  {
   "cell_type": "markdown",
   "metadata": {},
   "source": [
    "***\n",
    "#### Python Tip\n",
    "\n",
    "Extra spaces are ignored!\n",
    "***"
   ]
  },
  {
   "cell_type": "markdown",
   "metadata": {},
   "source": [
    "But typing numbers interactively is tedious and error prone. Let's define a variable called `sigma`"
   ]
  },
  {
   "cell_type": "code",
   "execution_count": null,
   "metadata": {},
   "outputs": [],
   "source": []
  },
  {
   "cell_type": "markdown",
   "metadata": {},
   "source": [
    "***\n",
    "#### Python tip\n",
    "\n",
    "We can define new variables interactively. Variables let us give names to things. Names make our code easy to understand.\n",
    "\n",
    "To create a variable, you just assign it a value and then start using it. Assignment is done with a single equals sign `=`. Later, if you change the value and use it again, the new value will be substituted instead.\n",
    "***"
   ]
  },
  {
   "cell_type": "markdown",
   "metadata": {},
   "source": [
    "### Thoughts on emission temperature\n",
    "\n",
    "What value did we find for the emission temperature $T_e$? How does it compare to the actual global mean surface temperature?\n",
    "\n",
    "*Is the blackbody radiator a good model for the Earth's emission to space?*"
   ]
  },
  {
   "cell_type": "markdown",
   "metadata": {},
   "source": [
    "### A simple greenhouse model"
   ]
  },
  {
   "cell_type": "markdown",
   "metadata": {},
   "source": [
    "The emission to space is lower because of the greenhouse effect, which we will study in detail later. \n",
    "\n",
    "For now, let's just introduce a basic concept:\n",
    "\n",
    "*Only a fraction of the surface emission makes it out to space.* \n",
    "\n",
    "We will model the OLR as\n",
    "\n",
    "$$ \\text{OLR} = \\tau \\sigma T_s^4 $$\n",
    "\n",
    "where $\\tau$ is a number we will call the **transmissivity** of the atmosphere.\n"
   ]
  },
  {
   "cell_type": "markdown",
   "metadata": {},
   "source": [
    "Let's fit this model to observations:\n",
    "\n",
    "$$ \\tau = \\frac{\\text{OLR}}{\\sigma T_s^4} $$"
   ]
  },
  {
   "cell_type": "code",
   "execution_count": null,
   "metadata": {},
   "outputs": [],
   "source": []
  },
  {
   "cell_type": "markdown",
   "metadata": {},
   "source": [
    "Try calculating OLR for a warmer Earth at 292 K:"
   ]
  },
  {
   "cell_type": "code",
   "execution_count": null,
   "metadata": {},
   "outputs": [],
   "source": []
  },
  {
   "cell_type": "markdown",
   "metadata": {},
   "source": [
    "Naturally the emission to space is higher. By how much has it increased for this 4 degree warming?"
   ]
  },
  {
   "cell_type": "code",
   "execution_count": null,
   "metadata": {},
   "outputs": [],
   "source": []
  },
  {
   "cell_type": "markdown",
   "metadata": {},
   "source": [
    "Answer: 13.5 W m$^{-2}$. Okay but this is tedious and prone to error.\n",
    "What we really want to do is **define a reusable function**"
   ]
  },
  {
   "cell_type": "markdown",
   "metadata": {
    "slideshow": {
     "slide_type": "slide"
    }
   },
   "source": [
    "***\n",
    "## 4. Defining your own Python function\n",
    "***\n",
    "\n",
    "In programming, a function is a self-contained block of code that encapsulates a specific task or related group of tasks. "
   ]
  },
  {
   "cell_type": "markdown",
   "metadata": {
    "slideshow": {
     "slide_type": "slide"
    }
   },
   "source": [
    "Benefits of writing your own functions:\n",
    "\n",
    "* *Reusability and Abstraction* - It allows you to easily perform the same task many times, and it means that if you later need to change how it works, you only need to change the code in one location."
   ]
  },
  {
   "cell_type": "markdown",
   "metadata": {
    "slideshow": {
     "slide_type": "fragment"
    }
   },
   "source": [
    "* *Modularity* - A function also allows complex processes to be broken into smaller steps. Writing modular code isn't something we will emphasize in this course. However, as programs become more complicated, it becomes increasingly beneficial to break them up in this way."
   ]
  },
  {
   "cell_type": "markdown",
   "metadata": {
    "slideshow": {
     "slide_type": "fragment"
    }
   },
   "source": [
    "* *Namespace Separation* - Variables defined and used within a function can have the same name as variables defined in other functions or in the main program. There will be no confusion or interference because they are kept in separate namespaces."
   ]
  },
  {
   "cell_type": "markdown",
   "metadata": {
    "slideshow": {
     "slide_type": "slide"
    }
   },
   "source": [
    "The usual syntax for defining a Python function is\n",
    "\n",
    "```\n",
    "def <function_name>([<parameters>]):\n",
    "    <statement(s)>\n",
    "```\n",
    "\n",
    "`def` is the keyword that informs Python that a function is being defined\n",
    "\n",
    "`<function_name>` is a valid Python identifier that names the function\n",
    "\n",
    "`<parameters>` is an optional, comma-separated list of parameters that may be passed to the function\n",
    "\n",
    "`:` is punctuation that denotes the end of the Python function header\n",
    "\n",
    "`<statement(s)>` is a block of valid Python statements. This is the body of the function, a block of statements that will be executed with the function is called. The body of the function must be indented."
   ]
  },
  {
   "cell_type": "markdown",
   "metadata": {
    "slideshow": {
     "slide_type": "slide"
    }
   },
   "source": [
    "The syntax for calling a Python function is\n",
    "\n",
    "`<function_name>([<arguments>])`\n",
    "\n",
    "`<arguments>` are values passed into the function. They correspond to the `<parameters>` in the function definition. You can define a function that doesn't take any arguments, but the parentheses are still required."
   ]
  },
  {
   "cell_type": "markdown",
   "metadata": {
    "slideshow": {
     "slide_type": "fragment"
    }
   },
   "source": [
    "Let's start with a small example."
   ]
  },
  {
   "cell_type": "code",
   "execution_count": 1,
   "metadata": {
    "slideshow": {
     "slide_type": "slide"
    }
   },
   "outputs": [
    {
     "name": "stdout",
     "output_type": "stream",
     "text": [
      "Before calling f()\n",
      "-- Inside f()\n",
      "After calling f()\n"
     ]
    }
   ],
   "source": [
    "def f():\n",
    "    s = '-- Inside f()'\n",
    "    print(s)\n",
    "\n",
    "print('Before calling f()')\n",
    "f()\n",
    "print('After calling f()')"
   ]
  },
  {
   "cell_type": "markdown",
   "metadata": {},
   "source": [
    "*Line 1-3* defines the function.\n",
    "\n",
    "*Line 4* is a bit of whitespace tha makes the code more readable.\n",
    "\n",
    "*Line 5* is a not indented. It is part of the main program not the function. The print statement prints the arguments.\n",
    "\n",
    "*Line 6* is a call to `f()`.  Note that empty parentheses are always required in both a function definition and a function call, even when there are no parameters or arguments. Execution proceeds to `f()` and the statements in the body of `f()` are executed.\n",
    "\n",
    "*Line 7* is the next line to execute once the body of f() has finished."
   ]
  },
  {
   "cell_type": "markdown",
   "metadata": {
    "slideshow": {
     "slide_type": "slide"
    }
   },
   "source": [
    "### Argument Passing\n",
    "\n",
    "More often, though, you’ll want to pass data into a function so that its behavior can vary from one invocation to the next.\n",
    "\n",
    "Above, we calculated OLR given a surface temperature and the Stefan-Boltzmann constant. Let's define a function to do this calculation!\n",
    "\n",
    "The Stefan-Boltzmann constant is a constant. If we only need to use it inside the function, we should define it inside the function. If we need to use it elsewhere in the code, we should define it in the main program. The point is that you want to avoid defining it in multiple places because that is prone to error.\n",
    "\n",
    "The surface temperature will vary so that should be a parameter of the function."
   ]
  },
  {
   "cell_type": "code",
   "execution_count": null,
   "metadata": {
    "slideshow": {
     "slide_type": "slide"
    }
   },
   "outputs": [],
   "source": [
    "# Define a function to calculate and print OLR"
   ]
  },
  {
   "cell_type": "markdown",
   "metadata": {
    "slideshow": {
     "slide_type": "-"
    }
   },
   "source": [
    "***\n",
    "#### Python tip\n",
    "\n",
    "Comments are for developers. They describe parts of the code where necessary to facilitate the understanding of programmers, including yourself.\n",
    "\n",
    "To write a comment in Python, simply put the hash mark `#` before your desired comment:\n",
    "\n",
    "Python ignores everything after the hash mark and up to the end of the line. You can insert them anywhere in your code, even inline with other code.\n",
    "***"
   ]
  },
  {
   "cell_type": "markdown",
   "metadata": {
    "slideshow": {
     "slide_type": "-"
    }
   },
   "source": [
    "### The `return` statement"
   ]
  },
  {
   "cell_type": "markdown",
   "metadata": {},
   "source": [
    "In the above example, the function is executed but it doesn't change the calling environment. To immediately terminate the function and pass data back to the main program, the `return` statement is useful."
   ]
  },
  {
   "cell_type": "code",
   "execution_count": null,
   "metadata": {},
   "outputs": [],
   "source": [
    "# Define a function to calculate and *return* OLR"
   ]
  },
  {
   "cell_type": "markdown",
   "metadata": {},
   "source": [
    "In this case, the value is passed back to the caller. It may be assigned to a variable or not."
   ]
  },
  {
   "cell_type": "markdown",
   "metadata": {},
   "source": [
    "Recall we said that functions obey namespace separation. That means that variables defined inside the function should not exist outside the function. What happens if you try to print `print(tau)`?"
   ]
  },
  {
   "cell_type": "code",
   "execution_count": null,
   "metadata": {},
   "outputs": [],
   "source": []
  },
  {
   "cell_type": "markdown",
   "metadata": {},
   "source": [
    "### Docstrings"
   ]
  },
  {
   "cell_type": "markdown",
   "metadata": {},
   "source": [
    "Documenting code is describing its use and functionality to your users. While it may be helpful in the development process, the main intended audience is the users. Documenting your Python code is all centered on docstrings. Docstrings use the triple-double quote (`\"\"\"`) string format."
   ]
  },
  {
   "cell_type": "code",
   "execution_count": null,
   "metadata": {},
   "outputs": [],
   "source": [
    "\"\"\"This is the summary line\n",
    "\n",
    "This is the further elaboration of the docstring. Within this section,\n",
    "you can elaborate further on details as appropriate for the situation.\n",
    "Notice that the summary and the elaboration is separated by a blank new\n",
    "line.\n",
    "\"\"\"\n"
   ]
  },
  {
   "cell_type": "markdown",
   "metadata": {
    "slideshow": {
     "slide_type": "slide"
    }
   },
   "source": [
    "____________\n",
    "\n",
    "## 5. Summary\n",
    "____________"
   ]
  },
  {
   "cell_type": "markdown",
   "metadata": {},
   "source": [
    "- Climate is essentially the statistics of weather.\n",
    "- The planet warms up or cools down in response to differences between energy absorbed from the sun and energy emitted to space.\n",
    "- A climate model represents (mathematically of numerically) these exchanges of energy between the Earth system and space.\n",
    "- The observed emission to space or outgoing longwave radiation (OLR) is consistent with an emission temperature $T_e = 255$ K, much colder than Earth's surface.\n",
    "- This is evidence of the greenhouse effect.\n",
    "- We adopted a very simple greenhouse model, assuming a fixed transmissivity $\\tau$ for the atmosphere. \n",
    "- $\\tau$ conceptually represents the fraction of the emission from the surface that makes it all the way to space. It is a number between 0 and 1.\n",
    "- Python is fun and useful."
   ]
  },
  {
   "cell_type": "markdown",
   "metadata": {
    "slideshow": {
     "slide_type": "skip"
    }
   },
   "source": [
    "____________\n",
    "\n",
    "## Credits\n",
    "\n",
    "This notebook is part of The Climate Laboratory, an open-source textbook developed and maintained by [Brian E. J. Rose](http://www.atmos.albany.edu/facstaff/brose/index.html), University at Albany. It has been modified by [Nicole Feldl](http://nicolefeldl.com), UC Santa Cruz.\n",
    "\n",
    "It is licensed for free and open consumption under the\n",
    "[Creative Commons Attribution 4.0 International (CC BY 4.0)](https://creativecommons.org/licenses/by/4.0/) license.\n",
    "\n",
    "Development of these notes and the [climlab software](https://github.com/brian-rose/climlab) is partially supported by the National Science Foundation under award AGS-1455071 to Brian Rose. Any opinions, findings, conclusions or recommendations expressed here are mine and do not necessarily reflect the views of the National Science Foundation.\n",
    "____________"
   ]
  },
  {
   "cell_type": "code",
   "execution_count": null,
   "metadata": {},
   "outputs": [],
   "source": []
  }
 ],
 "metadata": {
  "anaconda-cloud": {},
  "kernelspec": {
   "display_name": "Python 3 (ipykernel)",
   "language": "python",
   "name": "python3"
  },
  "language_info": {
   "codemirror_mode": {
    "name": "ipython",
    "version": 3
   },
   "file_extension": ".py",
   "mimetype": "text/x-python",
   "name": "python",
   "nbconvert_exporter": "python",
   "pygments_lexer": "ipython3",
   "version": "3.10.4"
  }
 },
 "nbformat": 4,
 "nbformat_minor": 4
}

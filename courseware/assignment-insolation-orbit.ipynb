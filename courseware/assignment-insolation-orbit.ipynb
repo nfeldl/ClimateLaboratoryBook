{
 "cells": [
  {
   "cell_type": "markdown",
   "metadata": {},
   "source": [
    "# Assignment: Insolation and orbital parameters\n",
    "\n",
    "## Due May 19, 2024"
   ]
  },
  {
   "cell_type": "markdown",
   "metadata": {},
   "source": [
    "## Learning goals\n",
    "\n",
    "Students completing this assignment will gain the following skills and concepts:\n",
    "\n",
    "- Familiarity with the insolation functions in `climlab`\n",
    "- Familiarity with the orbital parameter look-up tables in `climlab`\n",
    "- Conceptual understanding of variability in insolation with latitude and season\n",
    "- Conceptual understanding of insolation 10,000 years ago versus today\n",
    "- Opportunity to investigate the role of annual-mean insolation in setting the annual-mean surface temperature"
   ]
  },
  {
   "cell_type": "markdown",
   "metadata": {},
   "source": [
    "## Question 1\n",
    "### 10 pts\n",
    "\n",
    "Calculate the incoming solar radiation (insolation) at three different latitudes [4 pts]:\n",
    "- the equator\n",
    "- 45ºN\n",
    "- the North Pole. \n",
    "\n",
    "Use present-day orbital parameters.\n",
    "\n",
    "1. **Make a well-labeled graph** that shows **all three insolation curves on the same plot**. The x\n",
    "axis of your graph should be days of the calendar year (beginning January 1), and the y axis should be insolation in W/m2. Include a legend showing which curve corresponds to which latitude. [3 pts]\n",
    "2. Comment on the very different shapes of these three curves. [3 pts]"
   ]
  },
  {
   "cell_type": "code",
   "execution_count": null,
   "metadata": {},
   "outputs": [],
   "source": []
  },
  {
   "cell_type": "markdown",
   "metadata": {},
   "source": [
    "## Question 2\n",
    "### 10 pts\n",
    "\n",
    "**Make the same graph using the orbital parameters of 10,000 years ago** (just after the end of the last ice age). [7pts]\n",
    "\n",
    "Compare with your graph from Question 1 to answer the following questions [1 pt each]:\n",
    "1. Was the insolation at northern high latitudes at summer solstice weaker or stronger 10,000 years ago compared to present conditions?\n",
    "2. Was the summer season longer or shorter at high northern latitudes? To see this, look at the length of time between polar sunrise and polar sunset.\n",
    "3. What other differences do you notice?"
   ]
  },
  {
   "cell_type": "code",
   "execution_count": null,
   "metadata": {},
   "outputs": [],
   "source": []
  },
  {
   "cell_type": "markdown",
   "metadata": {},
   "source": [
    "## Question 3\n",
    "### 10 pts\n",
    "\n",
    "Calculate the **annual average insolation** for an array of latitudes ranging from the South Pole to the North Pole. [6 pts]\n",
    "\n",
    "Present your results as a well-labeled graph of annual average insolation as a function of latitude. You may use either present-day, or any other orbital parameters, but make sure you explain clearly what you using. [4 pts]"
   ]
  },
  {
   "cell_type": "code",
   "execution_count": null,
   "metadata": {},
   "outputs": [],
   "source": []
  },
  {
   "cell_type": "markdown",
   "metadata": {},
   "source": [
    "## Question 4\n",
    "### 10 pts\n",
    "\n",
    "Recall that the **equilibrium temperature** in [our zero-dimensional EBM](../Lectures/zero-dim-ebm.ipynb) is\n",
    "\n",
    "$$T_{eq} = \\left( \\frac{(1-\\alpha) ~ Q}{\\tau~ \\sigma} \\right)^{\\frac{1}{4}}$$\n",
    "\n",
    "\n",
    "**Suppose that this model applies independently at every latitude, where $Q$ is the annual average insolation at that latitude** (i.e. ignore exchanges of energy between adjacent latitude bands). \n",
    "\n",
    "Using the annual mean $Q$ you computed in Question 3, calculate $T_{eq}$. Make sure to state clearly any assumptions you make about the parameter values $\\alpha, \\tau$. [6 pts]\n",
    "\n",
    "Plot $T_{eq}$ as a function of latitude. [4 pts]"
   ]
  },
  {
   "cell_type": "code",
   "execution_count": null,
   "metadata": {},
   "outputs": [],
   "source": []
  },
  {
   "cell_type": "markdown",
   "metadata": {},
   "source": [
    "## Question 5 \n",
    "### 10 pts\n",
    "\n",
    "1. What are typical **annual-average surface temperature** values at the South Pole, North Pole, and equator on Earth? Make sure to state your sources for these numbers. [3 pts]\n",
    "2. How do these compare to the equilibrium temperatures you computed in Question 4? [3 pts]\n",
    "3. Discuss some possible shortcomings of the simple model you used in Question 4. [4 pts]"
   ]
  },
  {
   "cell_type": "code",
   "execution_count": null,
   "metadata": {},
   "outputs": [],
   "source": []
  }
 ],
 "metadata": {
  "kernelspec": {
   "display_name": "Python 3 (ipykernel)",
   "language": "python",
   "name": "python3"
  },
  "language_info": {
   "codemirror_mode": {
    "name": "ipython",
    "version": 3
   },
   "file_extension": ".py",
   "mimetype": "text/x-python",
   "name": "python",
   "nbconvert_exporter": "python",
   "pygments_lexer": "ipython3",
   "version": "3.10.4"
  }
 },
 "nbformat": 4,
 "nbformat_minor": 4
}

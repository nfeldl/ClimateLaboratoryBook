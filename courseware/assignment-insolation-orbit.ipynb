{
 "cells": [
  {
   "cell_type": "markdown",
   "metadata": {},
   "source": [
    "# Assignment: Insolation and orbital parameters"
   ]
  },
  {
   "cell_type": "markdown",
   "metadata": {},
   "source": [
    "## Instructions\n",
    "\n",
    "Follow examples in the lecture notes on [Insolation](../Lectures/insolation.ipynb) and [Orbital variations](../Lectures/orbital.ipynb) to complete the following exercises."
   ]
  },
  {
   "cell_type": "markdown",
   "metadata": {},
   "source": [
    "## Problem 1\n",
    "\n",
    "Calculate the incoming solar radiation (insolation) at three different latitudes: \n",
    "- the equator\n",
    "- 45ºN\n",
    "- the North Pole. \n",
    "\n",
    "Use present-day orbital parameters.\n",
    "\n",
    "1. **Make a well-labeled graph** that shows **all three insolation curves on the same plot**. The x\n",
    "axis of your graph should be days of the calendar year (beginning January 1), and the y axis should be insolation in W/m2. Include a legend showing which curve corresponds to which latitude.\n",
    "2. Comment on the very different shapes of these three curves."
   ]
  },
  {
   "cell_type": "code",
   "execution_count": null,
   "metadata": {},
   "outputs": [],
   "source": []
  },
  {
   "cell_type": "markdown",
   "metadata": {},
   "source": [
    "## Problem 2\n",
    "\n",
    "**Make the same graph using the orbital parameters of 10,000 years ago** (just after the end of the last ice age). Compare with your graph from Problem 1 to answer these questions:\n",
    "\n",
    "1. Was the insolation at northern high latitudes at summer solstice weaker or stronger 10,000 years ago compared to present conditions?\n",
    "2. Was the summer season longer or shorter at high northern latitudes? To see this, look at the length of time between polar sunrise and polar sunset.\n",
    "3. What other differences do you notice?"
   ]
  },
  {
   "cell_type": "code",
   "execution_count": null,
   "metadata": {},
   "outputs": [],
   "source": []
  },
  {
   "cell_type": "markdown",
   "metadata": {},
   "source": [
    "## Problem 3\n",
    "\n",
    "Calculate the **annual average insolation** for an array of latitudes ranging from the South Pole to the North Pole.\n",
    "\n",
    "Present your results as a well-labeled graph of annual average insolation as a function of latitude. You may use either present-day, or any other orbital parameters, but make sure you explain clearly what you using."
   ]
  },
  {
   "cell_type": "code",
   "execution_count": null,
   "metadata": {},
   "outputs": [],
   "source": []
  },
  {
   "cell_type": "markdown",
   "metadata": {},
   "source": [
    "## Problem 4\n",
    "\n",
    "Recall that the **equilibrium temperature** in [our zero-dimensional EBM](https://brian-rose.github.io/ClimateLaboratoryBook/courseware/zero-dim-ebm.html#equilibrium-temperature) is\n",
    "\n",
    "$$T_{eq} = \\left( \\frac{(1-\\alpha) ~ Q}{\\tau~ \\sigma} \\right)^{\\frac{1}{4}}$$\n",
    "\n",
    "\n",
    "**Suppose that this model applies independently at every latitude, where $Q$ is the annual average insolation at that latitude** (i.e. ignore exchanges of energy between adjacent latitude bands). \n",
    "\n",
    "Using the annual mean $Q$ you computed in Problem 3, make a graph of $T_{eq}$ as a function of latitude. Make sure to state clearly any assumptions you make about the parameter values $\\alpha, \\tau$.\n",
    "\n"
   ]
  },
  {
   "cell_type": "code",
   "execution_count": null,
   "metadata": {},
   "outputs": [],
   "source": []
  },
  {
   "cell_type": "markdown",
   "metadata": {},
   "source": [
    "## Problem 5 \n",
    "\n",
    "1. What are typical **annual-average surface temperature** values at the South Pole, North Pole, and equator on Earth? Make sure to state your sources for these numbers. \n",
    "2. How do these compare to the equilibrium temperatures you computed in Problem 4? \n",
    "3. Discuss some possible shortcomings of the simple model you used in Problem 4."
   ]
  },
  {
   "cell_type": "code",
   "execution_count": null,
   "metadata": {},
   "outputs": [],
   "source": []
  }
 ],
 "metadata": {
  "kernelspec": {
   "display_name": "Python 3",
   "language": "python",
   "name": "python3"
  },
  "language_info": {
   "codemirror_mode": {
    "name": "ipython",
    "version": 3
   },
   "file_extension": ".py",
   "mimetype": "text/x-python",
   "name": "python",
   "nbconvert_exporter": "python",
   "pygments_lexer": "ipython3",
   "version": "3.8.10"
  }
 },
 "nbformat": 4,
 "nbformat_minor": 4
}

{
 "cells": [
  {
   "cell_type": "markdown",
   "id": "b1ada39f",
   "metadata": {},
   "source": [
    "# Assignment: Final Project Draft\n",
    "\n",
    "## Deadline: Sunday, June 2, 2024"
   ]
  },
  {
   "cell_type": "markdown",
   "id": "3b0cfc60",
   "metadata": {},
   "source": [
    "## Draft the Methods section of your final project report (see [final-project.ipynb](final-project.ipynb))."
   ]
  },
  {
   "cell_type": "markdown",
   "id": "163d622e",
   "metadata": {},
   "source": [
    "1. **Describe** in words the model you are using.\n",
    "2. Provide the code to **build** the model or open the model dataset. If applicable, **integrate** the model.\n",
    "4. **Validate** that your model is working as intended (e.g., provide a plot or some numeric values as evidence)."
   ]
  },
  {
   "cell_type": "code",
   "execution_count": null,
   "id": "29cbecd0",
   "metadata": {},
   "outputs": [],
   "source": []
  },
  {
   "cell_type": "markdown",
   "id": "583ac489",
   "metadata": {},
   "source": [
    "Before you submit this assignment, make sure that your notebook **runs cleanly without errors:**\n",
    "- Save your notebook\n",
    "- From the `Kernel` menu, select `Restart & Run All`\n",
    "- Did the notebook run from start to finish without error and produce the expected output?\n",
    "- If yes, save again and submit your notebook file\n",
    "- If no, fix the errors and try again"
   ]
  }
 ],
 "metadata": {
  "kernelspec": {
   "display_name": "Python 3 (ipykernel)",
   "language": "python",
   "name": "python3"
  },
  "language_info": {
   "codemirror_mode": {
    "name": "ipython",
    "version": 3
   },
   "file_extension": ".py",
   "mimetype": "text/x-python",
   "name": "python",
   "nbconvert_exporter": "python",
   "pygments_lexer": "ipython3",
   "version": "3.10.4"
  }
 },
 "nbformat": 4,
 "nbformat_minor": 5
}

{
 "cells": [
  {
   "cell_type": "markdown",
   "metadata": {},
   "source": [
    "# Assignment: Proposal for Final Project"
   ]
  },
  {
   "cell_type": "markdown",
   "metadata": {},
   "source": [
    "### Due: Friday, May 20. Late or incomplete submission of project proposal will result in points being docked from your final report."
   ]
  },
  {
   "cell_type": "markdown",
   "metadata": {},
   "source": [
    "From the syllabus:\n",
    "\n",
    "> Each student will complete a small independent project, submit a written report in Jupyter notebook format, and give a brief oral presentation to the class. You will choose your own topic exploring an issue in climate science and climate modeling. The project must include some original calculations described and carried out by you. These may be extensions of homework exercises or something entirely different than we covered in the course, subject to approval by the instructor."
   ]
  },
  {
   "cell_type": "markdown",
   "metadata": {},
   "source": [
    "In this assignment, you will describe the scientific problem you wish to investigate and the methods you will use to do so.\n",
    "- Answer each question below in as much detail as possible.\n",
    "- Each answer should be at least 100 words, for a total proposal length of at least 300 words.\n",
    "- The instructor(s) will review your proposal and approve your project by early next week."
   ]
  },
  {
   "cell_type": "markdown",
   "metadata": {},
   "source": [
    "## Question 1: What, specifically, do you want to do?\n",
    "\n",
    "Provide a concrete statement of the proposed project, including the scientific question to be explored or hypothesis to be tested."
   ]
  },
  {
   "cell_type": "markdown",
   "metadata": {},
   "source": []
  },
  {
   "cell_type": "markdown",
   "metadata": {},
   "source": [
    "## Question 2: Why do you want to do it?\n",
    "\n",
    "Explain your motivation. How does this specific project relate to a broader topic of wide relevance or interest?"
   ]
  },
  {
   "cell_type": "markdown",
   "metadata": {},
   "source": []
  },
  {
   "cell_type": "markdown",
   "metadata": {},
   "source": [
    "## Question 3: How do you plan to do it?\n",
    "\n",
    "Detail your proposed methodology including **which model you intend to use.** As a reminder, in this class we have gained experience with analytical models, with simple numerical models (`climlab`), and with the **output** of pre-run coupled GCMs. You may use any of these for your project, however, you will not have sufficient time to design and perform your own CESM experiment."
   ]
  },
  {
   "cell_type": "markdown",
   "metadata": {},
   "source": []
  }
 ],
 "metadata": {
  "kernelspec": {
   "display_name": "Python 3 (ipykernel)",
   "language": "python",
   "name": "python3"
  },
  "language_info": {
   "codemirror_mode": {
    "name": "ipython",
    "version": 3
   },
   "file_extension": ".py",
   "mimetype": "text/x-python",
   "name": "python",
   "nbconvert_exporter": "python",
   "pygments_lexer": "ipython3",
   "version": "3.10.4"
  }
 },
 "nbformat": 4,
 "nbformat_minor": 4
}

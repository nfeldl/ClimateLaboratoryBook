{
 "cells": [
  {
   "cell_type": "markdown",
   "metadata": {},
   "source": [
    "# Assignment: Proposal for Final Project\n",
    "\n",
    "## Deadline: Friday, May 24, 2024"
   ]
  },
  {
   "cell_type": "markdown",
   "metadata": {},
   "source": [
    "From the syllabus:\n",
    "\n",
    "> Each student will complete a small independent project, submit a written report in Jupyter notebook format, and give a brief oral presentation to the class. You will choose your own topic exploring an issue in climate science and climate modeling. The project must include some original calculations described and carried out by you. These may be extensions of homework exercises or something entirely different than we covered in the course, subject to approval by the instructor."
   ]
  },
  {
   "cell_type": "markdown",
   "metadata": {},
   "source": [
    "In this assignment, you will describe what you want to do, why you want to do it, and how you plan to do it.\n",
    "- Answer each question below in as much detail as possible.\n",
    "- The total proposal length should be about 400 words.\n",
    "- The instructor(s) will review your proposal and approve your project, or suggest revisions, by early next week."
   ]
  },
  {
   "cell_type": "markdown",
   "metadata": {},
   "source": [
    "## Question 1: What is the broad topic you are interested in exploring?\n",
    "\n",
    "This should be more general than your answer to the next question, but not so general as \"climate\" or \"climate change\" (100 words **minimum**)"
   ]
  },
  {
   "cell_type": "markdown",
   "metadata": {},
   "source": []
  },
  {
   "cell_type": "markdown",
   "metadata": {},
   "source": [
    "## Question 2: What is the scientific question to be explored or hypothesis to be tested?\n",
    "\n",
    "Provide a concrete statement of the proposed project (100 words **minimum**)"
   ]
  },
  {
   "cell_type": "markdown",
   "metadata": {},
   "source": []
  },
  {
   "cell_type": "markdown",
   "metadata": {},
   "source": [
    "## Question 3: Which model do you intend to use?\n",
    "\n",
    "As a reminder, in this class we have gained experience with analytical models, with simple numerical models (`climlab`), and with the **output** of pre-run GCMs. You may use any of these for your project, however, you will not have sufficient time to design and perform your own CESM experiment. (100 words **minimum**)"
   ]
  },
  {
   "cell_type": "markdown",
   "metadata": {},
   "source": []
  },
  {
   "cell_type": "markdown",
   "metadata": {},
   "source": [
    "## Question 4: How will you use your model to answer your question or test your hypothesis?\n",
    "\n",
    "Describe your proposed methodology or experimental design (about 100 words)"
   ]
  },
  {
   "cell_type": "markdown",
   "metadata": {},
   "source": []
  },
  {
   "cell_type": "code",
   "execution_count": null,
   "metadata": {},
   "outputs": [],
   "source": []
  }
 ],
 "metadata": {
  "kernelspec": {
   "display_name": "Python 3 (ipykernel)",
   "language": "python",
   "name": "python3"
  },
  "language_info": {
   "codemirror_mode": {
    "name": "ipython",
    "version": 3
   },
   "file_extension": ".py",
   "mimetype": "text/x-python",
   "name": "python",
   "nbconvert_exporter": "python",
   "pygments_lexer": "ipython3",
   "version": "3.10.4"
  }
 },
 "nbformat": 4,
 "nbformat_minor": 4
}

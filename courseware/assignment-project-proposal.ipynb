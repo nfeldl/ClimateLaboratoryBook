{
 "cells": [
  {
   "cell_type": "markdown",
   "metadata": {},
   "source": [
    "# Assignment: Proposal for Final Project"
   ]
  },
  {
   "cell_type": "markdown",
   "metadata": {},
   "source": [
    "From the syllabus:\n",
    "\n",
    "> Each student will complete a small independent project, submit a written report in Jupyter notebook format, and give a brief oral presentation to the class. You will choose your own topic exploring an issue in climate science and climate modeling. The project must include some original calculations described and carried out by you. These may be extensions of homework exercises or something entirely different than we covered in the course, subject to approval by the instructor."
   ]
  },
  {
   "cell_type": "markdown",
   "metadata": {},
   "source": [
    "In this assignment, you will describe what you want to do, why you want to do it, and how you plan to do it.\n",
    "- Answer each question below in as much detail as possible.\n",
    "- The total proposal length should be about 500 words.\n",
    "- The instructor(s) will review your proposal and approve your project, or suggest revisions, by early next week."
   ]
  },
  {
   "cell_type": "markdown",
   "metadata": {},
   "source": [
    "## Question 1: What is the scientific question to be explored or hypothesis to be tested?\n",
    "\n",
    "Provide a concrete statement of the proposed project (100 words **minimum**)"
   ]
  },
  {
   "cell_type": "markdown",
   "metadata": {},
   "source": []
  },
  {
   "cell_type": "markdown",
   "metadata": {},
   "source": [
    "## Question 2: How does this specific project relate to a broader topic of wide relevance or interest?\n",
    "\n",
    "Explain your motivation (100 words **minimum**)"
   ]
  },
  {
   "cell_type": "markdown",
   "metadata": {},
   "source": []
  },
  {
   "cell_type": "markdown",
   "metadata": {},
   "source": [
    "## Question 3: Which model do you intend to use?\n",
    "\n",
    "As a reminder, in this class we have gained experience with analytical models, with simple numerical models (`climlab`), and with the **output** of pre-run coupled GCMs. You may use any of these for your project, however, you will not have sufficient time to design and perform your own CESM experiment. (100 words **minimum**)"
   ]
  },
  {
   "cell_type": "markdown",
   "metadata": {},
   "source": []
  },
  {
   "cell_type": "markdown",
   "metadata": {},
   "source": [
    "## Question 4: Detail your proposed methodology or experimental design.\n",
    "\n",
    "(about 200 words)"
   ]
  },
  {
   "cell_type": "markdown",
   "metadata": {},
   "source": []
  }
 ],
 "metadata": {
  "kernelspec": {
   "display_name": "Python 3",
   "language": "python",
   "name": "python3"
  },
  "language_info": {
   "codemirror_mode": {
    "name": "ipython",
    "version": 3
   },
   "file_extension": ".py",
   "mimetype": "text/x-python",
   "name": "python",
   "nbconvert_exporter": "python",
   "pygments_lexer": "ipython3",
   "version": "3.9.13"
  }
 },
 "nbformat": 4,
 "nbformat_minor": 4
}

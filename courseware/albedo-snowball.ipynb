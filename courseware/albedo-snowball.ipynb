{
 "cells": [
  {
   "cell_type": "markdown",
   "metadata": {
    "slideshow": {
     "slide_type": "slide"
    }
   },
   "source": [
    "# Ice-albedo feedback and Snowball Earth in the EBM"
   ]
  },
  {
   "cell_type": "markdown",
   "metadata": {
    "slideshow": {
     "slide_type": "slide"
    }
   },
   "source": [
    "____________\n",
    "\n",
    "## 1. Review of the 1D EBM\n",
    "____________"
   ]
  },
  {
   "cell_type": "markdown",
   "metadata": {
    "slideshow": {
     "slide_type": "skip"
    }
   },
   "source": [
    "Last time we derived the equation for the one-dimensional EBM with diffusive heat transport:"
   ]
  },
  {
   "cell_type": "markdown",
   "metadata": {
    "slideshow": {
     "slide_type": "skip"
    }
   },
   "source": [
    "$$ C \\frac{\\partial T}{\\partial t} = (1-\\alpha) ~ Q - \\left( A + B~T \\right) + \\frac{D}{\\cos⁡\\phi } \\frac{\\partial }{\\partial \\phi} \\left(   \\cos⁡\\phi  ~ \\frac{\\partial T}{\\partial \\phi} \\right) $$\n"
   ]
  },
  {
   "cell_type": "markdown",
   "metadata": {
    "slideshow": {
     "slide_type": "skip"
    }
   },
   "source": [
    "We have chosen the following parameter values, which seems to give a reasonable fit to the observed **annual mean temperature and energy budget**:\n",
    "\n",
    "- $ A = 210 ~ \\text{W m}^{-2}$ (emission at 0$^\\circ$C)\n",
    "- $ B = 2 ~ \\text{W m}^{-2}~^\\circ\\text{C}^{-1} $ (increase in emission per degree, related to net longwave climate feedback)\n",
    "- $ D = 0.6 ~ \\text{W m}^{-2}~^\\circ\\text{C}^{-1} $ (thermal diffusivity of the climate system)"
   ]
  },
  {
   "cell_type": "markdown",
   "metadata": {
    "slideshow": {
     "slide_type": "slide"
    }
   },
   "source": [
    "We looked at the adjustment of this model to equilibrium, with annual mean insolation $\\overline{Q(\\phi)}$ and specified albedo $\\alpha(\\phi)$ (giving a reasonable fit to observations).\n",
    "\n",
    "We also tuned the diffuvisity $D$ so that our annual mean solution has a reasonable pole-to-equator temperature gradient and peak poleward heat transport.\n",
    "\n",
    "Actually for the new version of this model with interactive ice line, we are going to reduce the diffusivity down to $ D = 0.55 ~ \\text{W m}^{-2}~^\\circ\\text{C}^{-1} $."
   ]
  },
  {
   "cell_type": "markdown",
   "metadata": {
    "slideshow": {
     "slide_type": "slide"
    }
   },
   "source": [
    "____________\n",
    "<a id='section2'></a>\n",
    "\n",
    "## 2. Interactive snow/ice line in the EBM\n",
    "____________"
   ]
  },
  {
   "cell_type": "markdown",
   "metadata": {
    "slideshow": {
     "slide_type": "-"
    }
   },
   "source": [
    "What we want to do today is introduce another process into our model: an **interactive snow and ice line**. \n",
    "\n",
    "The idea is simply that, as the climate gets warmer, the snow and ice will retreat poleward, and the planetary albedo will decrease (or vice-versa)."
   ]
  },
  {
   "cell_type": "markdown",
   "metadata": {
    "slideshow": {
     "slide_type": "slide"
    }
   },
   "source": [
    "We modeled this in the zero-dimensional model by using a kind of ramp function for the global mean albedo as a function of global mean temperature.\n",
    "\n",
    "Here, since our model resolves temperature at each latitude, we want to do something more physical: *suppose that the surface is covered in ice and snow wherever the temperature is below some threshold $T_f$.*"
   ]
  },
  {
   "cell_type": "markdown",
   "metadata": {
    "slideshow": {
     "slide_type": "slide"
    }
   },
   "source": [
    "### Temperature-dependent ice line\n",
    "\n",
    "Let the surface albedo be larger wherever the temperature is below some threshold $T_f$:\n",
    "\n",
    "$$ \\alpha\\left(\\phi, T(\\phi) \\right) = \\left\\{\\begin{array}{ccc} \n",
    "\\alpha_0 + \\alpha_2 P_2(\\sin\\phi) & ~ & T(\\phi) > T_f  & \\text{(no ice)} \\\\\n",
    "a_i & ~ & T(\\phi) \\le T_f & \\text{(ice-covered)} \\\\\n",
    "\\end{array} \\right. $$\n",
    "\n",
    "where $P_2(\\sin\\phi) = \\frac{1}{2}\\left( 3\\left(\\sin\\phi\\right)^2 - 1 \\right) $ is called the *second Legendre Polynomial* (just a mathematically convenient description of a smooth variation between the equator and pole)."
   ]
  },
  {
   "cell_type": "markdown",
   "metadata": {
    "slideshow": {
     "slide_type": "slide"
    }
   },
   "source": [
    "Empirically, we follow classic work by Budyko and set the threshold temperature\n",
    "\n",
    "$$ T_f = -10^\\circ\\text{C} $$"
   ]
  },
  {
   "cell_type": "markdown",
   "metadata": {},
   "source": [
    "This is known as a \"step function\" formula, because the value of $\\alpha$ steps or jumps up to a higher value as we cross the ice line."
   ]
  },
  {
   "cell_type": "markdown",
   "metadata": {
    "slideshow": {
     "slide_type": "slide"
    }
   },
   "source": [
    "____________\n",
    "<a id='section3'></a>\n",
    "\n",
    "## 3. Solving the EBM with variable snow/ice line in CLIMLAB\n",
    "____________"
   ]
  },
  {
   "cell_type": "code",
   "execution_count": 1,
   "metadata": {
    "slideshow": {
     "slide_type": "skip"
    }
   },
   "outputs": [],
   "source": [
    "%matplotlib inline\n",
    "import numpy as np\n",
    "import matplotlib.pyplot as plt\n",
    "import climlab\n",
    "from climlab import constants as const"
   ]
  },
  {
   "cell_type": "code",
   "execution_count": 2,
   "metadata": {
    "slideshow": {
     "slide_type": "slide"
    }
   },
   "outputs": [
    {
     "name": "stdout",
     "output_type": "stream",
     "text": [
      "climlab Process of type <class 'climlab.model.ebm.EBM_annual'>. \n",
      "State variables and domain shapes: \n",
      "  Ts: (180, 1) \n",
      "The subprocess tree: \n",
      "EBM with interactive ice line: <class 'climlab.model.ebm.EBM_annual'>\n",
      "   LW: <class 'climlab.radiation.aplusbt.AplusBT'>\n",
      "   insolation: <class 'climlab.radiation.insolation.AnnualMeanInsolation'>\n",
      "   albedo: <class 'climlab.surface.albedo.StepFunctionAlbedo'>\n",
      "      iceline: <class 'climlab.surface.albedo.Iceline'>\n",
      "      warm_albedo: <class 'climlab.surface.albedo.P2Albedo'>\n",
      "      cold_albedo: <class 'climlab.surface.albedo.ConstantAlbedo'>\n",
      "   SW: <class 'climlab.radiation.absorbed_shorwave.SimpleAbsorbedShortwave'>\n",
      "   diffusion: <class 'climlab.dynamics.meridional_heat_diffusion.MeridionalHeatDiffusion'>\n",
      "\n"
     ]
    }
   ],
   "source": [
    "#  for convenience, set up a dictionary with our reference parameters\n",
    "param = {'D':0.55, 'A':210, 'B':2, 'a0':0.3, 'a2':0.078, 'ai':0.62, 'Tf':-10.}\n",
    "model1 = climlab.EBM_annual(name='EBM with interactive ice line',\n",
    "                            num_lat=180, \n",
    "                            D=0.55, \n",
    "                            A=210., \n",
    "                            B=2., \n",
    "                            Tf=-10., \n",
    "                            a0=0.3, \n",
    "                            a2=0.078, \n",
    "                            ai=0.62)\n",
    "print(model1)"
   ]
  },
  {
   "cell_type": "markdown",
   "metadata": {
    "slideshow": {
     "slide_type": "slide"
    }
   },
   "source": [
    "Because we provided a parameter `ai` for the icy albedo, our model now contains several sub-processes contained within the process called `albedo`. Together these implement the step-function formula above.\n",
    "\n",
    "The process called `iceline` simply looks for grid cells with temperature below $T_f$."
   ]
  },
  {
   "cell_type": "code",
   "execution_count": 3,
   "metadata": {
    "slideshow": {
     "slide_type": "slide"
    }
   },
   "outputs": [
    {
     "name": "stdout",
     "output_type": "stream",
     "text": [
      "{'timestep': 350632.51200000005, 'S0': 1365.2, 's2': -0.48, 'A': 210.0, 'B': 2.0, 'D': 0.55, 'Tf': -10.0, 'water_depth': 10.0, 'a0': 0.3, 'a2': 0.078, 'ai': 0.62}\n"
     ]
    }
   ],
   "source": [
    "print(model1.param)"
   ]
  },
  {
   "cell_type": "code",
   "execution_count": 4,
   "metadata": {
    "slideshow": {
     "slide_type": "slide"
    }
   },
   "outputs": [
    {
     "name": "stdout",
     "output_type": "stream",
     "text": [
      "climlab Process of type <class 'climlab.model.ebm.EBM_annual'>. \n",
      "State variables and domain shapes: \n",
      "  Ts: (180, 1) \n",
      "The subprocess tree: \n",
      "EBM with interactive ice line: <class 'climlab.model.ebm.EBM_annual'>\n",
      "   LW: <class 'climlab.radiation.aplusbt.AplusBT'>\n",
      "   insolation: <class 'climlab.radiation.insolation.AnnualMeanInsolation'>\n",
      "   albedo: <class 'climlab.surface.albedo.StepFunctionAlbedo'>\n",
      "      iceline: <class 'climlab.surface.albedo.Iceline'>\n",
      "      warm_albedo: <class 'climlab.surface.albedo.P2Albedo'>\n",
      "      cold_albedo: <class 'climlab.surface.albedo.ConstantAlbedo'>\n",
      "   SW: <class 'climlab.radiation.absorbed_shorwave.SimpleAbsorbedShortwave'>\n",
      "   diffusion: <class 'climlab.dynamics.meridional_heat_diffusion.MeridionalHeatDiffusion'>\n",
      "\n"
     ]
    }
   ],
   "source": [
    "#  A python shortcut... we can use the dictionary to pass lots of input arguments simultaneously:\n",
    "\n",
    "#  same thing as before, but written differently:\n",
    "model1 = climlab.EBM_annual(name='EBM with interactive ice line',\n",
    "                            num_lat=180,\n",
    "                            **param)\n",
    "print(model1)"
   ]
  },
  {
   "cell_type": "code",
   "execution_count": 5,
   "metadata": {
    "slideshow": {
     "slide_type": "skip"
    }
   },
   "outputs": [],
   "source": [
    "def ebm_plot(e, return_fig=False):    \n",
    "    templimits = -60,32\n",
    "    radlimits = -340, 340\n",
    "    htlimits = -6,6\n",
    "    latlimits = -90,90\n",
    "    lat_ticks = np.arange(-90,90,30)\n",
    "    \n",
    "    fig = plt.figure(figsize=(6,10))\n",
    "\n",
    "    ax1 = fig.add_subplot(3,1,1)\n",
    "    ax1.plot(e.lat, e.Ts)\n",
    "    ax1.set_ylim(templimits)\n",
    "    ax1.set_ylabel('Temperature (deg C)')\n",
    "    \n",
    "    ax2 = fig.add_subplot(3,1,2)\n",
    "    ax2.plot(e.lat, e.ASR, 'k--', label='SW' )\n",
    "    ax2.plot(e.lat, -e.OLR, 'r--', label='LW' )\n",
    "    ax2.plot(e.lat, e.net_radiation, 'c-', label='net rad' )\n",
    "    ax2.plot(e.lat, e.heat_transport_convergence, 'g--', label='dyn' )\n",
    "    ax2.plot(e.lat, e.net_radiation + e.heat_transport_convergence, 'b-', label='total' )\n",
    "    ax2.set_ylim(radlimits)\n",
    "    ax2.set_ylabel('Energy budget (W m$^{-2}$)')\n",
    "    ax2.legend()\n",
    "    \n",
    "    ax3 = fig.add_subplot(3,1,3)\n",
    "    ax3.plot(e.lat_bounds, e.heat_transport )\n",
    "    ax3.set_ylim(htlimits)\n",
    "    ax3.set_ylabel('Heat transport (PW)')\n",
    "    \n",
    "    for ax in [ax1, ax2, ax3]:\n",
    "        ax.set_xlabel('Latitude')\n",
    "        ax.set_xlim(latlimits)\n",
    "        ax.set_xticks(lat_ticks)\n",
    "        ax.grid()\n",
    "    \n",
    "    if return_fig:\n",
    "        return fig"
   ]
  },
  {
   "cell_type": "code",
   "execution_count": 6,
   "metadata": {
    "slideshow": {
     "slide_type": "slide"
    }
   },
   "outputs": [
    {
     "name": "stdout",
     "output_type": "stream",
     "text": [
      "Integrating for 450 steps, 1826.2110000000002 days, or 5 years.\n",
      "Total elapsed time is 5.000000000000044 years.\n"
     ]
    }
   ],
   "source": [
    "model1.integrate_years(5)"
   ]
  },
  {
   "cell_type": "markdown",
   "metadata": {
    "slideshow": {
     "slide_type": "slide"
    }
   },
   "source": [
    "Diagnostics in this model are mostly on the latitude axis, e.g.:"
   ]
  },
  {
   "cell_type": "code",
   "execution_count": 7,
   "metadata": {},
   "outputs": [
    {
     "data": {
      "text/html": [
       "<div><svg style=\"position: absolute; width: 0; height: 0; overflow: hidden\">\n",
       "<defs>\n",
       "<symbol id=\"icon-database\" viewBox=\"0 0 32 32\">\n",
       "<path d=\"M16 0c-8.837 0-16 2.239-16 5v4c0 2.761 7.163 5 16 5s16-2.239 16-5v-4c0-2.761-7.163-5-16-5z\"></path>\n",
       "<path d=\"M16 17c-8.837 0-16-2.239-16-5v6c0 2.761 7.163 5 16 5s16-2.239 16-5v-6c0 2.761-7.163 5-16 5z\"></path>\n",
       "<path d=\"M16 26c-8.837 0-16-2.239-16-5v6c0 2.761 7.163 5 16 5s16-2.239 16-5v-6c0 2.761-7.163 5-16 5z\"></path>\n",
       "</symbol>\n",
       "<symbol id=\"icon-file-text2\" viewBox=\"0 0 32 32\">\n",
       "<path d=\"M28.681 7.159c-0.694-0.947-1.662-2.053-2.724-3.116s-2.169-2.030-3.116-2.724c-1.612-1.182-2.393-1.319-2.841-1.319h-15.5c-1.378 0-2.5 1.121-2.5 2.5v27c0 1.378 1.122 2.5 2.5 2.5h23c1.378 0 2.5-1.122 2.5-2.5v-19.5c0-0.448-0.137-1.23-1.319-2.841zM24.543 5.457c0.959 0.959 1.712 1.825 2.268 2.543h-4.811v-4.811c0.718 0.556 1.584 1.309 2.543 2.268zM28 29.5c0 0.271-0.229 0.5-0.5 0.5h-23c-0.271 0-0.5-0.229-0.5-0.5v-27c0-0.271 0.229-0.5 0.5-0.5 0 0 15.499-0 15.5 0v7c0 0.552 0.448 1 1 1h7v19.5z\"></path>\n",
       "<path d=\"M23 26h-14c-0.552 0-1-0.448-1-1s0.448-1 1-1h14c0.552 0 1 0.448 1 1s-0.448 1-1 1z\"></path>\n",
       "<path d=\"M23 22h-14c-0.552 0-1-0.448-1-1s0.448-1 1-1h14c0.552 0 1 0.448 1 1s-0.448 1-1 1z\"></path>\n",
       "<path d=\"M23 18h-14c-0.552 0-1-0.448-1-1s0.448-1 1-1h14c0.552 0 1 0.448 1 1s-0.448 1-1 1z\"></path>\n",
       "</symbol>\n",
       "</defs>\n",
       "</svg>\n",
       "<style>/* CSS stylesheet for displaying xarray objects in jupyterlab.\n",
       " *\n",
       " */\n",
       "\n",
       ":root {\n",
       "  --xr-font-color0: var(--jp-content-font-color0, rgba(0, 0, 0, 1));\n",
       "  --xr-font-color2: var(--jp-content-font-color2, rgba(0, 0, 0, 0.54));\n",
       "  --xr-font-color3: var(--jp-content-font-color3, rgba(0, 0, 0, 0.38));\n",
       "  --xr-border-color: var(--jp-border-color2, #e0e0e0);\n",
       "  --xr-disabled-color: var(--jp-layout-color3, #bdbdbd);\n",
       "  --xr-background-color: var(--jp-layout-color0, white);\n",
       "  --xr-background-color-row-even: var(--jp-layout-color1, white);\n",
       "  --xr-background-color-row-odd: var(--jp-layout-color2, #eeeeee);\n",
       "}\n",
       "\n",
       "html[theme=dark],\n",
       "body.vscode-dark {\n",
       "  --xr-font-color0: rgba(255, 255, 255, 1);\n",
       "  --xr-font-color2: rgba(255, 255, 255, 0.54);\n",
       "  --xr-font-color3: rgba(255, 255, 255, 0.38);\n",
       "  --xr-border-color: #1F1F1F;\n",
       "  --xr-disabled-color: #515151;\n",
       "  --xr-background-color: #111111;\n",
       "  --xr-background-color-row-even: #111111;\n",
       "  --xr-background-color-row-odd: #313131;\n",
       "}\n",
       "\n",
       ".xr-wrap {\n",
       "  display: block !important;\n",
       "  min-width: 300px;\n",
       "  max-width: 700px;\n",
       "}\n",
       "\n",
       ".xr-text-repr-fallback {\n",
       "  /* fallback to plain text repr when CSS is not injected (untrusted notebook) */\n",
       "  display: none;\n",
       "}\n",
       "\n",
       ".xr-header {\n",
       "  padding-top: 6px;\n",
       "  padding-bottom: 6px;\n",
       "  margin-bottom: 4px;\n",
       "  border-bottom: solid 1px var(--xr-border-color);\n",
       "}\n",
       "\n",
       ".xr-header > div,\n",
       ".xr-header > ul {\n",
       "  display: inline;\n",
       "  margin-top: 0;\n",
       "  margin-bottom: 0;\n",
       "}\n",
       "\n",
       ".xr-obj-type,\n",
       ".xr-array-name {\n",
       "  margin-left: 2px;\n",
       "  margin-right: 10px;\n",
       "}\n",
       "\n",
       ".xr-obj-type {\n",
       "  color: var(--xr-font-color2);\n",
       "}\n",
       "\n",
       ".xr-sections {\n",
       "  padding-left: 0 !important;\n",
       "  display: grid;\n",
       "  grid-template-columns: 150px auto auto 1fr 20px 20px;\n",
       "}\n",
       "\n",
       ".xr-section-item {\n",
       "  display: contents;\n",
       "}\n",
       "\n",
       ".xr-section-item input {\n",
       "  display: none;\n",
       "}\n",
       "\n",
       ".xr-section-item input + label {\n",
       "  color: var(--xr-disabled-color);\n",
       "}\n",
       "\n",
       ".xr-section-item input:enabled + label {\n",
       "  cursor: pointer;\n",
       "  color: var(--xr-font-color2);\n",
       "}\n",
       "\n",
       ".xr-section-item input:enabled + label:hover {\n",
       "  color: var(--xr-font-color0);\n",
       "}\n",
       "\n",
       ".xr-section-summary {\n",
       "  grid-column: 1;\n",
       "  color: var(--xr-font-color2);\n",
       "  font-weight: 500;\n",
       "}\n",
       "\n",
       ".xr-section-summary > span {\n",
       "  display: inline-block;\n",
       "  padding-left: 0.5em;\n",
       "}\n",
       "\n",
       ".xr-section-summary-in:disabled + label {\n",
       "  color: var(--xr-font-color2);\n",
       "}\n",
       "\n",
       ".xr-section-summary-in + label:before {\n",
       "  display: inline-block;\n",
       "  content: '►';\n",
       "  font-size: 11px;\n",
       "  width: 15px;\n",
       "  text-align: center;\n",
       "}\n",
       "\n",
       ".xr-section-summary-in:disabled + label:before {\n",
       "  color: var(--xr-disabled-color);\n",
       "}\n",
       "\n",
       ".xr-section-summary-in:checked + label:before {\n",
       "  content: '▼';\n",
       "}\n",
       "\n",
       ".xr-section-summary-in:checked + label > span {\n",
       "  display: none;\n",
       "}\n",
       "\n",
       ".xr-section-summary,\n",
       ".xr-section-inline-details {\n",
       "  padding-top: 4px;\n",
       "  padding-bottom: 4px;\n",
       "}\n",
       "\n",
       ".xr-section-inline-details {\n",
       "  grid-column: 2 / -1;\n",
       "}\n",
       "\n",
       ".xr-section-details {\n",
       "  display: none;\n",
       "  grid-column: 1 / -1;\n",
       "  margin-bottom: 5px;\n",
       "}\n",
       "\n",
       ".xr-section-summary-in:checked ~ .xr-section-details {\n",
       "  display: contents;\n",
       "}\n",
       "\n",
       ".xr-array-wrap {\n",
       "  grid-column: 1 / -1;\n",
       "  display: grid;\n",
       "  grid-template-columns: 20px auto;\n",
       "}\n",
       "\n",
       ".xr-array-wrap > label {\n",
       "  grid-column: 1;\n",
       "  vertical-align: top;\n",
       "}\n",
       "\n",
       ".xr-preview {\n",
       "  color: var(--xr-font-color3);\n",
       "}\n",
       "\n",
       ".xr-array-preview,\n",
       ".xr-array-data {\n",
       "  padding: 0 5px !important;\n",
       "  grid-column: 2;\n",
       "}\n",
       "\n",
       ".xr-array-data,\n",
       ".xr-array-in:checked ~ .xr-array-preview {\n",
       "  display: none;\n",
       "}\n",
       "\n",
       ".xr-array-in:checked ~ .xr-array-data,\n",
       ".xr-array-preview {\n",
       "  display: inline-block;\n",
       "}\n",
       "\n",
       ".xr-dim-list {\n",
       "  display: inline-block !important;\n",
       "  list-style: none;\n",
       "  padding: 0 !important;\n",
       "  margin: 0;\n",
       "}\n",
       "\n",
       ".xr-dim-list li {\n",
       "  display: inline-block;\n",
       "  padding: 0;\n",
       "  margin: 0;\n",
       "}\n",
       "\n",
       ".xr-dim-list:before {\n",
       "  content: '(';\n",
       "}\n",
       "\n",
       ".xr-dim-list:after {\n",
       "  content: ')';\n",
       "}\n",
       "\n",
       ".xr-dim-list li:not(:last-child):after {\n",
       "  content: ',';\n",
       "  padding-right: 5px;\n",
       "}\n",
       "\n",
       ".xr-has-index {\n",
       "  font-weight: bold;\n",
       "}\n",
       "\n",
       ".xr-var-list,\n",
       ".xr-var-item {\n",
       "  display: contents;\n",
       "}\n",
       "\n",
       ".xr-var-item > div,\n",
       ".xr-var-item label,\n",
       ".xr-var-item > .xr-var-name span {\n",
       "  background-color: var(--xr-background-color-row-even);\n",
       "  margin-bottom: 0;\n",
       "}\n",
       "\n",
       ".xr-var-item > .xr-var-name:hover span {\n",
       "  padding-right: 5px;\n",
       "}\n",
       "\n",
       ".xr-var-list > li:nth-child(odd) > div,\n",
       ".xr-var-list > li:nth-child(odd) > label,\n",
       ".xr-var-list > li:nth-child(odd) > .xr-var-name span {\n",
       "  background-color: var(--xr-background-color-row-odd);\n",
       "}\n",
       "\n",
       ".xr-var-name {\n",
       "  grid-column: 1;\n",
       "}\n",
       "\n",
       ".xr-var-dims {\n",
       "  grid-column: 2;\n",
       "}\n",
       "\n",
       ".xr-var-dtype {\n",
       "  grid-column: 3;\n",
       "  text-align: right;\n",
       "  color: var(--xr-font-color2);\n",
       "}\n",
       "\n",
       ".xr-var-preview {\n",
       "  grid-column: 4;\n",
       "}\n",
       "\n",
       ".xr-var-name,\n",
       ".xr-var-dims,\n",
       ".xr-var-dtype,\n",
       ".xr-preview,\n",
       ".xr-attrs dt {\n",
       "  white-space: nowrap;\n",
       "  overflow: hidden;\n",
       "  text-overflow: ellipsis;\n",
       "  padding-right: 10px;\n",
       "}\n",
       "\n",
       ".xr-var-name:hover,\n",
       ".xr-var-dims:hover,\n",
       ".xr-var-dtype:hover,\n",
       ".xr-attrs dt:hover {\n",
       "  overflow: visible;\n",
       "  width: auto;\n",
       "  z-index: 1;\n",
       "}\n",
       "\n",
       ".xr-var-attrs,\n",
       ".xr-var-data {\n",
       "  display: none;\n",
       "  background-color: var(--xr-background-color) !important;\n",
       "  padding-bottom: 5px !important;\n",
       "}\n",
       "\n",
       ".xr-var-attrs-in:checked ~ .xr-var-attrs,\n",
       ".xr-var-data-in:checked ~ .xr-var-data {\n",
       "  display: block;\n",
       "}\n",
       "\n",
       ".xr-var-data > table {\n",
       "  float: right;\n",
       "}\n",
       "\n",
       ".xr-var-name span,\n",
       ".xr-var-data,\n",
       ".xr-attrs {\n",
       "  padding-left: 25px !important;\n",
       "}\n",
       "\n",
       ".xr-attrs,\n",
       ".xr-var-attrs,\n",
       ".xr-var-data {\n",
       "  grid-column: 1 / -1;\n",
       "}\n",
       "\n",
       "dl.xr-attrs {\n",
       "  padding: 0;\n",
       "  margin: 0;\n",
       "  display: grid;\n",
       "  grid-template-columns: 125px auto;\n",
       "}\n",
       "\n",
       ".xr-attrs dt,\n",
       ".xr-attrs dd {\n",
       "  padding: 0;\n",
       "  margin: 0;\n",
       "  float: left;\n",
       "  padding-right: 10px;\n",
       "  width: auto;\n",
       "}\n",
       "\n",
       ".xr-attrs dt {\n",
       "  font-weight: normal;\n",
       "  grid-column: 1;\n",
       "}\n",
       "\n",
       ".xr-attrs dt:hover span {\n",
       "  display: inline-block;\n",
       "  background: var(--xr-background-color);\n",
       "  padding-right: 10px;\n",
       "}\n",
       "\n",
       ".xr-attrs dd {\n",
       "  grid-column: 2;\n",
       "  white-space: pre-wrap;\n",
       "  word-break: break-all;\n",
       "}\n",
       "\n",
       ".xr-icon-database,\n",
       ".xr-icon-file-text2 {\n",
       "  display: inline-block;\n",
       "  vertical-align: middle;\n",
       "  width: 1em;\n",
       "  height: 1.5em !important;\n",
       "  stroke-width: 0;\n",
       "  stroke: currentColor;\n",
       "  fill: currentColor;\n",
       "}\n",
       "</style><pre class='xr-text-repr-fallback'>&lt;xarray.DataArray (depth: 1, lat: 180)&gt;\n",
       "array([[ 65.71797533,  65.76244815,  65.84761904,  65.97923937,\n",
       "         66.15142104,  66.36917776,  66.63263704,  66.93823592,\n",
       "         67.2910667 ,  67.69112601,  68.13642192,  68.63061992,\n",
       "         69.17502064,  69.76984994,  70.41686003,  71.11806553,\n",
       "         71.8766754 ,  72.69521702,  73.57685571,  74.52622406,\n",
       "        126.5151735 , 128.64225662, 130.94704321, 133.4799311 ,\n",
       "        136.31700247, 139.35073236, 142.52593606, 145.81221046,\n",
       "        149.18851573, 152.63894184, 156.15081983, 159.71369723,\n",
       "        163.31871561, 166.9582033 , 170.62539457, 174.3142284 ,\n",
       "        178.01919988, 181.73524799, 185.45766933, 189.1820507 ,\n",
       "        192.90421597, 196.62018373, 200.32613334, 204.01837763,\n",
       "        207.69334083, 211.3475408 , 214.97757473, 218.58010762,\n",
       "        222.15186324, 225.68961698, 229.19019037, 232.6504471 ,\n",
       "        236.06729007, 239.43765961, 242.75853253, 246.02692181,\n",
       "        249.23987716, 252.39448586, 255.48787433, 258.51720991,\n",
       "        261.47970311, 264.37261007, 267.19323534, 269.93893481,\n",
       "        272.60711881, 275.19525537, 277.70087357, 280.12156692,\n",
       "        282.45499686, 284.69889616, 286.8510725 , 288.9094118 ,\n",
       "        290.87188171, 292.73653488, 294.50151227, 296.16504627,\n",
       "        297.72546377, 299.18118908, 300.5307467 , 301.77276399,\n",
       "...\n",
       "        301.77276406, 300.53074678, 299.18118916, 297.72546386,\n",
       "        296.16504637, 294.50151238, 292.73653499, 290.87188183,\n",
       "        288.90941193, 286.85107263, 284.6988963 , 282.454997  ,\n",
       "        280.12156707, 277.70087372, 275.19525553, 272.60711897,\n",
       "        269.93893498, 267.19323552, 264.37261025, 261.4797033 ,\n",
       "        258.51721011, 255.48787453, 252.39448606, 249.23987736,\n",
       "        246.02692203, 242.75853274, 239.43765984, 236.06729029,\n",
       "        232.65044733, 229.19019061, 225.68961722, 222.15186349,\n",
       "        218.58010787, 214.97757498, 211.34754106, 207.69334109,\n",
       "        204.01837789, 200.32613361, 196.620184  , 192.90421625,\n",
       "        189.18205098, 185.45766961, 181.73524828, 178.01920017,\n",
       "        174.31422869, 170.62539486, 166.95820359, 163.31871591,\n",
       "        159.71369753, 156.15082013, 152.63894214, 149.18851604,\n",
       "        145.81221077, 142.52593637, 139.35073267, 136.31700278,\n",
       "        133.47993141, 130.94704352, 128.64225694, 126.51517382,\n",
       "         74.52622425,  73.57685591,  72.69521721,  71.87667559,\n",
       "         71.11806573,  70.41686023,  69.76985014,  69.17502084,\n",
       "         68.63062012,  68.13642212,  67.69112621,  67.2910669 ,\n",
       "         66.93823612,  66.63263724,  66.36917797,  66.15142124,\n",
       "         65.97923958,  65.84761924,  65.76244835,  65.71797553]])\n",
       "Coordinates:\n",
       "  * depth    (depth) float64 5.0\n",
       "  * lat      (lat) float64 -89.5 -88.5 -87.5 -86.5 -85.5 ... 86.5 87.5 88.5 89.5</pre><div class='xr-wrap' style='display:none'><div class='xr-header'><div class='xr-obj-type'>xarray.DataArray</div><div class='xr-array-name'></div><ul class='xr-dim-list'><li><span class='xr-has-index'>depth</span>: 1</li><li><span class='xr-has-index'>lat</span>: 180</li></ul></div><ul class='xr-sections'><li class='xr-section-item'><div class='xr-array-wrap'><input id='section-dfd25a9d-8cd1-4981-9fea-d0545873ae4a' class='xr-array-in' type='checkbox' checked><label for='section-dfd25a9d-8cd1-4981-9fea-d0545873ae4a' title='Show/hide data repr'><svg class='icon xr-icon-database'><use xlink:href='#icon-database'></use></svg></label><div class='xr-array-preview xr-preview'><span>65.72 65.76 65.85 65.98 66.15 66.37 ... 66.15 65.98 65.85 65.76 65.72</span></div><div class='xr-array-data'><pre>array([[ 65.71797533,  65.76244815,  65.84761904,  65.97923937,\n",
       "         66.15142104,  66.36917776,  66.63263704,  66.93823592,\n",
       "         67.2910667 ,  67.69112601,  68.13642192,  68.63061992,\n",
       "         69.17502064,  69.76984994,  70.41686003,  71.11806553,\n",
       "         71.8766754 ,  72.69521702,  73.57685571,  74.52622406,\n",
       "        126.5151735 , 128.64225662, 130.94704321, 133.4799311 ,\n",
       "        136.31700247, 139.35073236, 142.52593606, 145.81221046,\n",
       "        149.18851573, 152.63894184, 156.15081983, 159.71369723,\n",
       "        163.31871561, 166.9582033 , 170.62539457, 174.3142284 ,\n",
       "        178.01919988, 181.73524799, 185.45766933, 189.1820507 ,\n",
       "        192.90421597, 196.62018373, 200.32613334, 204.01837763,\n",
       "        207.69334083, 211.3475408 , 214.97757473, 218.58010762,\n",
       "        222.15186324, 225.68961698, 229.19019037, 232.6504471 ,\n",
       "        236.06729007, 239.43765961, 242.75853253, 246.02692181,\n",
       "        249.23987716, 252.39448586, 255.48787433, 258.51720991,\n",
       "        261.47970311, 264.37261007, 267.19323534, 269.93893481,\n",
       "        272.60711881, 275.19525537, 277.70087357, 280.12156692,\n",
       "        282.45499686, 284.69889616, 286.8510725 , 288.9094118 ,\n",
       "        290.87188171, 292.73653488, 294.50151227, 296.16504627,\n",
       "        297.72546377, 299.18118908, 300.5307467 , 301.77276399,\n",
       "...\n",
       "        301.77276406, 300.53074678, 299.18118916, 297.72546386,\n",
       "        296.16504637, 294.50151238, 292.73653499, 290.87188183,\n",
       "        288.90941193, 286.85107263, 284.6988963 , 282.454997  ,\n",
       "        280.12156707, 277.70087372, 275.19525553, 272.60711897,\n",
       "        269.93893498, 267.19323552, 264.37261025, 261.4797033 ,\n",
       "        258.51721011, 255.48787453, 252.39448606, 249.23987736,\n",
       "        246.02692203, 242.75853274, 239.43765984, 236.06729029,\n",
       "        232.65044733, 229.19019061, 225.68961722, 222.15186349,\n",
       "        218.58010787, 214.97757498, 211.34754106, 207.69334109,\n",
       "        204.01837789, 200.32613361, 196.620184  , 192.90421625,\n",
       "        189.18205098, 185.45766961, 181.73524828, 178.01920017,\n",
       "        174.31422869, 170.62539486, 166.95820359, 163.31871591,\n",
       "        159.71369753, 156.15082013, 152.63894214, 149.18851604,\n",
       "        145.81221077, 142.52593637, 139.35073267, 136.31700278,\n",
       "        133.47993141, 130.94704352, 128.64225694, 126.51517382,\n",
       "         74.52622425,  73.57685591,  72.69521721,  71.87667559,\n",
       "         71.11806573,  70.41686023,  69.76985014,  69.17502084,\n",
       "         68.63062012,  68.13642212,  67.69112621,  67.2910669 ,\n",
       "         66.93823612,  66.63263724,  66.36917797,  66.15142124,\n",
       "         65.97923958,  65.84761924,  65.76244835,  65.71797553]])</pre></div></div></li><li class='xr-section-item'><input id='section-85d43452-8645-48f6-98c6-5ee86eb3f825' class='xr-section-summary-in' type='checkbox'  checked><label for='section-85d43452-8645-48f6-98c6-5ee86eb3f825' class='xr-section-summary' >Coordinates: <span>(2)</span></label><div class='xr-section-inline-details'></div><div class='xr-section-details'><ul class='xr-var-list'><li class='xr-var-item'><div class='xr-var-name'><span class='xr-has-index'>depth</span></div><div class='xr-var-dims'>(depth)</div><div class='xr-var-dtype'>float64</div><div class='xr-var-preview xr-preview'>5.0</div><input id='attrs-093179da-dfb4-4f9f-864a-9213055e4436' class='xr-var-attrs-in' type='checkbox' ><label for='attrs-093179da-dfb4-4f9f-864a-9213055e4436' title='Show/Hide attributes'><svg class='icon xr-icon-file-text2'><use xlink:href='#icon-file-text2'></use></svg></label><input id='data-9642bb0b-3e7c-431a-b187-b31017da9624' class='xr-var-data-in' type='checkbox'><label for='data-9642bb0b-3e7c-431a-b187-b31017da9624' title='Show/Hide data repr'><svg class='icon xr-icon-database'><use xlink:href='#icon-database'></use></svg></label><div class='xr-var-attrs'><dl class='xr-attrs'><dt><span>units :</span></dt><dd>meters</dd></dl></div><div class='xr-var-data'><pre>array([5.])</pre></div></li><li class='xr-var-item'><div class='xr-var-name'><span class='xr-has-index'>lat</span></div><div class='xr-var-dims'>(lat)</div><div class='xr-var-dtype'>float64</div><div class='xr-var-preview xr-preview'>-89.5 -88.5 -87.5 ... 88.5 89.5</div><input id='attrs-53baea56-b535-46db-b0ed-3316326a07ba' class='xr-var-attrs-in' type='checkbox' ><label for='attrs-53baea56-b535-46db-b0ed-3316326a07ba' title='Show/Hide attributes'><svg class='icon xr-icon-file-text2'><use xlink:href='#icon-file-text2'></use></svg></label><input id='data-93029970-baee-48ab-ba0a-d0c5678a8d17' class='xr-var-data-in' type='checkbox'><label for='data-93029970-baee-48ab-ba0a-d0c5678a8d17' title='Show/Hide data repr'><svg class='icon xr-icon-database'><use xlink:href='#icon-database'></use></svg></label><div class='xr-var-attrs'><dl class='xr-attrs'><dt><span>units :</span></dt><dd>degrees</dd></dl></div><div class='xr-var-data'><pre>array([-89.5, -88.5, -87.5, -86.5, -85.5, -84.5, -83.5, -82.5, -81.5, -80.5,\n",
       "       -79.5, -78.5, -77.5, -76.5, -75.5, -74.5, -73.5, -72.5, -71.5, -70.5,\n",
       "       -69.5, -68.5, -67.5, -66.5, -65.5, -64.5, -63.5, -62.5, -61.5, -60.5,\n",
       "       -59.5, -58.5, -57.5, -56.5, -55.5, -54.5, -53.5, -52.5, -51.5, -50.5,\n",
       "       -49.5, -48.5, -47.5, -46.5, -45.5, -44.5, -43.5, -42.5, -41.5, -40.5,\n",
       "       -39.5, -38.5, -37.5, -36.5, -35.5, -34.5, -33.5, -32.5, -31.5, -30.5,\n",
       "       -29.5, -28.5, -27.5, -26.5, -25.5, -24.5, -23.5, -22.5, -21.5, -20.5,\n",
       "       -19.5, -18.5, -17.5, -16.5, -15.5, -14.5, -13.5, -12.5, -11.5, -10.5,\n",
       "        -9.5,  -8.5,  -7.5,  -6.5,  -5.5,  -4.5,  -3.5,  -2.5,  -1.5,  -0.5,\n",
       "         0.5,   1.5,   2.5,   3.5,   4.5,   5.5,   6.5,   7.5,   8.5,   9.5,\n",
       "        10.5,  11.5,  12.5,  13.5,  14.5,  15.5,  16.5,  17.5,  18.5,  19.5,\n",
       "        20.5,  21.5,  22.5,  23.5,  24.5,  25.5,  26.5,  27.5,  28.5,  29.5,\n",
       "        30.5,  31.5,  32.5,  33.5,  34.5,  35.5,  36.5,  37.5,  38.5,  39.5,\n",
       "        40.5,  41.5,  42.5,  43.5,  44.5,  45.5,  46.5,  47.5,  48.5,  49.5,\n",
       "        50.5,  51.5,  52.5,  53.5,  54.5,  55.5,  56.5,  57.5,  58.5,  59.5,\n",
       "        60.5,  61.5,  62.5,  63.5,  64.5,  65.5,  66.5,  67.5,  68.5,  69.5,\n",
       "        70.5,  71.5,  72.5,  73.5,  74.5,  75.5,  76.5,  77.5,  78.5,  79.5,\n",
       "        80.5,  81.5,  82.5,  83.5,  84.5,  85.5,  86.5,  87.5,  88.5,  89.5])</pre></div></li></ul></div></li><li class='xr-section-item'><input id='section-96b8e1b7-865e-4160-8ea0-2169b1ac680f' class='xr-section-summary-in' type='checkbox' disabled ><label for='section-96b8e1b7-865e-4160-8ea0-2169b1ac680f' class='xr-section-summary'  title='Expand/collapse section'>Attributes: <span>(0)</span></label><div class='xr-section-inline-details'></div><div class='xr-section-details'><dl class='xr-attrs'></dl></div></li></ul></div></div>"
      ],
      "text/plain": [
       "<xarray.DataArray (depth: 1, lat: 180)>\n",
       "array([[ 65.71797533,  65.76244815,  65.84761904,  65.97923937,\n",
       "         66.15142104,  66.36917776,  66.63263704,  66.93823592,\n",
       "         67.2910667 ,  67.69112601,  68.13642192,  68.63061992,\n",
       "         69.17502064,  69.76984994,  70.41686003,  71.11806553,\n",
       "         71.8766754 ,  72.69521702,  73.57685571,  74.52622406,\n",
       "        126.5151735 , 128.64225662, 130.94704321, 133.4799311 ,\n",
       "        136.31700247, 139.35073236, 142.52593606, 145.81221046,\n",
       "        149.18851573, 152.63894184, 156.15081983, 159.71369723,\n",
       "        163.31871561, 166.9582033 , 170.62539457, 174.3142284 ,\n",
       "        178.01919988, 181.73524799, 185.45766933, 189.1820507 ,\n",
       "        192.90421597, 196.62018373, 200.32613334, 204.01837763,\n",
       "        207.69334083, 211.3475408 , 214.97757473, 218.58010762,\n",
       "        222.15186324, 225.68961698, 229.19019037, 232.6504471 ,\n",
       "        236.06729007, 239.43765961, 242.75853253, 246.02692181,\n",
       "        249.23987716, 252.39448586, 255.48787433, 258.51720991,\n",
       "        261.47970311, 264.37261007, 267.19323534, 269.93893481,\n",
       "        272.60711881, 275.19525537, 277.70087357, 280.12156692,\n",
       "        282.45499686, 284.69889616, 286.8510725 , 288.9094118 ,\n",
       "        290.87188171, 292.73653488, 294.50151227, 296.16504627,\n",
       "        297.72546377, 299.18118908, 300.5307467 , 301.77276399,\n",
       "...\n",
       "        301.77276406, 300.53074678, 299.18118916, 297.72546386,\n",
       "        296.16504637, 294.50151238, 292.73653499, 290.87188183,\n",
       "        288.90941193, 286.85107263, 284.6988963 , 282.454997  ,\n",
       "        280.12156707, 277.70087372, 275.19525553, 272.60711897,\n",
       "        269.93893498, 267.19323552, 264.37261025, 261.4797033 ,\n",
       "        258.51721011, 255.48787453, 252.39448606, 249.23987736,\n",
       "        246.02692203, 242.75853274, 239.43765984, 236.06729029,\n",
       "        232.65044733, 229.19019061, 225.68961722, 222.15186349,\n",
       "        218.58010787, 214.97757498, 211.34754106, 207.69334109,\n",
       "        204.01837789, 200.32613361, 196.620184  , 192.90421625,\n",
       "        189.18205098, 185.45766961, 181.73524828, 178.01920017,\n",
       "        174.31422869, 170.62539486, 166.95820359, 163.31871591,\n",
       "        159.71369753, 156.15082013, 152.63894214, 149.18851604,\n",
       "        145.81221077, 142.52593637, 139.35073267, 136.31700278,\n",
       "        133.47993141, 130.94704352, 128.64225694, 126.51517382,\n",
       "         74.52622425,  73.57685591,  72.69521721,  71.87667559,\n",
       "         71.11806573,  70.41686023,  69.76985014,  69.17502084,\n",
       "         68.63062012,  68.13642212,  67.69112621,  67.2910669 ,\n",
       "         66.93823612,  66.63263724,  66.36917797,  66.15142124,\n",
       "         65.97923958,  65.84761924,  65.76244835,  65.71797553]])\n",
       "Coordinates:\n",
       "  * depth    (depth) float64 5.0\n",
       "  * lat      (lat) float64 -89.5 -88.5 -87.5 -86.5 -85.5 ... 86.5 87.5 88.5 89.5"
      ]
     },
     "execution_count": 7,
     "metadata": {},
     "output_type": "execute_result"
    }
   ],
   "source": [
    "model1.ASR.to_xarray()"
   ]
  },
  {
   "cell_type": "markdown",
   "metadata": {
    "slideshow": {
     "slide_type": "slide"
    }
   },
   "source": [
    "There is a built-in utility to take properly area-weighted global averages!"
   ]
  },
  {
   "cell_type": "markdown",
   "metadata": {},
   "source": [
    "This gives us the net global energy imbalance:"
   ]
  },
  {
   "cell_type": "code",
   "execution_count": 8,
   "metadata": {},
   "outputs": [
    {
     "data": {
      "text/plain": [
       "array(0.02589604)"
      ]
     },
     "execution_count": 8,
     "metadata": {},
     "output_type": "execute_result"
    }
   ],
   "source": [
    "climlab.global_mean(model1.ASR - model1.OLR)"
   ]
  },
  {
   "cell_type": "markdown",
   "metadata": {
    "slideshow": {
     "slide_type": "fragment"
    }
   },
   "source": [
    "There is also a built-in diagnostic `net_radiation` that has the same information (i.e. ASR - OLR):"
   ]
  },
  {
   "cell_type": "code",
   "execution_count": 9,
   "metadata": {},
   "outputs": [
    {
     "data": {
      "text/plain": [
       "array(0.02589604)"
      ]
     },
     "execution_count": 9,
     "metadata": {},
     "output_type": "execute_result"
    }
   ],
   "source": [
    "climlab.global_mean(model1.net_radiation)"
   ]
  },
  {
   "cell_type": "markdown",
   "metadata": {
    "slideshow": {
     "slide_type": "slide"
    }
   },
   "source": [
    "Since it's not fully equilibrated yet, we can run it out a little longer:"
   ]
  },
  {
   "cell_type": "code",
   "execution_count": 10,
   "metadata": {},
   "outputs": [
    {
     "name": "stdout",
     "output_type": "stream",
     "text": [
      "Integrating for 450 steps, 1826.2110000000002 days, or 5 years.\n",
      "Total elapsed time is 9.999999999999863 years.\n",
      "1.2815863645371637e-05\n"
     ]
    }
   ],
   "source": [
    "# Integrate out to equilibrium.\n",
    "model1.integrate_years(5)\n",
    "#  Check for energy balance\n",
    "print(climlab.global_mean(model1.net_radiation))"
   ]
  },
  {
   "cell_type": "code",
   "execution_count": 11,
   "metadata": {
    "slideshow": {
     "slide_type": "slide"
    }
   },
   "outputs": [
    {
     "data": {
      "image/png": "[encoded data removed]",
      "text/plain": [
       "<Figure size 432x720 with 3 Axes>"
      ]
     },
     "metadata": {
      "needs_background": "light"
     },
     "output_type": "display_data"
    }
   ],
   "source": [
    "f = ebm_plot(model1)"
   ]
  },
  {
   "cell_type": "code",
   "execution_count": 12,
   "metadata": {
    "slideshow": {
     "slide_type": "slide"
    }
   },
   "outputs": [
    {
     "data": {
      "text/plain": [
       "array([-70.,  70.])"
      ]
     },
     "execution_count": 12,
     "metadata": {},
     "output_type": "execute_result"
    }
   ],
   "source": [
    "#  There is a diagnostic that tells us the current location of the ice edge:\n",
    "model1.icelat"
   ]
  },
  {
   "cell_type": "markdown",
   "metadata": {},
   "source": [
    "This model is tuned up to reasonable \"present-day\" conditions."
   ]
  },
  {
   "cell_type": "markdown",
   "metadata": {
    "slideshow": {
     "slide_type": "slide"
    }
   },
   "source": [
    "____________\n",
    "<a id='section4'></a>\n",
    "\n",
    "## 4. Polar-amplified warming in the EBM\n",
    "____________"
   ]
  },
  {
   "cell_type": "markdown",
   "metadata": {
    "slideshow": {
     "slide_type": "slide"
    }
   },
   "source": [
    "### Add a small radiative forcing\n",
    "\n",
    "The equivalent of doubling CO2 in this model is something like \n",
    "\n",
    "$$ A \\rightarrow A - \\delta A $$\n",
    "\n",
    "where $\\delta A = 4$ W m$^{-2}$.\n",
    "\n"
   ]
  },
  {
   "cell_type": "code",
   "execution_count": 13,
   "metadata": {},
   "outputs": [
    {
     "data": {
      "text/plain": [
       "210"
      ]
     },
     "execution_count": 13,
     "metadata": {},
     "output_type": "execute_result"
    }
   ],
   "source": [
    "model1.subprocess['LW'].A"
   ]
  },
  {
   "cell_type": "code",
   "execution_count": 14,
   "metadata": {
    "slideshow": {
     "slide_type": "slide"
    }
   },
   "outputs": [
    {
     "data": {
      "image/png": "[encoded data removed]",
      "text/plain": [
       "<Figure size 432x288 with 1 Axes>"
      ]
     },
     "metadata": {
      "needs_background": "light"
     },
     "output_type": "display_data"
    }
   ],
   "source": [
    "deltaA = 4.\n",
    "\n",
    "#  Clone existing model:\n",
    "model2 = climlab.process_like(model1)\n",
    "\n",
    "#  Now change the longwave parameter:\n",
    "model2.subprocess['LW'].A = param['A'] - deltaA\n",
    "#  and integrate out to equilibrium again\n",
    "model2.integrate_years(5, verbose=False)\n",
    "\n",
    "plt.plot(model1.lat, model1.Ts, label='model1')\n",
    "plt.plot(model2.lat, model2.Ts, label='model2')\n",
    "plt.legend(); plt.grid()"
   ]
  },
  {
   "cell_type": "markdown",
   "metadata": {
    "slideshow": {
     "slide_type": "slide"
    }
   },
   "source": [
    "**The warming is polar-amplified**:  more warming at the poles than elsewhere.\n",
    "\n",
    "Why?\n",
    "\n",
    "Also, the current ice line is now:"
   ]
  },
  {
   "cell_type": "code",
   "execution_count": 15,
   "metadata": {},
   "outputs": [
    {
     "data": {
      "text/plain": [
       "array([-90.,  90.])"
      ]
     },
     "execution_count": 15,
     "metadata": {},
     "output_type": "execute_result"
    }
   ],
   "source": [
    "model2.icelat"
   ]
  },
  {
   "cell_type": "markdown",
   "metadata": {
    "slideshow": {
     "slide_type": "fragment"
    }
   },
   "source": [
    "There is no ice left!"
   ]
  },
  {
   "cell_type": "markdown",
   "metadata": {
    "slideshow": {
     "slide_type": "slide"
    }
   },
   "source": [
    "Let's do some more greenhouse warming:"
   ]
  },
  {
   "cell_type": "code",
   "execution_count": 16,
   "metadata": {},
   "outputs": [
    {
     "data": {
      "text/plain": [
       "<matplotlib.legend.Legend at 0x16ba1a470>"
      ]
     },
     "execution_count": 16,
     "metadata": {},
     "output_type": "execute_result"
    },
    {
     "data": {
      "image/png": "[encoded data removed]",
      "text/plain": [
       "<Figure size 432x288 with 1 Axes>"
      ]
     },
     "metadata": {
      "needs_background": "light"
     },
     "output_type": "display_data"
    }
   ],
   "source": [
    "model3 = climlab.process_like(model1)\n",
    "model3.subprocess['LW'].A = param['A'] - 2*deltaA\n",
    "model3.integrate_years(5, verbose=False)\n",
    "\n",
    "plt.plot(model1.lat, model1.Ts, label='model1')\n",
    "plt.plot(model2.lat, model2.Ts, label='model2')\n",
    "plt.plot(model3.lat, model3.Ts, label='model3')\n",
    "plt.xlim(-90, 90)\n",
    "plt.grid()\n",
    "plt.legend()"
   ]
  },
  {
   "cell_type": "markdown",
   "metadata": {
    "slideshow": {
     "slide_type": "slide"
    }
   },
   "source": [
    "In the ice-free regime, there is no polar-amplified warming in this model. A uniform radiative forcing produces a uniform warming."
   ]
  },
  {
   "cell_type": "markdown",
   "metadata": {
    "slideshow": {
     "slide_type": "slide"
    }
   },
   "source": [
    "____________\n",
    "<a id='section5'></a>\n",
    "\n",
    "## 5. A different kind of climate forcing: changing the solar constant\n",
    "____________"
   ]
  },
  {
   "cell_type": "markdown",
   "metadata": {
    "slideshow": {
     "slide_type": "slide"
    }
   },
   "source": [
    "Historically EBMs have been used to study the climatic response to a change in the energy output from the sun.\n",
    "\n",
    "We can do that easily with `climlab`:"
   ]
  },
  {
   "cell_type": "code",
   "execution_count": 17,
   "metadata": {},
   "outputs": [
    {
     "data": {
      "text/plain": [
       "1365.2"
      ]
     },
     "execution_count": 17,
     "metadata": {},
     "output_type": "execute_result"
    }
   ],
   "source": [
    "m = climlab.EBM_annual(num_lat=180, **param)\n",
    "#  The current (default) solar constant, corresponding to present-day conditions:\n",
    "m.subprocess.insolation.S0"
   ]
  },
  {
   "cell_type": "markdown",
   "metadata": {
    "slideshow": {
     "slide_type": "slide"
    }
   },
   "source": [
    "###  What happens if we decrease $S_0$?"
   ]
  },
  {
   "cell_type": "code",
   "execution_count": 18,
   "metadata": {},
   "outputs": [
    {
     "name": "stdout",
     "output_type": "stream",
     "text": [
      "Integrating for 900 steps, 3652.4220000000005 days, or 10.0 years.\n",
      "Total elapsed time is 9.999999999999863 years.\n"
     ]
    },
    {
     "data": {
      "text/plain": [
       "array(1.28158636e-05)"
      ]
     },
     "execution_count": 18,
     "metadata": {},
     "output_type": "execute_result"
    }
   ],
   "source": [
    "#  First, get to equilibrium\n",
    "m.integrate_years(10.)\n",
    "#  Check for energy balance\n",
    "climlab.global_mean(m.net_radiation)"
   ]
  },
  {
   "cell_type": "code",
   "execution_count": 19,
   "metadata": {
    "slideshow": {
     "slide_type": "fragment"
    }
   },
   "outputs": [
    {
     "data": {
      "text/plain": [
       "array([-70.,  70.])"
      ]
     },
     "execution_count": 19,
     "metadata": {},
     "output_type": "execute_result"
    }
   ],
   "source": [
    "m.icelat"
   ]
  },
  {
   "cell_type": "code",
   "execution_count": 20,
   "metadata": {
    "slideshow": {
     "slide_type": "slide"
    }
   },
   "outputs": [],
   "source": [
    "#  Now make the solar constant smaller:\n",
    "m.subprocess.insolation.S0 = 1300."
   ]
  },
  {
   "cell_type": "code",
   "execution_count": 21,
   "metadata": {},
   "outputs": [
    {
     "name": "stdout",
     "output_type": "stream",
     "text": [
      "Integrating for 900 steps, 3652.4220000000005 days, or 10.0 years.\n",
      "Total elapsed time is 19.99999999999943 years.\n"
     ]
    },
    {
     "data": {
      "text/plain": [
       "array(-0.00013409)"
      ]
     },
     "execution_count": 21,
     "metadata": {},
     "output_type": "execute_result"
    }
   ],
   "source": [
    "#  Integrate to new equilibrium\n",
    "m.integrate_years(10.)\n",
    "#  Check for energy balance\n",
    "climlab.global_mean(m.net_radiation)"
   ]
  },
  {
   "cell_type": "code",
   "execution_count": 22,
   "metadata": {
    "slideshow": {
     "slide_type": "fragment"
    }
   },
   "outputs": [
    {
     "data": {
      "text/plain": [
       "array([-54.,  54.])"
      ]
     },
     "execution_count": 22,
     "metadata": {},
     "output_type": "execute_result"
    }
   ],
   "source": [
    "m.icelat"
   ]
  },
  {
   "cell_type": "code",
   "execution_count": 23,
   "metadata": {
    "slideshow": {
     "slide_type": "slide"
    }
   },
   "outputs": [
    {
     "data": {
      "image/png": "[encoded data removed]",
      "text/plain": [
       "<Figure size 432x720 with 3 Axes>"
      ]
     },
     "metadata": {
      "needs_background": "light"
     },
     "output_type": "display_data"
    }
   ],
   "source": [
    "ebm_plot(m)"
   ]
  },
  {
   "cell_type": "markdown",
   "metadata": {
    "slideshow": {
     "slide_type": "slide"
    }
   },
   "source": [
    "A much colder climate!  The ice line is sitting at 54º. The heat transport shows that the atmosphere is moving lots of energy across the ice line, trying hard to compensate for the strong radiative cooling everywhere poleward of the ice line."
   ]
  },
  {
   "cell_type": "markdown",
   "metadata": {
    "slideshow": {
     "slide_type": "slide"
    }
   },
   "source": [
    "____________\n",
    "<a id='section6'></a>\n",
    "\n",
    "## 6. The large ice cap instability\n",
    "____________"
   ]
  },
  {
   "cell_type": "markdown",
   "metadata": {
    "slideshow": {
     "slide_type": "slide"
    }
   },
   "source": [
    "###  What happens if we decrease $S_0$ even more?\n"
   ]
  },
  {
   "cell_type": "code",
   "execution_count": 24,
   "metadata": {},
   "outputs": [
    {
     "name": "stdout",
     "output_type": "stream",
     "text": [
      "Integrating for 450 steps, 1826.2110000000002 days, or 5.0 years.\n",
      "Total elapsed time is 24.99999999999979 years.\n"
     ]
    },
    {
     "data": {
      "text/plain": [
       "array(-5.13788963)"
      ]
     },
     "execution_count": 24,
     "metadata": {},
     "output_type": "execute_result"
    }
   ],
   "source": [
    "#  Now make the solar constant smaller:\n",
    "m.subprocess.insolation.S0 = 1200.\n",
    "#  First, get to equilibrium\n",
    "m.integrate_years(5.)\n",
    "#  Check for energy balance\n",
    "climlab.global_mean(m.net_radiation)"
   ]
  },
  {
   "cell_type": "code",
   "execution_count": 25,
   "metadata": {
    "slideshow": {
     "slide_type": "fragment"
    }
   },
   "outputs": [
    {
     "name": "stdout",
     "output_type": "stream",
     "text": [
      "Integrating for 900 steps, 3652.4220000000005 days, or 10.0 years.\n",
      "Total elapsed time is 35.0000000000016 years.\n"
     ]
    },
    {
     "data": {
      "text/plain": [
       "array(-1.25838356e-06)"
      ]
     },
     "execution_count": 25,
     "metadata": {},
     "output_type": "execute_result"
    }
   ],
   "source": [
    "m.integrate_years(10.)\n",
    "#  Check for energy balance\n",
    "climlab.global_mean(m.net_radiation)"
   ]
  },
  {
   "cell_type": "code",
   "execution_count": 26,
   "metadata": {
    "slideshow": {
     "slide_type": "slide"
    }
   },
   "outputs": [
    {
     "data": {
      "image/png": "[encoded data removed]",
      "text/plain": [
       "<Figure size 432x720 with 3 Axes>"
      ]
     },
     "metadata": {
      "needs_background": "light"
     },
     "output_type": "display_data"
    }
   ],
   "source": [
    "ebm_plot(m)"
   ]
  },
  {
   "cell_type": "markdown",
   "metadata": {
    "slideshow": {
     "slide_type": "slide"
    }
   },
   "source": [
    "Something very different happened! Where is the ice line now?"
   ]
  },
  {
   "cell_type": "code",
   "execution_count": 27,
   "metadata": {},
   "outputs": [
    {
     "data": {
      "text/plain": [
       "array([-0.,  0.])"
      ]
     },
     "execution_count": 27,
     "metadata": {},
     "output_type": "execute_result"
    }
   ],
   "source": [
    "m.icelat"
   ]
  },
  {
   "cell_type": "markdown",
   "metadata": {
    "slideshow": {
     "slide_type": "slide"
    }
   },
   "source": [
    "### Now what happens if we set $S_0$ back to its present-day value?"
   ]
  },
  {
   "cell_type": "code",
   "execution_count": 28,
   "metadata": {},
   "outputs": [
    {
     "name": "stdout",
     "output_type": "stream",
     "text": [
      "Integrating for 450 steps, 1826.2110000000002 days, or 5.0 years.\n",
      "Total elapsed time is 40.0000000000025 years.\n"
     ]
    },
    {
     "data": {
      "text/plain": [
       "array(0.00790051)"
      ]
     },
     "execution_count": 28,
     "metadata": {},
     "output_type": "execute_result"
    }
   ],
   "source": [
    "#  Now make the solar constant smaller:\n",
    "m.subprocess.insolation.S0 = 1365.2\n",
    "#  First, get to equilibrium\n",
    "m.integrate_years(5.)\n",
    "#  Check for energy balance\n",
    "climlab.global_mean(m.net_radiation)"
   ]
  },
  {
   "cell_type": "code",
   "execution_count": 29,
   "metadata": {
    "slideshow": {
     "slide_type": "slide"
    }
   },
   "outputs": [
    {
     "data": {
      "image/png": "[encoded data removed]",
      "text/plain": [
       "<Figure size 432x720 with 3 Axes>"
      ]
     },
     "metadata": {
      "needs_background": "light"
     },
     "output_type": "display_data"
    }
   ],
   "source": [
    "ebm_plot(m)"
   ]
  },
  {
   "cell_type": "markdown",
   "metadata": {
    "slideshow": {
     "slide_type": "slide"
    }
   },
   "source": [
    "Is this the same climate we started with?"
   ]
  },
  {
   "cell_type": "markdown",
   "metadata": {
    "slideshow": {
     "slide_type": "fragment"
    }
   },
   "source": [
    "This is an example of a **hysteresis** in the climate system:  the state of the climate depends on its history!\n",
    "\n",
    "- A global cooling caused snow and ice to expand to the equator\n",
    "- External conditions (i.e. the solar constant) returned back to its present-day value\n",
    "- The climate stayed cold and completely ice-covered.\n",
    "\n",
    "If the oceans froze over and the Earth were covered in ice and snow today, it would remain that way!"
   ]
  },
  {
   "cell_type": "markdown",
   "metadata": {
    "slideshow": {
     "slide_type": "slide"
    }
   },
   "source": [
    "____________\n",
    "<a id='section7'></a>\n",
    "\n",
    "## 7. The Neoproterozoic Snowball Earth\n",
    "____________"
   ]
  },
  {
   "cell_type": "markdown",
   "metadata": {
    "slideshow": {
     "slide_type": "-"
    }
   },
   "source": [
    "### The Geologic Time Scale\n",
    "\n",
    "First, some information on the nomenclature for Earth history {cite:p}`GeoTimeScale:2009`:"
   ]
  },
  {
   "cell_type": "markdown",
   "metadata": {
    "slideshow": {
     "slide_type": "slide"
    }
   },
   "source": [
    "![Geological Time Scale](../images/GeoTimeScale2009.png)"
   ]
  },
  {
   "cell_type": "markdown",
   "metadata": {
    "slideshow": {
     "slide_type": "slide"
    }
   },
   "source": [
    "The long view of glacial epochs on Earth {cite:p}`Hoffman:2017a`:"
   ]
  },
  {
   "cell_type": "markdown",
   "metadata": {},
   "source": [
    "![Hoffman et al. (2017) Sci. Adv. Figure 2](../images/Hoffman_etal_SciAdv_Fig2.png)\n",
    "\n",
    "Source: [Hoffman et al. (2017), Science Advances 3:e1600983, doi:10.1126/sciadv.1600983](https://advances.sciencemag.org/lookup/doi/10.1126/sciadv.1600983)"
   ]
  },
  {
   "cell_type": "markdown",
   "metadata": {
    "slideshow": {
     "slide_type": "slide"
    }
   },
   "source": [
    "### Extensive evidence for large glaciers at sea level in the tropics \n",
    "\n",
    "Evidently the climate was **very cold** at these times (635 Ma and 715 Ma) {cite:p}`Hoffman:2009a`:"
   ]
  },
  {
   "cell_type": "markdown",
   "metadata": {},
   "source": [
    "![Hoffman and Li (2009)](../images/Hoffman_Li_2009.png)\n",
    "\n",
    "Source: [Hoffman, P. F. and Li, Z.-X. (2009). A palaeogeographic context for Neoproterozoic glaciation. Palaeogeogr. Palaeoclimatol. Palaeoecol., 277:158–172.](https://doi.org/10.1016/j.palaeo.2009.03.013)"
   ]
  },
  {
   "cell_type": "markdown",
   "metadata": {
    "slideshow": {
     "slide_type": "slide"
    }
   },
   "source": [
    "###  The Snowball Earth hypothesis\n",
    "\n",
    "Various bizarre features in the geological record from 635 and 715 Ma ago indicate that the Earth underwent some very extreme environmental changes… at least twice. The **Snowball Earth hypothesis** postulates that:\n",
    "\n",
    "- The Earth was completely ice-covered (including the oceans)\n",
    "- The total glaciation endured for millions of years\n",
    "- CO$_2$ slowly accumulated in the atmosphere from volcanoes\n",
    "- Weathering of rocks (normally acting to reduce CO$_2$) slowed due to cold, dry climate\n",
    "- Eventually the greenhouse effect became extreme enough to melt back the ice\n",
    "- The Earth then enters a period of extremely hot climate."
   ]
  },
  {
   "cell_type": "markdown",
   "metadata": {},
   "source": [
    "The hypothesis rests on a phenomenon first discovered by climate modelers in the Budyko-Sellers EBM: **runaway ice-albedo feedback** or **large ice cap instability**."
   ]
  },
  {
   "cell_type": "markdown",
   "metadata": {
    "slideshow": {
     "slide_type": "slide"
    }
   },
   "source": [
    "____________\n",
    "<a id='section8'></a>\n",
    "\n",
    "## 8. Computing the complete hysteresis curve for the 1D diffusive EBM\n",
    "____________"
   ]
  },
  {
   "cell_type": "markdown",
   "metadata": {
    "slideshow": {
     "slide_type": "skip"
    }
   },
   "source": [
    "<div class=\"alert alert-warning\">\n",
    "The calculations in this section may take a long time to complete, depending on the speed of your computer.\n",
    "</div>"
   ]
  },
  {
   "cell_type": "markdown",
   "metadata": {
    "slideshow": {
     "slide_type": "slide"
    }
   },
   "source": [
    "The ice edge in our model is always where the temperature crosses $T_f = -10^\\circ$C. The system is at **equilibrium** when the temperature is such that there is a balance between ASR, OLR, and heat transport convergence everywhere. \n",
    "\n",
    "Suppose that sun was hotter or cooler at different times (in fact it was significantly cooler during early Earth history). That would mean that the solar constant $S_0 = 4Q$ was larger or smaller. We should expect that the temperature (and thus the ice edge) should increase and decrease as we change $S_0$. "
   ]
  },
  {
   "cell_type": "markdown",
   "metadata": {
    "slideshow": {
     "slide_type": "slide"
    }
   },
   "source": [
    "$S_0$ during the Neoproterozoic Snowball Earth events is believed to be about 93% of its present-day value, or about 1270 W m$^{-2}$.\n",
    "\n",
    "We are going to look at how the **equilibrium** ice edge depends on $S_0$, by integrating the model out to equilibrium for lots of different values of $S_0$. We will start by slowly decreasing $S_0$, and then slowly increasing $S_0$."
   ]
  },
  {
   "cell_type": "code",
   "execution_count": 30,
   "metadata": {
    "slideshow": {
     "slide_type": "slide"
    }
   },
   "outputs": [
    {
     "name": "stdout",
     "output_type": "stream",
     "text": [
      "Integrating for 450 steps, 1826.2110000000002 days, or 5 years.\n",
      "Total elapsed time is 5.000000000000044 years.\n",
      "[-71.  71.]\n"
     ]
    }
   ],
   "source": [
    "m2 = climlab.EBM_annual(num_lat = 360, **param)\n",
    "m2.integrate_years(5)\n",
    "print(m2.icelat)"
   ]
  },
  {
   "cell_type": "code",
   "execution_count": 31,
   "metadata": {},
   "outputs": [],
   "source": [
    "S0array = np.linspace(1400., 1200., 200)\n",
    "\n",
    "# Initialize some arrays to store the model output\n",
    "icelat_cooling = np.empty_like(S0array)\n",
    "icelat_warming = np.empty_like(S0array)"
   ]
  },
  {
   "cell_type": "code",
   "execution_count": 32,
   "metadata": {
    "slideshow": {
     "slide_type": "slide"
    }
   },
   "outputs": [],
   "source": [
    "# First cool....\n",
    "for n in range(S0array.size):\n",
    "    m2.subprocess['insolation'].S0 = S0array[n]\n",
    "    m2.integrate_years(10, verbose=False)\n",
    "    icelat_cooling[n] = np.max(m2.icelat)\n",
    "# Then warm...\n",
    "for n in range(S0array.size):\n",
    "    m2.subprocess['insolation'].S0 = np.flipud(S0array)[n]\n",
    "    m2.integrate_years(10, verbose=False)\n",
    "    icelat_warming[n] = np.max(m2.icelat)"
   ]
  },
  {
   "cell_type": "markdown",
   "metadata": {
    "slideshow": {
     "slide_type": "slide"
    }
   },
   "source": [
    "For completeness, also start from present-day conditions and warm up."
   ]
  },
  {
   "cell_type": "code",
   "execution_count": 33,
   "metadata": {},
   "outputs": [],
   "source": [
    "m3 = climlab.EBM_annual(num_lat=360, **param)\n",
    "S0array3 = np.linspace(1350., 1400., 50)\n",
    "icelat3 = np.empty_like(S0array3)\n",
    "\n",
    "for n in range(S0array3.size):\n",
    "    m3.subprocess['insolation'].S0 = S0array3[n]\n",
    "    m3.integrate_years(10, verbose=False)\n",
    "    icelat3[n] = np.max(m3.icelat)"
   ]
  },
  {
   "cell_type": "code",
   "execution_count": 34,
   "metadata": {
    "slideshow": {
     "slide_type": "slide"
    }
   },
   "outputs": [
    {
     "data": {
      "image/png": "[encoded data removed]",
      "text/plain": [
       "<Figure size 720x432 with 1 Axes>"
      ]
     },
     "metadata": {
      "needs_background": "light"
     },
     "output_type": "display_data"
    }
   ],
   "source": [
    "fig = plt.figure( figsize=(10,6) )\n",
    "ax = fig.add_subplot(111)\n",
    "ax.plot(S0array, icelat_cooling, 'r-', label='cooling' )\n",
    "ax.plot(S0array, icelat_warming, 'b-', label='warming' )\n",
    "ax.plot(S0array3, icelat3, 'g-', label='warming' )\n",
    "ax.set_ylim(-10,100)\n",
    "ax.set_yticks((0,15,30,45,60,75,90))\n",
    "ax.grid()\n",
    "ax.set_ylabel('Ice edge latitude', fontsize=16)\n",
    "ax.set_xlabel('Solar constant (W m$^{-2}$)', fontsize=16)\n",
    "ax.plot( [const.S0, const.S0], [-10, 100], 'k--', label='present-day' )\n",
    "ax.legend(loc='upper left')\n",
    "ax.set_title('Solar constant versus ice edge latitude in the EBM with albedo feedback', fontsize=16);"
   ]
  },
  {
   "cell_type": "markdown",
   "metadata": {
    "slideshow": {
     "slide_type": "slide"
    }
   },
   "source": [
    "There are actually up to 3 different climates possible for a given value of $S_0$!"
   ]
  },
  {
   "cell_type": "markdown",
   "metadata": {
    "slideshow": {
     "slide_type": "slide"
    }
   },
   "source": [
    "### How to un-freeze the Snowball"
   ]
  },
  {
   "cell_type": "markdown",
   "metadata": {},
   "source": [
    "The graph indicates that if the Earth were completely frozen over, it would be perfectly happy to stay that way even if the sun were brighter and hotter than it is today.\n",
    "\n",
    "Our EBM predicts that (with present-day parameters) the equilibrium temperature at the equator in the Snowball state is about -33ºC, which is much colder than the threshold temperature $T_f = -10^\\circ$C. How can we melt the Snowball?"
   ]
  },
  {
   "cell_type": "markdown",
   "metadata": {
    "slideshow": {
     "slide_type": "slide"
    }
   },
   "source": [
    "We need to increase the avaible energy sufficiently to get the equatorial temperatures above this threshold! That is going to require a much larger increase in $S_0$ (could also increase the greenhouse gases, which would have a similar effect)!\n",
    "\n",
    "Let's crank up the sun to 1830 W m$^{-2}$ (about a 35% increase from present-day)."
   ]
  },
  {
   "cell_type": "code",
   "execution_count": 35,
   "metadata": {
    "slideshow": {
     "slide_type": "slide"
    }
   },
   "outputs": [
    {
     "name": "stdout",
     "output_type": "stream",
     "text": [
      "Integrating for 3600 steps, 14609.688000000002 days, or 40 years.\n",
      "Total elapsed time is 4044.99999997769 years.\n",
      "The ice edge is at [-0.  0.] degrees latitude.\n"
     ]
    },
    {
     "data": {
      "image/png": "[encoded data removed]",
      "text/plain": [
       "<Figure size 432x288 with 1 Axes>"
      ]
     },
     "metadata": {
      "needs_background": "light"
     },
     "output_type": "display_data"
    }
   ],
   "source": [
    "my_ticks = [-90,-60,-30,0,30,60,90]\n",
    "\n",
    "m4 = climlab.process_like(m2)  # initialize with cold Snowball temperature\n",
    "m4.subprocess['insolation'].S0 = 1830.\n",
    "m4.integrate_years(40)\n",
    "\n",
    "plt.plot(m4.lat, m4.Ts)\n",
    "plt.xlim(-90,90); plt.ylabel('Temperature'); plt.xlabel('Latitude')\n",
    "plt.grid(); plt.xticks(my_ticks)\n",
    "print('The ice edge is at ' + str(m4.icelat) + ' degrees latitude.' )"
   ]
  },
  {
   "cell_type": "markdown",
   "metadata": {
    "slideshow": {
     "slide_type": "slide"
    }
   },
   "source": [
    "Still a Snowball... but just barely! The temperature at the equator is just below the threshold.\n",
    "\n",
    "Try to imagine what might happen once it starts to melt. The solar constant is huge, and if it weren't for the highly reflective ice and snow, the climate would be really really hot!\n",
    "\n",
    "We're going to increase $S_0$ one more time..."
   ]
  },
  {
   "cell_type": "code",
   "execution_count": 36,
   "metadata": {
    "slideshow": {
     "slide_type": "slide"
    }
   },
   "outputs": [
    {
     "name": "stdout",
     "output_type": "stream",
     "text": [
      "Integrating for 900 steps, 3652.4220000000005 days, or 10 years.\n",
      "Total elapsed time is 4054.999999977441 years.\n"
     ]
    },
    {
     "data": {
      "image/png": "[encoded data removed]",
      "text/plain": [
       "<Figure size 432x288 with 1 Axes>"
      ]
     },
     "metadata": {
      "needs_background": "light"
     },
     "output_type": "display_data"
    }
   ],
   "source": [
    "m4.subprocess['insolation'].S0 = 1840.\n",
    "m4.integrate_years(10)\n",
    "plt.plot(m4.lat, m4.Ts)\n",
    "plt.xlim(-90,90); plt.ylabel('Temperature'); plt.xlabel('Latitude')\n",
    "plt.grid(); plt.xticks(my_ticks);"
   ]
  },
  {
   "cell_type": "markdown",
   "metadata": {
    "slideshow": {
     "slide_type": "slide"
    }
   },
   "source": [
    "Suddenly the climate looks very very different again! The global mean temperature is"
   ]
  },
  {
   "cell_type": "code",
   "execution_count": 37,
   "metadata": {},
   "outputs": [
    {
     "data": {
      "text/plain": [
       "array(57.73355447)"
      ]
     },
     "execution_count": 37,
     "metadata": {},
     "output_type": "execute_result"
    }
   ],
   "source": [
    "m4.global_mean_temperature()"
   ]
  },
  {
   "cell_type": "markdown",
   "metadata": {},
   "source": [
    "A roasty 58ºC, and the poles are above 20ºC. A tiny increase in $S_0$ has led to a very drastic change in the climate."
   ]
  },
  {
   "cell_type": "markdown",
   "metadata": {
    "slideshow": {
     "slide_type": "slide"
    }
   },
   "source": [
    "Now we will complete the plot of ice edge versus solar constant."
   ]
  },
  {
   "cell_type": "code",
   "execution_count": 38,
   "metadata": {},
   "outputs": [],
   "source": [
    "S0array_snowballmelt = np.linspace(1400., 1900., 50)\n",
    "icelat_snowballmelt = np.empty_like(S0array_snowballmelt)\n",
    "icelat_snowballmelt_cooling = np.empty_like(S0array_snowballmelt)\n",
    "\n",
    "for n in range(S0array_snowballmelt.size):\n",
    "    m2.subprocess['insolation'].S0 = S0array_snowballmelt[n]\n",
    "    m2.integrate_years(10, verbose=False)\n",
    "    icelat_snowballmelt[n] = np.max(m2.icelat)\n",
    "    \n",
    "for n in range(S0array_snowballmelt.size):\n",
    "    m2.subprocess['insolation'].S0 = np.flipud(S0array_snowballmelt)[n]\n",
    "    m2.integrate_years(10, verbose=False)\n",
    "    icelat_snowballmelt_cooling[n] = np.max(m2.icelat)"
   ]
  },
  {
   "cell_type": "code",
   "execution_count": 39,
   "metadata": {
    "slideshow": {
     "slide_type": "slide"
    }
   },
   "outputs": [
    {
     "data": {
      "image/png": "[encoded data removed]",
      "text/plain": [
       "<Figure size 1296x432 with 1 Axes>"
      ]
     },
     "metadata": {
      "needs_background": "light"
     },
     "output_type": "display_data"
    }
   ],
   "source": [
    "fig = plt.figure( figsize=(18,6) )\n",
    "ax = fig.add_subplot(111)\n",
    "ax.plot(S0array, icelat_cooling, 'r-', label='cooling' )\n",
    "ax.plot(S0array, icelat_warming, 'b-', label='warming' )\n",
    "ax.plot(S0array3, icelat3, 'g-', label='warming' )\n",
    "ax.plot(S0array_snowballmelt, icelat_snowballmelt, 'b-' )\n",
    "ax.plot(S0array_snowballmelt, icelat_snowballmelt_cooling, 'r-' )\n",
    "ax.set_ylim(-10,100)\n",
    "ax.set_yticks((0,15,30,45,60,75,90))\n",
    "ax.grid()\n",
    "ax.set_ylabel('Ice edge latitude', fontsize=16)\n",
    "ax.set_xlabel('Solar constant (W m$^{-2}$)', fontsize=16)\n",
    "ax.plot( [const.S0, const.S0], [-10, 100], 'k--', label='present-day' )\n",
    "ax.legend(loc='upper left')\n",
    "ax.set_title('Solar constant versus ice edge latitude in the EBM with albedo feedback', fontsize=16);"
   ]
  },
  {
   "cell_type": "markdown",
   "metadata": {
    "slideshow": {
     "slide_type": "slide"
    }
   },
   "source": [
    "The upshot:\n",
    "\n",
    "- For extremely large $S_0$, the only possible climate is a hot Earth with no ice.\n",
    "- For extremely small $S_0$, the only possible climate is a cold Earth completely covered in ice.\n",
    "- For a large range of $S_0$ including the present-day value, more than one climate is possible!\n",
    "- Once we get into a Snowball Earth state, getting out again is rather difficult!"
   ]
  },
  {
   "cell_type": "markdown",
   "metadata": {
    "slideshow": {
     "slide_type": "slide"
    }
   },
   "source": [
    "____________\n",
    "<a id='section2'></a>\n",
    "\n",
    "## 9. Appendix: Stability of the polar ice caps: the concept\n",
    "____________\n"
   ]
  },
  {
   "cell_type": "markdown",
   "metadata": {
    "slideshow": {
     "slide_type": "slide"
    }
   },
   "source": [
    "![Large ice cap sketch](../images/large_ice_cap_sketch.png)"
   ]
  },
  {
   "cell_type": "markdown",
   "metadata": {
    "slideshow": {
     "slide_type": "slide"
    }
   },
   "source": [
    "For small perturbations, we can relate the cooling to the displacement of the ice edge as:\n",
    "\n",
    "$$  \\delta T = -\\frac{dT}{d\\phi} \\bigg|_{\\phi_i} \\delta \\phi  $$"
   ]
  },
  {
   "cell_type": "markdown",
   "metadata": {
    "slideshow": {
     "slide_type": "slide"
    }
   },
   "source": [
    "### Stability criterion:\n",
    "\n",
    "$$ \\frac{\\delta a ~ S(\\phi_i) ~ \\cos\\phi_i}{B} < -\\frac{dT}{d\\phi} \\bigg|_{\\phi_i} \\delta \\phi  $$\n",
    "\n",
    "The LHS is **largest at the equator**, while the RHS is **large in mid-latitudes and near zero at the equator**.\n",
    "\n",
    "The conclusion:  **The ice will always grow unstably toward the equator once it reaches some critical latitude.**\n",
    "\n",
    "This is called **Large Ice Cap Instability**, and was first discovered in the Budyko-Sellers EBM."
   ]
  },
  {
   "cell_type": "markdown",
   "metadata": {
    "slideshow": {
     "slide_type": "slide"
    }
   },
   "source": [
    "____________\n",
    "\n",
    "## 10. Appendix: Global feedback analysis in the EBM\n",
    "____________"
   ]
  },
  {
   "cell_type": "markdown",
   "metadata": {
    "slideshow": {
     "slide_type": "slide"
    }
   },
   "source": [
    "For our one-dimensional EBM equation, the global-mean longwave feedback is\n",
    "\n",
    "$$ \\lambda_{LW} = -B $$\n",
    "\n",
    "the shortwave feedback is\n",
    "\n",
    "$$ \\lambda_{SW} = \\frac{\\Delta \\langle (1-\\alpha) ~ Q \\rangle}{\\Delta \\langle T_s \\rangle} $$\n",
    "\n",
    "and the net feedback is\n",
    "\n",
    "$$ \\lambda = \\lambda_{LW} + \\lambda_{SW} $$"
   ]
  },
  {
   "cell_type": "markdown",
   "metadata": {
    "slideshow": {
     "slide_type": "slide"
    }
   },
   "source": [
    "The longwave feedback is a constant in our model, by construction.\n",
    "\n",
    "The shortwave feedback, on the other hand, is **state-dependent**. The feedback depends on the detailed displacement of the ice line for a given global temperature change."
   ]
  },
  {
   "cell_type": "markdown",
   "metadata": {
    "slideshow": {
     "slide_type": "slide"
    }
   },
   "source": [
    "Let's look at what happens if we perturb the temperature -- make it 20ºC colder everywhere!"
   ]
  },
  {
   "cell_type": "code",
   "execution_count": 75,
   "metadata": {},
   "outputs": [
    {
     "name": "stdout",
     "output_type": "stream",
     "text": [
      "Integrating for 900 steps, 3652.4220000000005 days, or 10 years.\n",
      "Total elapsed time is 9.999999999999863 years.\n",
      "1.2815863645371637e-05\n"
     ]
    }
   ],
   "source": [
    "m5 = climlab.EBM_annual(name='EBM with interactive ice line',num_lat=180,**param)\n",
    "# Integrate out to equilibrium.\n",
    "m5.integrate_years(10)\n",
    "#  Check for energy balance\n",
    "print(climlab.global_mean(m5.net_radiation))\n",
    "ASRequil = m5.ASR"
   ]
  },
  {
   "cell_type": "code",
   "execution_count": 76,
   "metadata": {},
   "outputs": [],
   "source": [
    "dTs = -20.\n",
    "m5.Ts += dTs\n",
    "m5.compute_diagnostics()"
   ]
  },
  {
   "cell_type": "code",
   "execution_count": 77,
   "metadata": {
    "slideshow": {
     "slide_type": "slide"
    }
   },
   "outputs": [
    {
     "name": "stdout",
     "output_type": "stream",
     "text": [
      "The shortwave feedback is 1.0187200090745598\n"
     ]
    }
   ],
   "source": [
    "lambda_sw = climlab.global_mean(m5.ASR - ASRequil) / dTs\n",
    "print(f'The shortwave feedback is {lambda_sw}')"
   ]
  },
  {
   "cell_type": "code",
   "execution_count": 78,
   "metadata": {},
   "outputs": [
    {
     "name": "stdout",
     "output_type": "stream",
     "text": [
      "-0.9812799909254402\n"
     ]
    }
   ],
   "source": [
    "lambda_net = - m.subprocess['LW'].B + lambda_sw\n",
    "print(lambda_net)"
   ]
  },
  {
   "cell_type": "markdown",
   "metadata": {
    "slideshow": {
     "slide_type": "-"
    }
   },
   "source": [
    "The feedback is negative, as we expect! The tendency to warm up from reduced OLR outweighs the tendency to cool down from reduced ASR. A negative net feedback means that the system will relax back towards the equilibrium."
   ]
  },
  {
   "cell_type": "markdown",
   "metadata": {
    "slideshow": {
     "slide_type": "slide"
    }
   },
   "source": [
    "### Exercise\n",
    "\n",
    "- Recalculate the shortwave feedback for a larger cooling (-40 deg. C)\n",
    "- Compare it to the previous value we found above.\n",
    "- What happened? Why?\n",
    "- Is its magnitude larger or smaller than the longwave feedback parameter $B$?\n",
    "- What does that imply?"
   ]
  },
  {
   "cell_type": "code",
   "execution_count": null,
   "metadata": {},
   "outputs": [],
   "source": []
  },
  {
   "cell_type": "markdown",
   "metadata": {
    "slideshow": {
     "slide_type": "skip"
    }
   },
   "source": [
    "____________\n",
    "\n",
    "## Credits\n",
    "\n",
    "This notebook is part of The Climate Laboratory, an open-source textbook developed and maintained by [Brian E. J. Rose](http://www.atmos.albany.edu/facstaff/brose/index.html), University at Albany. It has been modified by [Nicole Feldl](http://nicolefeldl.com), UC Santa Cruz.\n",
    "\n",
    "It is licensed for free and open consumption under the\n",
    "[Creative Commons Attribution 4.0 International (CC BY 4.0)](https://creativecommons.org/licenses/by/4.0/) license.\n",
    "\n",
    "Development of these notes and the [climlab software](https://github.com/brian-rose/climlab) is partially supported by the National Science Foundation under award AGS-1455071 to Brian Rose. Any opinions, findings, conclusions or recommendations expressed here are mine and do not necessarily reflect the views of the National Science Foundation.\n",
    "____________"
   ]
  }
 ],
 "metadata": {
  "kernelspec": {
   "display_name": "Python 3 (ipykernel)",
   "language": "python",
   "name": "python3"
  },
  "language_info": {
   "codemirror_mode": {
    "name": "ipython",
    "version": 3
   },
   "file_extension": ".py",
   "mimetype": "text/x-python",
   "name": "python",
   "nbconvert_exporter": "python",
   "pygments_lexer": "ipython3",
   "version": "3.10.4"
  }
 },
 "nbformat": 4,
 "nbformat_minor": 4
}

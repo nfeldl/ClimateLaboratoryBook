{
 "cells": [
  {
   "cell_type": "markdown",
   "metadata": {
    "slideshow": {
     "slide_type": "slide"
    }
   },
   "source": [
    "# Building simple climate models using climlab"
   ]
  },
  {
   "cell_type": "markdown",
   "metadata": {
    "slideshow": {
     "slide_type": "slide"
    }
   },
   "source": [
    "____________\n",
    "<a id='section1'></a>\n",
    "\n",
    "## 1. Introducing climlab\n",
    "____________\n",
    "\n",
    "\n",
    "## About climlab\n",
    "\n",
    "climlab is a specialized python package for process-oriented climate modeling.\n",
    "\n",
    "It is based on a very general concept of a model as a collection of individual, \n",
    "interacting processes. climlab defines a base class called `Process`, which\n",
    "can contain an arbitrarily complex tree of sub-processes (each also some \n",
    "sub-class of `Process`). Every climate process (radiative, dynamical, \n",
    "physical, turbulent, convective, chemical, etc.) can be simulated as a stand-alone\n",
    "process model given appropriate input, or as a sub-process of a more complex model. \n",
    "New classes of model can easily be defined and run interactively by putting together an\n",
    "appropriate collection of sub-processes.\n",
    "\n",
    "climlab is an open-source community project. The latest code can always be found on github:\n",
    "\n",
    "https://github.com/brian-rose/climlab"
   ]
  },
  {
   "cell_type": "markdown",
   "metadata": {
    "slideshow": {
     "slide_type": "skip"
    }
   },
   "source": [
    "## Installing climlab\n",
    "\n",
    "If you are using the class JupyterHub, then you should be all set -- climlab is already installed.\n",
    "\n",
    "If you are maintaining your own Python installation (e.g. on a personal laptop), you can always install climlab by doing\n",
    "\n",
    "```\n",
    "conda install -c conda-forge climlab\n",
    "```"
   ]
  },
  {
   "cell_type": "markdown",
   "metadata": {
    "slideshow": {
     "slide_type": "slide"
    }
   },
   "source": [
    "____________\n",
    "<a id='section2'></a>\n",
    "\n",
    "## 2. Using climlab to implement the zero-dimensional energy balance model\n",
    "____________\n"
   ]
  },
  {
   "cell_type": "markdown",
   "metadata": {
    "slideshow": {
     "slide_type": "slide"
    }
   },
   "source": [
    "### The model equation (recap)\n",
    "\n",
    "Recall that we have worked with a zero-dimensional Energy Balance Model\n",
    "\n",
    "$$ C \\frac{dT_s}{dt} = (1-\\alpha) Q - \\tau \\sigma T_s^4 $$ "
   ]
  },
  {
   "cell_type": "markdown",
   "metadata": {
    "slideshow": {
     "slide_type": "fragment"
    }
   },
   "source": [
    "Here we are going to implement this exact model using climlab.\n",
    "\n",
    "Yes, we have already written code to implement this model, but we are going to repeat this effort here as a way of learning how to use climlab.\n",
    "\n",
    "There are tools within climlab to implement much more complicated models, but the basic interface will be the same."
   ]
  },
  {
   "cell_type": "markdown",
   "metadata": {
    "slideshow": {
     "slide_type": "slide"
    }
   },
   "source": [
    "### Create the state variables for the model"
   ]
  },
  {
   "cell_type": "code",
   "execution_count": 1,
   "metadata": {},
   "outputs": [],
   "source": [
    "#  As usual, we start with some import statements.\n",
    "%matplotlib inline\n",
    "import numpy as np\n",
    "import matplotlib.pyplot as plt\n",
    "import climlab  # import climlab just like any other package"
   ]
  },
  {
   "cell_type": "code",
   "execution_count": 2,
   "metadata": {
    "slideshow": {
     "slide_type": "fragment"
    }
   },
   "outputs": [
    {
     "name": "stdout",
     "output_type": "stream",
     "text": [
      "{'Ts': Field([[32.]])}\n"
     ]
    }
   ],
   "source": [
    "# create a zero-dimensional domain with a single surface temperature\n",
    "state = climlab.surface_state(num_lat=1,  # a single point\n",
    "                              water_depth = 100.,  # 100 meters slab of water (sets the heat capacity)\n",
    "                             )\n",
    "print(state)"
   ]
  },
  {
   "cell_type": "markdown",
   "metadata": {
    "slideshow": {
     "slide_type": "slide"
    }
   },
   "source": [
    "Here we have created a dictionary called `state` with a single item called `Ts`:"
   ]
  },
  {
   "cell_type": "code",
   "execution_count": 3,
   "metadata": {},
   "outputs": [
    {
     "name": "stdout",
     "output_type": "stream",
     "text": [
      "[[32.]]\n"
     ]
    }
   ],
   "source": [
    "print(state['Ts'])"
   ]
  },
  {
   "cell_type": "markdown",
   "metadata": {},
   "source": [
    "This dictionary holds the state variables for our model -- which is this case is a single number!  It is a **temperature in degrees Celsius**."
   ]
  },
  {
   "cell_type": "markdown",
   "metadata": {
    "slideshow": {
     "slide_type": "slide"
    }
   },
   "source": [
    "### An aside on the Python dict(ionary) data type\n",
    "\n",
    "Dictionaries are Python’s implementation of a data structure that is more generally known as an associative array. A dictionary consists of a collection of key-value pairs. Each key-value pair maps the key to its associated value.\n",
    "\n",
    "You can define a dictionary by enclosing a comma-separated list of key-value pairs in curly braces ({}). A colon (:) separates each key from its associated value.\n",
    "\n",
    "```\n",
    ">>> MLB_team = {\n",
    "...     'Colorado' : 'Rockies',\n",
    "...     'Boston'   : 'Red Sox',\n",
    "...     'Minnesota': 'Twins',\n",
    "...     'Milwaukee': 'Brewers',\n",
    "...     'Seattle'  : 'Mariners'\n",
    "... }\n",
    "```\n",
    "\n",
    "A value is retrieved from a dictionary by specifying its corresponding key in square brackets ([]):\n",
    "```\n",
    ">>> MLB_team['Colorado']\n",
    "'Rockies'\n",
    "```\n",
    "\n",
    "In our example above, `state` is the dictionary, `Ts` is the key, and `32.` is the value."
   ]
  },
  {
   "cell_type": "markdown",
   "metadata": {
    "slideshow": {
     "slide_type": "slide"
    }
   },
   "source": [
    "For convenience, we can access the same data as an attribute (which lets us use tab-autocomplete when doing interactive work):"
   ]
  },
  {
   "cell_type": "code",
   "execution_count": 4,
   "metadata": {},
   "outputs": [
    {
     "name": "stdout",
     "output_type": "stream",
     "text": [
      "[[32.]]\n"
     ]
    }
   ],
   "source": [
    "print(state.Ts)"
   ]
  },
  {
   "cell_type": "markdown",
   "metadata": {
    "slideshow": {
     "slide_type": "slide"
    }
   },
   "source": [
    "It is also possible to see this `state` dictionary as an `xarray.Dataset` object:"
   ]
  },
  {
   "cell_type": "code",
   "execution_count": 5,
   "metadata": {},
   "outputs": [
    {
     "data": {
      "text/plain": [
       "<xarray.Dataset>\n",
       "Dimensions:       (depth: 1, depth_bounds: 2, lat: 1, lat_bounds: 2)\n",
       "Coordinates:\n",
       "  * depth         (depth) float64 50.0\n",
       "  * lat           (lat) float64 0.0\n",
       "  * depth_bounds  (depth_bounds) float64 0.0 100.0\n",
       "  * lat_bounds    (lat_bounds) float64 -90.0 90.0\n",
       "Data variables:\n",
       "    Ts            (depth, lat) float64 32.0"
      ]
     },
     "execution_count": 5,
     "metadata": {},
     "output_type": "execute_result"
    }
   ],
   "source": [
    "climlab.to_xarray(state)"
   ]
  },
  {
   "cell_type": "markdown",
   "metadata": {
    "slideshow": {
     "slide_type": "slide"
    }
   },
   "source": [
    "### Create the subcomponents of the model"
   ]
  },
  {
   "cell_type": "code",
   "execution_count": 6,
   "metadata": {},
   "outputs": [
    {
     "name": "stdout",
     "output_type": "stream",
     "text": [
      "climlab Process of type <class 'climlab.radiation.boltzmann.Boltzmann'>. \n",
      "State variables and domain shapes: \n",
      "  Ts: (1, 1) \n",
      "The subprocess tree: \n",
      "OutgoingLongwave: <class 'climlab.radiation.boltzmann.Boltzmann'>\n",
      "\n"
     ]
    }
   ],
   "source": [
    "#  create the longwave radiation process\n",
    "olr = climlab.radiation.Boltzmann(name='OutgoingLongwave',\n",
    "                                  state=state, \n",
    "                                  tau = 0.612,\n",
    "                                  eps = 1.,\n",
    "                                  timestep = 60*60*24*30.)\n",
    "#  Look at what we just created\n",
    "print(olr)"
   ]
  },
  {
   "cell_type": "code",
   "execution_count": 7,
   "metadata": {
    "slideshow": {
     "slide_type": "slide"
    }
   },
   "outputs": [
    {
     "name": "stdout",
     "output_type": "stream",
     "text": [
      "climlab Process of type <class 'climlab.radiation.absorbed_shorwave.SimpleAbsorbedShortwave'>. \n",
      "State variables and domain shapes: \n",
      "  Ts: (1, 1) \n",
      "The subprocess tree: \n",
      "AbsorbedShortwave: <class 'climlab.radiation.absorbed_shorwave.SimpleAbsorbedShortwave'>\n",
      "\n"
     ]
    }
   ],
   "source": [
    "#  create the shortwave radiation process\n",
    "asr = climlab.radiation.SimpleAbsorbedShortwave(name='AbsorbedShortwave',\n",
    "                                                state=state, \n",
    "                                                insolation=341.3, \n",
    "                                                albedo=0.299,\n",
    "                                                timestep = 60*60*24*30.)\n",
    "#  Look at what we just created\n",
    "print(asr)"
   ]
  },
  {
   "cell_type": "markdown",
   "metadata": {
    "slideshow": {
     "slide_type": "slide"
    }
   },
   "source": [
    "### Create the model by coupling the subcomponents"
   ]
  },
  {
   "cell_type": "code",
   "execution_count": 8,
   "metadata": {},
   "outputs": [
    {
     "name": "stdout",
     "output_type": "stream",
     "text": [
      "climlab Process of type <class 'climlab.process.time_dependent_process.TimeDependentProcess'>. \n",
      "State variables and domain shapes: \n",
      "  Ts: (1, 1) \n",
      "The subprocess tree: \n",
      "EnergyBalanceModel: <class 'climlab.process.time_dependent_process.TimeDependentProcess'>\n",
      "   OutgoingLongwave: <class 'climlab.radiation.boltzmann.Boltzmann'>\n",
      "   AbsorbedShortwave: <class 'climlab.radiation.absorbed_shorwave.SimpleAbsorbedShortwave'>\n",
      "\n"
     ]
    }
   ],
   "source": [
    "#  couple them together into a single model\n",
    "ebm = climlab.couple([olr,asr])\n",
    "#  Give the parent process name\n",
    "ebm.name = 'EnergyBalanceModel'\n",
    "#  Examine the model object\n",
    "print(ebm)"
   ]
  },
  {
   "cell_type": "markdown",
   "metadata": {},
   "source": [
    "The object called `ebm` here is the entire model -- including its current state (the temperature `Ts`) as well as all the methods needed to integrated forward in time!"
   ]
  },
  {
   "cell_type": "markdown",
   "metadata": {
    "slideshow": {
     "slide_type": "slide"
    }
   },
   "source": [
    "The current model state, accessed two ways:"
   ]
  },
  {
   "cell_type": "code",
   "execution_count": 9,
   "metadata": {},
   "outputs": [
    {
     "name": "stdout",
     "output_type": "stream",
     "text": [
      "{'Ts': Field([[32.]])}\n"
     ]
    }
   ],
   "source": [
    "print(ebm.state)"
   ]
  },
  {
   "cell_type": "code",
   "execution_count": 10,
   "metadata": {},
   "outputs": [
    {
     "name": "stdout",
     "output_type": "stream",
     "text": [
      "[[32.]]\n"
     ]
    }
   ],
   "source": [
    "print(ebm.Ts)"
   ]
  },
  {
   "cell_type": "markdown",
   "metadata": {
    "slideshow": {
     "slide_type": "slide"
    }
   },
   "source": [
    "### Take a single timestep forward"
   ]
  },
  {
   "cell_type": "markdown",
   "metadata": {},
   "source": [
    "Here is some internal information about the timestep of the model:"
   ]
  },
  {
   "cell_type": "code",
   "execution_count": 11,
   "metadata": {},
   "outputs": [
    {
     "name": "stdout",
     "output_type": "stream",
     "text": [
      "2592000.0\n",
      "0\n"
     ]
    }
   ],
   "source": [
    "print(ebm.time['timestep'])\n",
    "print(ebm.time['steps'])"
   ]
  },
  {
   "cell_type": "markdown",
   "metadata": {},
   "source": [
    "This says the timestep is 2592000 seconds (30 days!), and the model has taken 0 steps forward so far."
   ]
  },
  {
   "cell_type": "markdown",
   "metadata": {
    "slideshow": {
     "slide_type": "slide"
    }
   },
   "source": [
    "To take a single step forward:"
   ]
  },
  {
   "cell_type": "code",
   "execution_count": 12,
   "metadata": {},
   "outputs": [],
   "source": [
    "ebm.step_forward()"
   ]
  },
  {
   "cell_type": "code",
   "execution_count": 13,
   "metadata": {},
   "outputs": [
    {
     "data": {
      "text/plain": [
       "Field([[31.61786227]])"
      ]
     },
     "execution_count": 13,
     "metadata": {},
     "output_type": "execute_result"
    }
   ],
   "source": [
    "ebm.Ts"
   ]
  },
  {
   "cell_type": "markdown",
   "metadata": {
    "slideshow": {
     "slide_type": "fragment"
    }
   },
   "source": [
    "The model got colder!\n",
    "\n",
    "To see why, let's look at some useful diagnostics computed by this model:"
   ]
  },
  {
   "cell_type": "code",
   "execution_count": 14,
   "metadata": {
    "slideshow": {
     "slide_type": "slide"
    }
   },
   "outputs": [
    {
     "data": {
      "text/plain": [
       "{'OLR': Field([[300.896072]]), 'ASR': 239.25130000000004}"
      ]
     },
     "execution_count": 14,
     "metadata": {},
     "output_type": "execute_result"
    }
   ],
   "source": [
    "ebm.diagnostics"
   ]
  },
  {
   "cell_type": "markdown",
   "metadata": {},
   "source": [
    "This is another dictionary, now with two items. They should make sense to you.\n",
    "\n",
    "Just like the `state` variables, we can access these `diagnostics` variables as attributes:"
   ]
  },
  {
   "cell_type": "code",
   "execution_count": 15,
   "metadata": {
    "slideshow": {
     "slide_type": "slide"
    }
   },
   "outputs": [
    {
     "data": {
      "text/plain": [
       "Field([[300.896072]])"
      ]
     },
     "execution_count": 15,
     "metadata": {},
     "output_type": "execute_result"
    }
   ],
   "source": [
    "ebm.OLR"
   ]
  },
  {
   "cell_type": "code",
   "execution_count": 16,
   "metadata": {},
   "outputs": [
    {
     "data": {
      "text/plain": [
       "239.25130000000004"
      ]
     },
     "execution_count": 16,
     "metadata": {},
     "output_type": "execute_result"
    }
   ],
   "source": [
    "ebm.ASR"
   ]
  },
  {
   "cell_type": "markdown",
   "metadata": {},
   "source": [
    "So why did the model get colder in the first timestep?\n",
    "\n",
    "What do you think will happen next?"
   ]
  },
  {
   "cell_type": "markdown",
   "metadata": {
    "slideshow": {
     "slide_type": "slide"
    }
   },
   "source": [
    "____________\n",
    "<a id='section3'></a>\n",
    "\n",
    "## 3. Run the zero-dimensional EBM out to equilibrium\n",
    "____________"
   ]
  },
  {
   "cell_type": "markdown",
   "metadata": {},
   "source": [
    "Let's look at how the model adjusts toward its equilibrium temperature.\n",
    "\n",
    "### Exercise\n",
    "\n",
    "- Using a `for` loop, take 500 steps forward with this model\n",
    "- Store the current temperature at each step in an array\n",
    "- Make a graph of the temperature as a function of time"
   ]
  },
  {
   "cell_type": "code",
   "execution_count": null,
   "metadata": {},
   "outputs": [],
   "source": []
  },
  {
   "cell_type": "markdown",
   "metadata": {
    "slideshow": {
     "slide_type": "slide"
    }
   },
   "source": [
    "____________\n",
    "<a id='section4'></a>\n",
    "\n",
    "## 4. A climate change scenario \n",
    "____________"
   ]
  },
  {
   "cell_type": "markdown",
   "metadata": {},
   "source": [
    "### Description of the scenario\n",
    "\n",
    "Suppose we want to investigate the effects of a small decrease in the transmissitivity of the atmosphere `tau`. \n",
    "\n",
    "Previously we used the zero-dimensional model to investigate a **hypothetical climate change scenario** in which:\n",
    "- the transmissitivity of the atmosphere `tau` decreases to 0.57\n",
    "- the planetary albedo increases to 0.32"
   ]
  },
  {
   "cell_type": "markdown",
   "metadata": {
    "slideshow": {
     "slide_type": "slide"
    }
   },
   "source": [
    "### Implement the scenario in climlab\n",
    "\n",
    "How would we do that using `climlab`?\n",
    "\n",
    "Recall that the model is comprised of two sub-components:"
   ]
  },
  {
   "cell_type": "code",
   "execution_count": 17,
   "metadata": {},
   "outputs": [
    {
     "name": "stdout",
     "output_type": "stream",
     "text": [
      "{'OutgoingLongwave': <climlab.radiation.boltzmann.Boltzmann object at 0x11abb1a20>, 'AbsorbedShortwave': <climlab.radiation.absorbed_shorwave.SimpleAbsorbedShortwave object at 0x11abb1c50>}\n"
     ]
    }
   ],
   "source": [
    "print(ebm.subprocess)"
   ]
  },
  {
   "cell_type": "markdown",
   "metadata": {
    "slideshow": {
     "slide_type": "-"
    }
   },
   "source": [
    "When looping through dictionaries, the key and corresponding value can be retrieved at the same time using the `items()` method."
   ]
  },
  {
   "cell_type": "code",
   "execution_count": 18,
   "metadata": {
    "slideshow": {
     "slide_type": "slide"
    }
   },
   "outputs": [
    {
     "name": "stdout",
     "output_type": "stream",
     "text": [
      "OutgoingLongwave\n",
      "climlab Process of type <class 'climlab.radiation.boltzmann.Boltzmann'>. \n",
      "State variables and domain shapes: \n",
      "  Ts: (1, 1) \n",
      "The subprocess tree: \n",
      "OutgoingLongwave: <class 'climlab.radiation.boltzmann.Boltzmann'>\n",
      "\n",
      "AbsorbedShortwave\n",
      "climlab Process of type <class 'climlab.radiation.absorbed_shorwave.SimpleAbsorbedShortwave'>. \n",
      "State variables and domain shapes: \n",
      "  Ts: (1, 1) \n",
      "The subprocess tree: \n",
      "AbsorbedShortwave: <class 'climlab.radiation.absorbed_shorwave.SimpleAbsorbedShortwave'>\n",
      "\n"
     ]
    }
   ],
   "source": [
    "for name, process in ebm.subprocess.items():\n",
    "    print(name)\n",
    "    print(process)"
   ]
  },
  {
   "cell_type": "markdown",
   "metadata": {
    "slideshow": {
     "slide_type": "slide"
    }
   },
   "source": [
    "The parameter `tau` is a property of the `OutgoingLongwave` subprocess:"
   ]
  },
  {
   "cell_type": "code",
   "execution_count": 19,
   "metadata": {},
   "outputs": [
    {
     "data": {
      "text/plain": [
       "0.612"
      ]
     },
     "execution_count": 19,
     "metadata": {},
     "output_type": "execute_result"
    }
   ],
   "source": [
    "ebm.subprocess['OutgoingLongwave'].tau"
   ]
  },
  {
   "cell_type": "markdown",
   "metadata": {
    "slideshow": {
     "slide_type": "fragment"
    }
   },
   "source": [
    "and the parameter `albedo` is a property of the `AbsorbedShortwave` subprocess:"
   ]
  },
  {
   "cell_type": "code",
   "execution_count": 20,
   "metadata": {},
   "outputs": [
    {
     "data": {
      "text/plain": [
       "0.299"
      ]
     },
     "execution_count": 20,
     "metadata": {},
     "output_type": "execute_result"
    }
   ],
   "source": [
    "ebm.subprocess['AbsorbedShortwave'].albedo"
   ]
  },
  {
   "cell_type": "markdown",
   "metadata": {
    "slideshow": {
     "slide_type": "slide"
    }
   },
   "source": [
    "Let's make an exact clone of our model and then change these two parameters:"
   ]
  },
  {
   "cell_type": "code",
   "execution_count": 21,
   "metadata": {},
   "outputs": [
    {
     "name": "stdout",
     "output_type": "stream",
     "text": [
      "climlab Process of type <class 'climlab.process.time_dependent_process.TimeDependentProcess'>. \n",
      "State variables and domain shapes: \n",
      "  Ts: (1, 1) \n",
      "The subprocess tree: \n",
      "EnergyBalanceModel: <class 'climlab.process.time_dependent_process.TimeDependentProcess'>\n",
      "   OutgoingLongwave: <class 'climlab.radiation.boltzmann.Boltzmann'>\n",
      "   AbsorbedShortwave: <class 'climlab.radiation.absorbed_shorwave.SimpleAbsorbedShortwave'>\n",
      "\n"
     ]
    }
   ],
   "source": [
    "ebm2 = climlab.process_like(ebm)\n",
    "print(ebm2)"
   ]
  },
  {
   "cell_type": "code",
   "execution_count": 22,
   "metadata": {
    "slideshow": {
     "slide_type": "slide"
    }
   },
   "outputs": [],
   "source": [
    "ebm2.subprocess['OutgoingLongwave'].tau = 0.57\n",
    "ebm2.subprocess['AbsorbedShortwave'].albedo = 0.32"
   ]
  },
  {
   "cell_type": "markdown",
   "metadata": {},
   "source": [
    "Now our model is out of equilibrium and the climate will change!\n",
    "\n",
    "To see this without actually taking a step forward:"
   ]
  },
  {
   "cell_type": "code",
   "execution_count": 23,
   "metadata": {
    "slideshow": {
     "slide_type": "fragment"
    }
   },
   "outputs": [
    {
     "data": {
      "text/plain": [
       "Field([[-46.76117229]])"
      ]
     },
     "execution_count": 23,
     "metadata": {},
     "output_type": "execute_result"
    }
   ],
   "source": [
    "#  Computes diagnostics based on current state but does not change the state\n",
    "ebm2.compute_diagnostics()\n",
    "ebm2.ASR - ebm2.OLR"
   ]
  },
  {
   "cell_type": "markdown",
   "metadata": {},
   "source": [
    "Shoud the model warm up or cool down?"
   ]
  },
  {
   "cell_type": "markdown",
   "metadata": {
    "slideshow": {
     "slide_type": "slide"
    }
   },
   "source": [
    "Well, we can find out:"
   ]
  },
  {
   "cell_type": "code",
   "execution_count": 24,
   "metadata": {},
   "outputs": [
    {
     "data": {
      "text/plain": [
       "Field([[31.61786227]])"
      ]
     },
     "execution_count": 24,
     "metadata": {},
     "output_type": "execute_result"
    }
   ],
   "source": [
    "ebm2.Ts"
   ]
  },
  {
   "cell_type": "code",
   "execution_count": 25,
   "metadata": {
    "slideshow": {
     "slide_type": "fragment"
    }
   },
   "outputs": [],
   "source": [
    "ebm2.step_forward()"
   ]
  },
  {
   "cell_type": "code",
   "execution_count": 26,
   "metadata": {},
   "outputs": [
    {
     "data": {
      "text/plain": [
       "Field([[31.32798841]])"
      ]
     },
     "execution_count": 26,
     "metadata": {},
     "output_type": "execute_result"
    }
   ],
   "source": [
    "ebm2.Ts"
   ]
  },
  {
   "cell_type": "markdown",
   "metadata": {
    "slideshow": {
     "slide_type": "slide"
    }
   },
   "source": [
    "### Automatic timestepping"
   ]
  },
  {
   "cell_type": "markdown",
   "metadata": {},
   "source": [
    "Often we want to integrate a model forward in time to equilibrium without needing to store information about the transient state.\n",
    "\n",
    "`climlab` offers convenience methods to do this easily:"
   ]
  },
  {
   "cell_type": "code",
   "execution_count": 27,
   "metadata": {},
   "outputs": [],
   "source": [
    "ebm3 = climlab.process_like(ebm2)"
   ]
  },
  {
   "cell_type": "code",
   "execution_count": 28,
   "metadata": {},
   "outputs": [
    {
     "name": "stdout",
     "output_type": "stream",
     "text": [
      "Integrating for 608 steps, 18262.11 days, or 50 years.\n",
      "Total elapsed time is 50.10373938170343 years.\n"
     ]
    }
   ],
   "source": [
    "ebm3.integrate_years(50)\n",
    "# note the number of steps below--we'll see this again in a moment"
   ]
  },
  {
   "cell_type": "code",
   "execution_count": 29,
   "metadata": {
    "slideshow": {
     "slide_type": "slide"
    }
   },
   "outputs": [
    {
     "data": {
      "text/plain": [
       "Field([[17.94837835]])"
      ]
     },
     "execution_count": 29,
     "metadata": {},
     "output_type": "execute_result"
    }
   ],
   "source": [
    "#  What is the current temperature?\n",
    "ebm3.Ts"
   ]
  },
  {
   "cell_type": "code",
   "execution_count": 30,
   "metadata": {},
   "outputs": [
    {
     "data": {
      "text/plain": [
       "Field([[-0.00021699]])"
      ]
     },
     "execution_count": 30,
     "metadata": {},
     "output_type": "execute_result"
    }
   ],
   "source": [
    "#  How close are we to energy balance?\n",
    "ebm3.ASR - ebm3.OLR"
   ]
  },
  {
   "cell_type": "code",
   "execution_count": 31,
   "metadata": {
    "slideshow": {
     "slide_type": "slide"
    }
   },
   "outputs": [],
   "source": [
    "#  We should be able to accomplish the exact same thing with explicit timestepping\n",
    "for n in range(608):\n",
    "    ebm2.step_forward()"
   ]
  },
  {
   "cell_type": "code",
   "execution_count": 32,
   "metadata": {},
   "outputs": [
    {
     "data": {
      "text/plain": [
       "Field([[17.94837835]])"
      ]
     },
     "execution_count": 32,
     "metadata": {},
     "output_type": "execute_result"
    }
   ],
   "source": [
    "ebm2.Ts"
   ]
  },
  {
   "cell_type": "code",
   "execution_count": 33,
   "metadata": {},
   "outputs": [
    {
     "data": {
      "text/plain": [
       "Field([[-0.00021699]])"
      ]
     },
     "execution_count": 33,
     "metadata": {},
     "output_type": "execute_result"
    }
   ],
   "source": [
    "ebm2.ASR - ebm2.OLR"
   ]
  },
  {
   "cell_type": "markdown",
   "metadata": {
    "slideshow": {
     "slide_type": "slide"
    }
   },
   "source": [
    "____________\n",
    "<a id='section5'></a>\n",
    "\n",
    "## 5. Further `climlab` resources\n",
    "____________"
   ]
  },
  {
   "cell_type": "markdown",
   "metadata": {},
   "source": [
    "We will be using `climlab` extensively throughout this course. Lots of examples of more advanced usage are found here in the course notes. Here are some links to other resources:\n",
    "\n",
    "- The documentation is hosted at <https://climlab.readthedocs.io/en/latest/>\n",
    "- Source code (for both software and docs) are at <https://github.com/brian-rose/climlab>\n",
    "- [A video of a talk by the creator about `climlab` at the 2018 AMS Python symposium](https://ams.confex.com/ams/98Annual/videogateway.cgi/id/44948?recordingid=44948) (January 2018)\n",
    "- [Slides from a talk and demonstration by the creator in Febrary 2018](https://livealbany-my.sharepoint.com/:f:/g/personal/brose_albany_edu/EuA2afxy5-hNkzNhHgkp_HYBYcJumR3l6ukRVIEl4W3MmA?e=sbXN0d) (The Apple Keynote version contains some animations that will not show up in the pdf version)"
   ]
  },
  {
   "cell_type": "markdown",
   "metadata": {
    "slideshow": {
     "slide_type": "skip"
    }
   },
   "source": [
    "____________\n",
    "\n",
    "## Credits\n",
    "\n",
    "This notebook is part of [The Climate Laboratory](https://brian-rose.github.io/ClimateLaboratoryBook), an open-source textbook developed and maintained by [Brian E. J. Rose](http://www.atmos.albany.edu/facstaff/brose/index.html), University at Albany. It has been modified by [Nicole Feldl](http://nicolefeldl.com), UC Santa Cruz.\n",
    "\n",
    "It is licensed for free and open consumption under the\n",
    "[Creative Commons Attribution 4.0 International (CC BY 4.0)](https://creativecommons.org/licenses/by/4.0/) license.\n",
    "\n",
    "Development of these notes and the [climlab software](https://github.com/brian-rose/climlab) is partially supported by the National Science Foundation under award AGS-1455071 to Brian Rose. Any opinions, findings, conclusions or recommendations expressed here are mine and do not necessarily reflect the views of the National Science Foundation.\n",
    "____________"
   ]
  },
  {
   "cell_type": "code",
   "execution_count": null,
   "metadata": {},
   "outputs": [],
   "source": []
  }
 ],
 "metadata": {
  "anaconda-cloud": {},
  "kernelspec": {
   "display_name": "Python 3",
   "language": "python",
   "name": "python3"
  },
  "language_info": {
   "codemirror_mode": {
    "name": "ipython",
    "version": 3
   },
   "file_extension": ".py",
   "mimetype": "text/x-python",
   "name": "python",
   "nbconvert_exporter": "python",
   "pygments_lexer": "ipython3",
   "version": "3.6.10"
  }
 },
 "nbformat": 4,
 "nbformat_minor": 2
}

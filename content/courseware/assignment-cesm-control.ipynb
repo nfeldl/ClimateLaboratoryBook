{
 "cells": [
  {
   "cell_type": "markdown",
   "metadata": {},
   "source": [
    "# Assignment: Global average budgets in the CESM pre-industrial control simulation"
   ]
  },
  {
   "cell_type": "markdown",
   "metadata": {},
   "source": [
    "## Learning goals\n",
    "\n",
    "Students completing this assignment will gain the following skills and concepts:\n",
    "\n",
    "- Continued practice working with the Jupyter notebook\n",
    "- Familiarity with atmospheric output from the CESM simulation\n",
    "- More complete comparison of the global energy budget in the CESM control simulation to the observations\n",
    "- Validation of the annual cycle of surface temperature against observations\n",
    "- Opportunity to formulate a hypothesis about these global temperature variations\n",
    "- Python programming skills: basic xarray usage: opening gridded dataset and taking averages"
   ]
  },
  {
   "cell_type": "markdown",
   "metadata": {},
   "source": [
    "## Instructions\n",
    "\n",
    "- In a local copy of this notebook (on the JupyterHub or your own device) **add your answers in additional cells**.\n",
    "- **Complete the required problems** below. \n",
    "- Remember to set your cell types to `Markdown` for text, and `Code` for Python code!\n",
    "- **Include comments** in your code to explain your method as necessary.\n",
    "- Remember to actually answer the questions. **Written answers are required** (not just code and figures!)\n",
    "- Submit your solutions in **a single Jupyter notebook** that contains your text, your code, and your figures.\n",
    "- *Make sure that your notebook* ***runs cleanly without errors:***\n",
    "    - Save your notebook\n",
    "    - From the `Kernel` menu, select `Restart & Run All`\n",
    "    - Did the notebook run from start to finish without error and produce the expected output?\n",
    "    - If yes, save again and submit your notebook file\n",
    "    - If no, fix the errors and try again."
   ]
  },
  {
   "cell_type": "markdown",
   "metadata": {},
   "source": [
    "## Problem 1: The global energy budget in the CESM control simulation\n",
    "\n",
    "Compute the **global, time average** of each of the following quantities, and **compare them to the observed values** from the Trenberth and Fasullo (2012) figure in the course notes. Recall that when you want to repeat an operation, you should write a function for it!\n",
    "\n",
    "- Solar Radiation budget:\n",
    "    - Incoming Solar Radiation, or Insolation\n",
    "    - Reflected Solar Radiation at the top of atmosphere\n",
    "    - Solar Radiation Reflected by Surface\n",
    "    - Solar Radiation Absorbed by Surface\n",
    "    - Solar Radiation Refelected by Clouds and Atmosphere *(you can calculate this as the difference between the reflected radiation at the top of atmosphere and reflected radiation at the surface)*\n",
    "    - Total Absorbed Solar Radiation (ASR) at the top of atmosphere\n",
    "    - Solar Radiation Absorbed by Atmosphere *(you can calculate this as the residual of your budget, i.e. what's left over after accounting for all other absorption and reflection)*\n",
    "- Longwave Radiation budget:\n",
    "    - Outgoing Longwave Radiation\n",
    "    - Upward emission from the surface\n",
    "    - Downwelling radiation at the surface\n",
    "- Other surface fluxes:\n",
    "    - \"Thermals\", or *sensible heat flux*. *You will find this in the field called `SHFLX` in your dataset.*\n",
    "    - \"Evapotranspiration\", or *latent heat flux*. *You will find this in the field called `LHFLX` in your dataset.*\n",
    "    \n",
    "*Note we will look more carefully at atmospheric absorption and emission processes later. You do not need to try to calculate terms such as \"Emitted by Atmosphere\" or \"Atmospheric Window\"*\n",
    "\n",
    "**Based on your results above, answer the following questions:**\n",
    "\n",
    "- Is the CESM control simulation at (or near) **energy balance**?\n",
    "- Do you think this simulation is near equilibrium?\n",
    "- Summarize in your own words what you think are the most important similarities and differences of the global energy budgets in the CESM simulation and the observations."
   ]
  },
  {
   "cell_type": "code",
   "execution_count": null,
   "metadata": {},
   "outputs": [],
   "source": []
  },
  {
   "cell_type": "markdown",
   "metadata": {},
   "source": [
    "## Problem 2: Verifying the annual cycle in global mean surface temperature against observations\n",
    "\n",
    "In the class notes we plotted the **timeseries of global mean surface temperature** in the CESM control simulation, and found an **annual cycle**. The purpose of this exercise is to verify that this phenomenon is also found in the observed temperature record. If so, then we can conclude that it is a real feature of Earth's climate and not an artifact of the numerical model.\n",
    "\n",
    "For observations, we will use the **NCEP Reanalysis data**.\n",
    "\n",
    "*Reanalysis data is really a blend of observations and output from numerical weather prediction models. It represents our “best guess” at conditions over the whole globe, including regions where observations are very sparse.*\n",
    "\n",
    "The necessary data are all served up over the internet. We will look at monthly climatologies averaged over the 30 year period 1981 - 2010.\n",
    "\n",
    "You can browse the available data here: \n",
    "https://psl.noaa.gov/thredds/catalog/Datasets/ncep.reanalysis.derived/catalog.html\n",
    "\n",
    "**Surface air temperature** is contained in a file called `air.2m.mon.ltm.nc`, which is found in the collection called `surface_gauss`. \n",
    "\n",
    "Here's a link directly to the catalog page for this data file:\n",
    "https://psl.noaa.gov/thredds/catalog/Datasets/ncep.reanalysis.derived/surface_gauss/catalog.html?dataset=Datasets/ncep.reanalysis.derived/surface_gauss/air.2m.mon.ltm.nc\n",
    "\n",
    "Now click on the `OPeNDAP` link. A page opens up with lots of information about the contents of the file. The `Data URL` is what we need to read the data into our Python session. For example, this code opens the file and displays a list of the variables it contains:"
   ]
  },
  {
   "cell_type": "code",
   "execution_count": 3,
   "metadata": {},
   "outputs": [
    {
     "name": "stdout",
     "output_type": "stream",
     "text": [
      "<xarray.Dataset>\n",
      "Dimensions:             (lat: 94, lon: 192, nbnds: 2, time: 12)\n",
      "Coordinates:\n",
      "  * lon                 (lon) float32 0.0 1.875 3.75 ... 354.375 356.25 358.125\n",
      "  * time                (time) float64 -6.571e+05 -6.57e+05 ... -6.567e+05\n",
      "  * lat                 (lat) float32 88.542 86.6531 ... -86.6531 -88.542\n",
      "Dimensions without coordinates: nbnds\n",
      "Data variables:\n",
      "    climatology_bounds  (time, nbnds) float64 ...\n",
      "    air                 (time, lat, lon) float32 ...\n",
      "    valid_yr_count      (time, lat, lon) float32 ...\n",
      "Attributes:\n",
      "    Conventions:                    COARDS\n",
      "    title:                          mean daily NMC reanalysis (1958)\n",
      "    description:                    Data is from NMC initialized reanalysis\\n...\n",
      "    platform:                       Model\n",
      "    not_missing_threshold_percent:  minimum 3% values input to have non-missi...\n",
      "    history:                        Created 2011/07/12 by doMonthLTM\\nConvert...\n",
      "    dataset_title:                  NCEP-NCAR Reanalysis 1\n",
      "    References:                     http://www.psl.noaa.gov/data/gridded/data...\n"
     ]
    }
   ],
   "source": [
    "import xarray as xr\n",
    "url = 'https://psl.noaa.gov/thredds/dodsC/Datasets/ncep.reanalysis.derived/surface_gauss/air.2m.mon.ltm.nc'\n",
    "ncep_air2m = xr.open_dataset(url, decode_times=False)\n",
    "\n",
    "print(ncep_air2m)"
   ]
  },
  {
   "cell_type": "markdown",
   "metadata": {},
   "source": [
    "The temperature data is called `air`. Take a look at the details:"
   ]
  },
  {
   "cell_type": "code",
   "execution_count": 2,
   "metadata": {},
   "outputs": [
    {
     "name": "stdout",
     "output_type": "stream",
     "text": [
      "<xarray.DataArray 'air' (time: 12, lat: 94, lon: 192)>\n",
      "[216576 values with dtype=float32]\n",
      "Coordinates:\n",
      "  * lon      (lon) float32 0.0 1.875 3.75 5.625 ... 352.5 354.375 356.25 358.125\n",
      "  * time     (time) float64 -6.571e+05 -6.57e+05 ... -6.568e+05 -6.567e+05\n",
      "  * lat      (lat) float32 88.542 86.6531 84.7532 ... -84.7532 -86.6531 -88.542\n",
      "Attributes:\n",
      "    long_name:     Monthly Long Term Mean of Air Temperature\n",
      "    valid_range:   [150. 400.]\n",
      "    units:         degK\n",
      "    precision:     2\n",
      "    GRIB_id:       11\n",
      "    GRIB_name:     TMP\n",
      "    var_desc:      Air temperature\n",
      "    level_desc:    2 m\n",
      "    statistic:     Long Term Mean\n",
      "    parent_stat:   Mean\n",
      "    actual_range:  [198.33992 311.8952 ]\n",
      "    dataset:       NCEP Reanalysis Derived Products\n",
      "    _ChunkSizes:   [  1  94 192]\n"
     ]
    }
   ],
   "source": [
    "print(ncep_air2m.air)"
   ]
  },
  {
   "cell_type": "markdown",
   "metadata": {},
   "source": [
    "Notice that the dimensions are `(time: 12, lat: 94, lon: 192)`. The time dimension is calendar months. But note that the lat/lon grid is not the same as our model output! \n",
    "\n",
    "*Think about how you will handle calculating the global average of these data.*"
   ]
  },
  {
   "cell_type": "markdown",
   "metadata": {},
   "source": [
    "### Your task:\n",
    "\n",
    "- Make a well-labeled timeseries graph of the global-averaged observed average surface air temperature climatology. \n",
    "- Verify that the annual cycle we found in the CESM simulation also exists in the observations.\n",
    "- In your own words, suggest a plausible physical explanation for why this annual cycle exists. "
   ]
  },
  {
   "cell_type": "code",
   "execution_count": null,
   "metadata": {},
   "outputs": [],
   "source": []
  }
 ],
 "metadata": {
  "kernelspec": {
   "display_name": "Python 3",
   "language": "python",
   "name": "python3"
  },
  "language_info": {
   "codemirror_mode": {
    "name": "ipython",
    "version": 3
   },
   "file_extension": ".py",
   "mimetype": "text/x-python",
   "name": "python",
   "nbconvert_exporter": "python",
   "pygments_lexer": "ipython3",
   "version": "3.6.13"
  }
 },
 "nbformat": 4,
 "nbformat_minor": 4
}

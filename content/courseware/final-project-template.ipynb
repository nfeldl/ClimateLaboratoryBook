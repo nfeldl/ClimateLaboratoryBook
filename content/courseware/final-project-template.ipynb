{
 "cells": [
  {
   "cell_type": "markdown",
   "metadata": {},
   "source": [
    "# Your Final Project Title Goes Here"
   ]
  },
  {
   "cell_type": "markdown",
   "metadata": {},
   "source": [
    "## Your Name Here"
   ]
  },
  {
   "cell_type": "markdown",
   "metadata": {},
   "source": [
    "5 points for on-time submission of project proposal"
   ]
  },
  {
   "cell_type": "markdown",
   "metadata": {},
   "source": [
    "## Introduction"
   ]
  },
  {
   "cell_type": "markdown",
   "metadata": {},
   "source": [
    "*Delete this cell before turning in your final project.*\n",
    "\n",
    "Instructions: In the introduction you will (i) describe your broad topic of wide relevance or interest and (ii) provide a concrete statement of the scientific question explored or hypothesis tested. I recommend starting broad and narrowing down to the specifics of your project.\n",
    "\n",
    "It is not required to provide citations to scientific literature, though you may if you used outside resources.\n",
    "\n",
    "15 points."
   ]
  },
  {
   "cell_type": "code",
   "execution_count": null,
   "metadata": {},
   "outputs": [],
   "source": []
  },
  {
   "cell_type": "markdown",
   "metadata": {},
   "source": [
    "## Methods"
   ]
  },
  {
   "cell_type": "markdown",
   "metadata": {},
   "source": [
    "*Delete this cell before turning in your final project.*\n",
    "\n",
    "Instructions: In the methods, you will detail your methodology. Make sure to describe **in words** which model you used, why you used it, and, if applicable, how you configured it. If using pre-generated model output (e.g., CESM) also describe the climate fields that you will be inspecting. **In this section, you will include the code to build the model or load the model output.**\n",
    "\n",
    "15 points."
   ]
  },
  {
   "cell_type": "code",
   "execution_count": null,
   "metadata": {},
   "outputs": [],
   "source": []
  },
  {
   "cell_type": "markdown",
   "metadata": {},
   "source": [
    "## Results"
   ]
  },
  {
   "cell_type": "markdown",
   "metadata": {},
   "source": [
    "*Delete this cell before turning in your final project.*\n",
    "\n",
    "Instructions: In the results, you will show your original calculations. Include all the code necessary to generate your results, and clearly communicate your results as well-labeled figures and tables as appropriate. Your work must be completely reproducible (i.e., the instructor must be able to run the Jupyter notebook cleanly from start to finish).\n",
    "\n",
    "The expected format is a mix of code cells, Markdown (text) cells, and products (figures, tables, etc.). You may add subsections to organize your results section if desired.\n",
    "\n",
    "50 points total."
   ]
  },
  {
   "cell_type": "code",
   "execution_count": null,
   "metadata": {},
   "outputs": [],
   "source": []
  },
  {
   "cell_type": "markdown",
   "metadata": {},
   "source": [
    "## Conclusions"
   ]
  },
  {
   "cell_type": "markdown",
   "metadata": {},
   "source": [
    "*Delete this cell before turning in your final project.*\n",
    "\n",
    "Instructions: In the conclusions, you will provide a summary of what you learned. Make sure that your conclusions are supported by the results and that you discuss limitations and implications.\n",
    "\n",
    "15 points."
   ]
  },
  {
   "cell_type": "code",
   "execution_count": null,
   "metadata": {},
   "outputs": [],
   "source": []
  }
 ],
 "metadata": {
  "kernelspec": {
   "display_name": "Python 3",
   "language": "python",
   "name": "python3"
  },
  "language_info": {
   "codemirror_mode": {
    "name": "ipython",
    "version": 3
   },
   "file_extension": ".py",
   "mimetype": "text/x-python",
   "name": "python",
   "nbconvert_exporter": "python",
   "pygments_lexer": "ipython3",
   "version": "3.6.13"
  }
 },
 "nbformat": 4,
 "nbformat_minor": 4
}

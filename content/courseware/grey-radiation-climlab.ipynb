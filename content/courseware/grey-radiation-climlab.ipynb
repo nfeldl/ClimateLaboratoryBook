{
 "cells": [
  {
   "cell_type": "markdown",
   "metadata": {
    "slideshow": {
     "slide_type": "slide"
    }
   },
   "source": [
    "# Grey radiation modeling with climlab"
   ]
  },
  {
   "cell_type": "markdown",
   "metadata": {
    "slideshow": {
     "slide_type": "slide"
    }
   },
   "source": [
    "____________\n",
    "<a id='section1'></a>\n",
    "\n",
    "## 1. Re-introducing `climlab`\n",
    "____________\n",
    "\n",
    "`climlab` is a specialized python package for process-oriented climate modeling.\n",
    "\n",
    "It is based on a very general concept of a model as a collection of individual, interacting processes. climlab defines a base class called `Process`, which can contain an arbitrarily complex tree of sub-processes (each also some sub-class of `Process`). Every climate process (radiative, dynamical,  physical, turbulent, convective, chemical, etc.) can be simulated as a stand-alone process model given appropriate input, or as a sub-process of a more complex model. New classes of model can easily be defined and run interactively by putting together an\n",
    "appropriate collection of sub-processes.\n",
    "\n",
    "climlab is an open-source community project. The latest code can always be found on github:\n",
    "\n",
    "https://github.com/brian-rose/climlab"
   ]
  },
  {
   "cell_type": "code",
   "execution_count": 1,
   "metadata": {
    "slideshow": {
     "slide_type": "skip"
    }
   },
   "outputs": [],
   "source": [
    "%matplotlib inline\n",
    "import numpy as np\n",
    "import matplotlib.pyplot as plt\n",
    "import xarray as xr\n",
    "from xarray.ufuncs import cos, deg2rad, log\n",
    "import climlab"
   ]
  },
  {
   "cell_type": "markdown",
   "metadata": {
    "slideshow": {
     "slide_type": "slide"
    }
   },
   "source": [
    "____________\n",
    "<a id='section2'></a>\n",
    "\n",
    "## 2. Using `climlab` to implement the two-layer leaky greenhouse model\n",
    "____________\n",
    "\n",
    "One of the things that ``climlab`` is set up to do is the grey-radiation modeling we have already been discussing.\n",
    "\n",
    "Since I already derived a [complete analytical solution to the two-layer leaky greenhouse model](sympy-greenhouse.ipynb), we will use this to validate the `climlab` code."
   ]
  },
  {
   "cell_type": "markdown",
   "metadata": {
    "slideshow": {
     "slide_type": "slide"
    }
   },
   "source": [
    "### Validation\n",
    "\n",
    "We want to verify that the model reproduces (1) the observed OLR given observed temperatures and (2) the absorptivity that we tuned in the analytical model. The target numbers are:\n",
    "\n",
    "\\begin{align}\n",
    "T_s &= 288 \\text{ K} \\\\\n",
    "T_0 &= 275 \\text{ K} \\\\\n",
    "T_1 &= 230 \\text{ K} \\\\\n",
    "\\end{align}\n",
    "\n",
    "$$ \\epsilon = 0.586  $$\n",
    "\n",
    "$$ OLR = 238.5 \\text{ W m}^{-2} $$\n"
   ]
  },
  {
   "cell_type": "markdown",
   "metadata": {
    "slideshow": {
     "slide_type": "slide"
    }
   },
   "source": [
    "### Initialize a model in `climlab`\n",
    "The first thing we do is create a new model.\n",
    "\n",
    "The following example code is sparsely commented but will hopefully orient you on the basics of defining and working with a `climlab Process` object."
   ]
  },
  {
   "cell_type": "code",
   "execution_count": 2,
   "metadata": {
    "slideshow": {
     "slide_type": "fragment"
    }
   },
   "outputs": [
    {
     "name": "stdout",
     "output_type": "stream",
     "text": [
      "climlab Process of type <class 'climlab.model.column.GreyRadiationModel'>. \n",
      "State variables and domain shapes: \n",
      "  Ts: (1,) \n",
      "  Tatm: (2,) \n",
      "The subprocess tree: \n",
      "Untitled: <class 'climlab.model.column.GreyRadiationModel'>\n",
      "   LW: <class 'climlab.radiation.greygas.GreyGas'>\n",
      "   SW: <class 'climlab.radiation.greygas.GreyGasSW'>\n",
      "   insolation: <class 'climlab.radiation.insolation.FixedInsolation'>\n",
      "\n"
     ]
    }
   ],
   "source": [
    "#  Test in a 2-layer atmosphere\n",
    "col = climlab.GreyRadiationModel(num_lev=2)\n",
    "print( col)"
   ]
  },
  {
   "cell_type": "code",
   "execution_count": 3,
   "metadata": {
    "slideshow": {
     "slide_type": "slide"
    }
   },
   "outputs": [
    {
     "data": {
      "text/plain": [
       "{'LW': <climlab.radiation.greygas.GreyGas at 0x10eb487b8>,\n",
       " 'SW': <climlab.radiation.greygas.GreyGasSW at 0x10eb48780>,\n",
       " 'insolation': <climlab.radiation.insolation.FixedInsolation at 0x11c5d2e48>}"
      ]
     },
     "execution_count": 3,
     "metadata": {},
     "output_type": "execute_result"
    }
   ],
   "source": [
    "col.subprocess"
   ]
  },
  {
   "cell_type": "markdown",
   "metadata": {},
   "source": [
    "Every item in the above dictionary is itself an instance of the `climlab.Process` object:"
   ]
  },
  {
   "cell_type": "code",
   "execution_count": 4,
   "metadata": {
    "slideshow": {
     "slide_type": "fragment"
    }
   },
   "outputs": [
    {
     "name": "stdout",
     "output_type": "stream",
     "text": [
      "climlab Process of type <class 'climlab.radiation.greygas.GreyGas'>. \n",
      "State variables and domain shapes: \n",
      "  Ts: (1,) \n",
      "  Tatm: (2,) \n",
      "The subprocess tree: \n",
      "Untitled: <class 'climlab.radiation.greygas.GreyGas'>\n",
      "\n"
     ]
    }
   ],
   "source": [
    "print( col.subprocess['LW'])"
   ]
  },
  {
   "cell_type": "markdown",
   "metadata": {
    "slideshow": {
     "slide_type": "slide"
    }
   },
   "source": [
    "The `state` dictionary holds the state variables of the model. In this case, temperatures:"
   ]
  },
  {
   "cell_type": "code",
   "execution_count": 5,
   "metadata": {},
   "outputs": [
    {
     "data": {
      "text/plain": [
       "{'Ts': Field([288.]), 'Tatm': Field([200., 278.])}"
      ]
     },
     "execution_count": 5,
     "metadata": {},
     "output_type": "execute_result"
    }
   ],
   "source": [
    "col.state"
   ]
  },
  {
   "cell_type": "markdown",
   "metadata": {},
   "source": [
    "Access these either through dictionary methods or as attributes of the model object:"
   ]
  },
  {
   "cell_type": "code",
   "execution_count": 6,
   "metadata": {},
   "outputs": [
    {
     "name": "stdout",
     "output_type": "stream",
     "text": [
      "[288.]\n",
      "[288.]\n"
     ]
    },
    {
     "data": {
      "text/plain": [
       "True"
      ]
     },
     "execution_count": 6,
     "metadata": {},
     "output_type": "execute_result"
    }
   ],
   "source": [
    "print( col.state['Ts'])\n",
    "print( col.Ts)\n",
    "col.Ts is col.state['Ts']"
   ]
  },
  {
   "cell_type": "markdown",
   "metadata": {
    "slideshow": {
     "slide_type": "slide"
    }
   },
   "source": [
    "Now we are assigning the \"observed\" temperatures to our model state:"
   ]
  },
  {
   "cell_type": "code",
   "execution_count": 7,
   "metadata": {},
   "outputs": [
    {
     "data": {
      "text/plain": [
       "{'Ts': Field([288.]), 'Tatm': Field([230., 275.])}"
      ]
     },
     "execution_count": 7,
     "metadata": {},
     "output_type": "execute_result"
    }
   ],
   "source": [
    "col.Ts[:] = 288.\n",
    "col.Tatm[:] = np.array([230., 275.])\n",
    "col.state"
   ]
  },
  {
   "cell_type": "code",
   "execution_count": 8,
   "metadata": {
    "slideshow": {
     "slide_type": "slide"
    }
   },
   "outputs": [
    {
     "name": "stdout",
     "output_type": "stream",
     "text": [
      "climlab Process of type <class 'climlab.radiation.greygas.GreyGas'>. \n",
      "State variables and domain shapes: \n",
      "  Ts: (1,) \n",
      "  Tatm: (2,) \n",
      "The subprocess tree: \n",
      "Untitled: <class 'climlab.radiation.greygas.GreyGas'>\n",
      "\n"
     ]
    }
   ],
   "source": [
    "LW = col.subprocess['LW']\n",
    "print( LW)"
   ]
  },
  {
   "cell_type": "code",
   "execution_count": 9,
   "metadata": {},
   "outputs": [
    {
     "data": {
      "text/plain": [
       "Field([0.47737425, 0.47737425])"
      ]
     },
     "execution_count": 9,
     "metadata": {},
     "output_type": "execute_result"
    }
   ],
   "source": [
    "LW.absorptivity"
   ]
  },
  {
   "cell_type": "code",
   "execution_count": 10,
   "metadata": {
    "slideshow": {
     "slide_type": "fragment"
    }
   },
   "outputs": [
    {
     "data": {
      "text/plain": [
       "Field([0.586, 0.586])"
      ]
     },
     "execution_count": 10,
     "metadata": {},
     "output_type": "execute_result"
    }
   ],
   "source": [
    "#  copying the tuned value of epsilon from previous lecture notes\n",
    "LW.absorptivity = 0.586\n",
    "LW.absorptivity"
   ]
  },
  {
   "cell_type": "code",
   "execution_count": 11,
   "metadata": {
    "slideshow": {
     "slide_type": "slide"
    }
   },
   "outputs": [
    {
     "data": {
      "text/plain": [
       "{'flux_from_sfc': Field([102.0487]),\n",
       " 'flux_to_sfc': array([341.3]),\n",
       " 'flux_to_space': array([102.0487]),\n",
       " 'absorbed': array([0., 0.]),\n",
       " 'absorbed_total': 0.0,\n",
       " 'emission': Field([0., 0.]),\n",
       " 'emission_sfc': Field([0.]),\n",
       " 'flux_reflected_up': array([  0.    ,   0.    , 102.0487]),\n",
       " 'insolation': Field([341.3]),\n",
       " 'coszen': Field([1.]),\n",
       " 'OLR': array([238.5247311]),\n",
       " 'LW_down_sfc': array([228.53426769]),\n",
       " 'LW_up_sfc': Field([390.10502995]),\n",
       " 'LW_absorbed_sfc': Field([-161.57076227]),\n",
       " 'LW_absorbed_atm': array([ 20.02990881, -96.98387764]),\n",
       " 'LW_emission': Field([ 92.98664086, 190.03779837]),\n",
       " 'ASR': Field([239.2513]),\n",
       " 'SW_absorbed_sfc': Field([239.2513]),\n",
       " 'SW_absorbed_atm': array([0., 0.]),\n",
       " 'SW_up_sfc': Field([102.0487]),\n",
       " 'SW_up_TOA': array([102.0487]),\n",
       " 'SW_down_TOA': Field([341.3]),\n",
       " 'planetary_albedo': Field([0.299])}"
      ]
     },
     "execution_count": 11,
     "metadata": {},
     "output_type": "execute_result"
    }
   ],
   "source": [
    "#  This does all the calculations that would be performed at each time step, \n",
    "#  but doesn't actually update the temperatures\n",
    "col.compute_diagnostics()\n",
    "#  Print out the dictionary\n",
    "col.diagnostics"
   ]
  },
  {
   "cell_type": "code",
   "execution_count": 12,
   "metadata": {
    "slideshow": {
     "slide_type": "slide"
    }
   },
   "outputs": [
    {
     "data": {
      "text/plain": [
       "array([238.5247311])"
      ]
     },
     "execution_count": 12,
     "metadata": {},
     "output_type": "execute_result"
    }
   ],
   "source": [
    "# Check OLR against our analytical solution\n",
    "col.OLR"
   ]
  },
  {
   "cell_type": "code",
   "execution_count": 13,
   "metadata": {},
   "outputs": [
    {
     "data": {
      "text/plain": [
       "array([238.5247311])"
      ]
     },
     "execution_count": 13,
     "metadata": {},
     "output_type": "execute_result"
    }
   ],
   "source": [
    "# Like the state variables, the diagnostics can also be accessed in two different ways\n",
    "col.diagnostics['OLR']"
   ]
  },
  {
   "cell_type": "code",
   "execution_count": 14,
   "metadata": {
    "slideshow": {
     "slide_type": "slide"
    }
   },
   "outputs": [
    {
     "data": {
      "text/plain": [
       "{'Ts': Field([288.]), 'Tatm': Field([230., 275.])}"
      ]
     },
     "execution_count": 14,
     "metadata": {},
     "output_type": "execute_result"
    }
   ],
   "source": [
    "col.state"
   ]
  },
  {
   "cell_type": "code",
   "execution_count": 15,
   "metadata": {},
   "outputs": [],
   "source": [
    "# perform a single time step\n",
    "col.step_forward()"
   ]
  },
  {
   "cell_type": "code",
   "execution_count": 16,
   "metadata": {},
   "outputs": [
    {
     "data": {
      "text/plain": [
       "{'Ts': Field([289.60514636]), 'Tatm': Field([230.33784312, 273.3641795 ])}"
      ]
     },
     "execution_count": 16,
     "metadata": {},
     "output_type": "execute_result"
    }
   ],
   "source": [
    "col.state"
   ]
  },
  {
   "cell_type": "markdown",
   "metadata": {},
   "source": [
    "We just stepped forward one discreet unit in time. Because we didn't specify a timestep when we created the model, it is set to a default value:"
   ]
  },
  {
   "cell_type": "code",
   "execution_count": 17,
   "metadata": {},
   "outputs": [
    {
     "data": {
      "text/plain": [
       "86400.0"
      ]
     },
     "execution_count": 17,
     "metadata": {},
     "output_type": "execute_result"
    }
   ],
   "source": [
    "col.timestep"
   ]
  },
  {
   "cell_type": "markdown",
   "metadata": {},
   "source": [
    "which is 1 day (expressed in seconds)."
   ]
  },
  {
   "cell_type": "markdown",
   "metadata": {
    "slideshow": {
     "slide_type": "slide"
    }
   },
   "source": [
    "Now we will integrate the model out to equilibrium.\n",
    "\n",
    "We could easily write a loop to call the `step_forward()` method many times.\n",
    "\n",
    "Or use a handy shortcut that allows us to specify the integration length in physical time units:"
   ]
  },
  {
   "cell_type": "code",
   "execution_count": 18,
   "metadata": {
    "slideshow": {
     "slide_type": "fragment"
    }
   },
   "outputs": [
    {
     "name": "stdout",
     "output_type": "stream",
     "text": [
      "Integrating for 730 steps, 730.4844 days, or 2.0 years.\n",
      "Total elapsed time is 2.0014116660123062 years.\n"
     ]
    }
   ],
   "source": [
    "# integrate out to radiative equilibrium\n",
    "col.integrate_years(2.)"
   ]
  },
  {
   "cell_type": "code",
   "execution_count": 19,
   "metadata": {
    "slideshow": {
     "slide_type": "fragment"
    }
   },
   "outputs": [
    {
     "data": {
      "text/plain": [
       "Field([-2.3995193e-07])"
      ]
     },
     "execution_count": 19,
     "metadata": {},
     "output_type": "execute_result"
    }
   ],
   "source": [
    "# Check for equilibrium\n",
    "col.ASR - col.OLR"
   ]
  },
  {
   "cell_type": "code",
   "execution_count": 20,
   "metadata": {
    "slideshow": {
     "slide_type": "slide"
    }
   },
   "outputs": [
    {
     "data": {
      "text/plain": [
       "{'Ts': Field([296.38447748]), 'Tatm': Field([233.72131685, 262.28540231])}"
      ]
     },
     "execution_count": 20,
     "metadata": {},
     "output_type": "execute_result"
    }
   ],
   "source": [
    "#  The temperatures at radiative equilibrium\n",
    "col.state"
   ]
  },
  {
   "cell_type": "markdown",
   "metadata": {},
   "source": [
    "Compare these to the analytical solutions for radiative equilibrium with $\\epsilon = 0.58$:\n",
    "\n",
    "\\begin{align}\n",
    "T_s &= 296.4 \\text{ K} \\\\\n",
    "T_0 &= 262.3 \\text{ K} \\\\\n",
    "T_1 &= 233.8 \\text{ K} \\\\\n",
    "\\end{align}\n"
   ]
  },
  {
   "cell_type": "markdown",
   "metadata": {},
   "source": [
    "So it looks like `climlab` agrees with our analytical results to within 0.1 K. That's good."
   ]
  },
  {
   "cell_type": "markdown",
   "metadata": {
    "slideshow": {
     "slide_type": "slide"
    }
   },
   "source": [
    "____________\n",
    "<a id='section3'></a>\n",
    "\n",
    "## 3. The observed annual, global mean temperature profile\n",
    "____________\n",
    "\n",
    "We want to model the OLR in a column whose temperatures match observations. As we've done before, we'll calculate the global, annual mean air temperature from the NCEP Reanalysis data."
   ]
  },
  {
   "cell_type": "code",
   "execution_count": 21,
   "metadata": {
    "slideshow": {
     "slide_type": "slide"
    }
   },
   "outputs": [
    {
     "name": "stdout",
     "output_type": "stream",
     "text": [
      "<xarray.Dataset>\n",
      "Dimensions:             (lat: 73, level: 17, lon: 144, nbnds: 2, time: 12)\n",
      "Coordinates:\n",
      "  * level               (level) float32 1000.0 925.0 850.0 ... 30.0 20.0 10.0\n",
      "  * lon                 (lon) float32 0.0 2.5 5.0 7.5 ... 352.5 355.0 357.5\n",
      "  * time                (time) object 0001-01-01 00:00:00 ... 0001-12-01 00:00:00\n",
      "  * lat                 (lat) float32 90.0 87.5 85.0 82.5 ... -85.0 -87.5 -90.0\n",
      "Dimensions without coordinates: nbnds\n",
      "Data variables:\n",
      "    climatology_bounds  (time, nbnds) object ...\n",
      "    air                 (time, level, lat, lon) float32 ...\n",
      "    valid_yr_count      (time, level, lat, lon) float32 ...\n",
      "Attributes:\n",
      "    description:                     Data from NCEP initialized reanalysis (4...\n",
      "    platform:                       Model\n",
      "    Conventions:                    COARDS\n",
      "    not_missing_threshold_percent:  minimum 3% values input to have non-missi...\n",
      "    history:                        Created 2011/07/12 by doMonthLTM\\nConvert...\n",
      "    title:                          monthly ltm air from the NCEP Reanalysis\n",
      "    dataset_title:                  NCEP-NCAR Reanalysis 1\n",
      "    References:                     http://www.psl.noaa.gov/data/gridded/data...\n"
     ]
    }
   ],
   "source": [
    "ncep_filename = 'air.mon.1981-2010.ltm.nc'\n",
    "#ncep_url = \"http://www.esrl.noaa.gov/psd/thredds/dodsC/Datasets/ncep.reanalysis.derived/pressure/\"\n",
    "ncep_url = 'https://psl.noaa.gov/thredds/dodsC/Datasets/ncep.reanalysis.derived/pressure/'\n",
    "path = ncep_url\n",
    "#  Open handle to data\n",
    "ncep_air = xr.open_dataset( path + ncep_filename, use_cftime=True )\n",
    "print( ncep_air)"
   ]
  },
  {
   "cell_type": "code",
   "execution_count": 22,
   "metadata": {
    "slideshow": {
     "slide_type": "slide"
    }
   },
   "outputs": [
    {
     "name": "stdout",
     "output_type": "stream",
     "text": [
      "<xarray.DataArray (level: 17)>\n",
      "array([ 15.179084  ,  11.207003  ,   7.8383274 ,   0.21994135,\n",
      "        -6.4483433 , -14.888848  , -25.570469  , -39.36969   ,\n",
      "       -46.797905  , -53.652245  , -60.56356   , -67.006065  ,\n",
      "       -65.53293   , -61.48664   , -55.853584  , -51.593952  ,\n",
      "       -43.21999   ], dtype=float32)\n",
      "Coordinates:\n",
      "  * level    (level) float32 1000.0 925.0 850.0 700.0 ... 50.0 30.0 20.0 10.0\n"
     ]
    }
   ],
   "source": [
    "#  Take global, annual average\n",
    "weight = cos(deg2rad(ncep_air.lat)) / cos(deg2rad(ncep_air.lat)).mean(dim='lat')\n",
    "Tglobal = (ncep_air.air * weight).mean(dim=('lat','lon','time'))\n",
    "print( Tglobal)"
   ]
  },
  {
   "cell_type": "markdown",
   "metadata": {
    "slideshow": {
     "slide_type": "slide"
    }
   },
   "source": [
    "We're going to convert this to degrees Kelvin, using a handy list of pre-defined constants in `climlab.constants`"
   ]
  },
  {
   "cell_type": "code",
   "execution_count": 23,
   "metadata": {},
   "outputs": [
    {
     "data": {
      "text/plain": [
       "273.15"
      ]
     },
     "execution_count": 23,
     "metadata": {},
     "output_type": "execute_result"
    }
   ],
   "source": [
    "climlab.constants.tempCtoK"
   ]
  },
  {
   "cell_type": "code",
   "execution_count": 24,
   "metadata": {},
   "outputs": [
    {
     "name": "stdout",
     "output_type": "stream",
     "text": [
      "<xarray.DataArray (level: 17)>\n",
      "array([288.32907, 284.357  , 280.9883 , 273.36993, 266.70166, 258.26114,\n",
      "       247.57953, 233.7803 , 226.35208, 219.49774, 212.58643, 206.14392,\n",
      "       207.61707, 211.66336, 217.29642, 221.55605, 229.93001],\n",
      "      dtype=float32)\n",
      "Coordinates:\n",
      "  * level    (level) float32 1000.0 925.0 850.0 700.0 ... 50.0 30.0 20.0 10.0\n"
     ]
    }
   ],
   "source": [
    "# += Adds a value and the variable and assigns the result to that variable\n",
    "Tglobal += climlab.constants.tempCtoK\n",
    "print( Tglobal)"
   ]
  },
  {
   "cell_type": "code",
   "execution_count": 25,
   "metadata": {
    "slideshow": {
     "slide_type": "slide"
    }
   },
   "outputs": [],
   "source": [
    "#  A handy re-usable routine for making a plot of the temperature profiles\n",
    "#  We will plot temperatures with respect to log(pressure) to get a height-like coordinate\n",
    "\n",
    "def zstar(lev):\n",
    "    return -np.log(lev / climlab.constants.ps)\n",
    "\n",
    "def plot_soundings(result_list, name_list, plot_obs=True, fixed_range=True):\n",
    "    color_cycle=['r', 'g', 'b', 'y']\n",
    "    fig, ax = plt.subplots(figsize=(9,9))\n",
    "    if plot_obs:\n",
    "        ax.plot(Tglobal, zstar(Tglobal.level), color='k', label='Observed')    \n",
    "    for i, state in enumerate(result_list):\n",
    "        Tatm = state['Tatm']\n",
    "        lev = Tatm.domain.axes['lev'].points\n",
    "        Ts = state['Ts']\n",
    "        ax.plot(Tatm, zstar(lev), color=color_cycle[i], label=name_list[i])\n",
    "        ax.plot(Ts, 0, '^', markersize=12, color=color_cycle[i])\n",
    "    yticks = np.array([1000., 750., 500., 250., 100., 50., 20., 10., 5.])\n",
    "    ax.set_yticks(-np.log(yticks/1000.))\n",
    "    ax.set_yticklabels(yticks)\n",
    "    ax.set_xlabel('Temperature (K)', fontsize=14)\n",
    "    ax.set_ylabel('Pressure (hPa)', fontsize=14)\n",
    "    ax.grid()\n",
    "    ax.legend()\n",
    "    if fixed_range:\n",
    "        ax.set_xlim([200, 300])\n",
    "        ax.set_ylim(zstar(np.array([1000., 5.])))\n",
    "    \n",
    "    return ax"
   ]
  },
  {
   "cell_type": "code",
   "execution_count": 26,
   "metadata": {
    "slideshow": {
     "slide_type": "slide"
    }
   },
   "outputs": [
    {
     "data": {
      "image/png": "[encoded data removed]",
      "text/plain": [
       "<Figure size 648x648 with 1 Axes>"
      ]
     },
     "metadata": {
      "needs_background": "light"
     },
     "output_type": "display_data"
    }
   ],
   "source": [
    "plot_soundings([],[] );"
   ]
  },
  {
   "cell_type": "markdown",
   "metadata": {
    "slideshow": {
     "slide_type": "slide"
    }
   },
   "source": [
    "____________\n",
    "<a id='section4'></a>\n",
    "\n",
    "## 4. A 30-layer model using the observed temperatures\n",
    "____________\n",
    "\n"
   ]
  },
  {
   "cell_type": "code",
   "execution_count": 27,
   "metadata": {
    "slideshow": {
     "slide_type": "slide"
    }
   },
   "outputs": [
    {
     "name": "stdout",
     "output_type": "stream",
     "text": [
      "climlab Process of type <class 'climlab.model.column.GreyRadiationModel'>. \n",
      "State variables and domain shapes: \n",
      "  Ts: (1,) \n",
      "  Tatm: (30,) \n",
      "The subprocess tree: \n",
      "Untitled: <class 'climlab.model.column.GreyRadiationModel'>\n",
      "   LW: <class 'climlab.radiation.greygas.GreyGas'>\n",
      "   SW: <class 'climlab.radiation.greygas.GreyGasSW'>\n",
      "   insolation: <class 'climlab.radiation.insolation.FixedInsolation'>\n",
      "\n"
     ]
    }
   ],
   "source": [
    "#  initialize a grey radiation model with 30 levels\n",
    "col = climlab.GreyRadiationModel()\n",
    "print( col)"
   ]
  },
  {
   "cell_type": "code",
   "execution_count": 28,
   "metadata": {
    "slideshow": {
     "slide_type": "slide"
    }
   },
   "outputs": [
    {
     "data": {
      "text/plain": [
       "array([ 16.66666667,  50.        ,  83.33333333, 116.66666667,\n",
       "       150.        , 183.33333333, 216.66666667, 250.        ,\n",
       "       283.33333333, 316.66666667, 350.        , 383.33333333,\n",
       "       416.66666667, 450.        , 483.33333333, 516.66666667,\n",
       "       550.        , 583.33333333, 616.66666667, 650.        ,\n",
       "       683.33333333, 716.66666667, 750.        , 783.33333333,\n",
       "       816.66666667, 850.        , 883.33333333, 916.66666667,\n",
       "       950.        , 983.33333333])"
      ]
     },
     "execution_count": 28,
     "metadata": {},
     "output_type": "execute_result"
    }
   ],
   "source": [
    "col.lev"
   ]
  },
  {
   "cell_type": "code",
   "execution_count": 29,
   "metadata": {},
   "outputs": [
    {
     "data": {
      "text/plain": [
       "array([   0.        ,   33.33333333,   66.66666667,  100.        ,\n",
       "        133.33333333,  166.66666667,  200.        ,  233.33333333,\n",
       "        266.66666667,  300.        ,  333.33333333,  366.66666667,\n",
       "        400.        ,  433.33333333,  466.66666667,  500.        ,\n",
       "        533.33333333,  566.66666667,  600.        ,  633.33333333,\n",
       "        666.66666667,  700.        ,  733.33333333,  766.66666667,\n",
       "        800.        ,  833.33333333,  866.66666667,  900.        ,\n",
       "        933.33333333,  966.66666667, 1000.        ])"
      ]
     },
     "execution_count": 29,
     "metadata": {},
     "output_type": "execute_result"
    }
   ],
   "source": [
    " col.lev_bounds"
   ]
  },
  {
   "cell_type": "code",
   "execution_count": 30,
   "metadata": {
    "slideshow": {
     "slide_type": "slide"
    }
   },
   "outputs": [
    {
     "data": {
      "text/plain": [
       "array([224.34736633, 211.6633606 , 206.96233453, 208.29142253,\n",
       "       212.58642578, 217.19396973, 221.78252157, 226.3520813 ,\n",
       "       231.30422974, 236.08017476, 240.67991638, 245.279658  ,\n",
       "       249.35979716, 252.92033386, 256.48087056, 259.66789246,\n",
       "       262.48139954, 265.29490662, 267.81303914, 270.03579712,\n",
       "       272.25855509, 274.21642049, 275.90939331, 277.60236613,\n",
       "       279.29533895, 280.98831177, 282.48550415, 283.98269653,\n",
       "       285.6810201 , 287.4463874 ])"
      ]
     },
     "execution_count": 30,
     "metadata": {},
     "output_type": "execute_result"
    }
   ],
   "source": [
    "# interpolate to 30 evenly spaced pressure levels\n",
    "lev = col.lev\n",
    "Tinterp = np.interp(lev, np.flipud(Tglobal.level), np.flipud(Tglobal))\n",
    "Tinterp\n",
    "#  Need to 'flipud' because the interpolation routine \n",
    "#  needs the pressure data to be in increasing order"
   ]
  },
  {
   "cell_type": "code",
   "execution_count": 31,
   "metadata": {
    "slideshow": {
     "slide_type": "slide"
    }
   },
   "outputs": [],
   "source": [
    "# Initialize model with observed temperatures\n",
    "col.Ts[:] = Tglobal[0]\n",
    "col.Tatm[:] = Tinterp"
   ]
  },
  {
   "cell_type": "code",
   "execution_count": 32,
   "metadata": {
    "slideshow": {
     "slide_type": "slide"
    }
   },
   "outputs": [
    {
     "data": {
      "image/png": "[encoded data removed]",
      "text/plain": [
       "<Figure size 648x648 with 1 Axes>"
      ]
     },
     "metadata": {
      "needs_background": "light"
     },
     "output_type": "display_data"
    }
   ],
   "source": [
    "# This should look just like the observations\n",
    "result_list = [col.state]\n",
    "name_list = ['Observed, interpolated']\n",
    "plot_soundings(result_list, name_list);"
   ]
  },
  {
   "cell_type": "markdown",
   "metadata": {
    "slideshow": {
     "slide_type": "slide"
    }
   },
   "source": [
    "### Tune absorptivity to get observed OLR"
   ]
  },
  {
   "cell_type": "code",
   "execution_count": 33,
   "metadata": {},
   "outputs": [
    {
     "data": {
      "text/plain": [
       "array([263.15000104])"
      ]
     },
     "execution_count": 33,
     "metadata": {},
     "output_type": "execute_result"
    }
   ],
   "source": [
    "col.compute_diagnostics()\n",
    "col.OLR"
   ]
  },
  {
   "cell_type": "code",
   "execution_count": 34,
   "metadata": {},
   "outputs": [],
   "source": [
    "# Need to tune absorptivity to get OLR = 238.5\n",
    "epsarray = np.linspace(0.01, 0.1, 100)\n",
    "OLRarray = np.zeros_like(epsarray)"
   ]
  },
  {
   "cell_type": "code",
   "execution_count": 35,
   "metadata": {
    "slideshow": {
     "slide_type": "fragment"
    }
   },
   "outputs": [],
   "source": [
    "# Introducing my favorite way to use loops in python!\n",
    "# enumerate() loops through elements in a list or array\n",
    "\n",
    "# Recall the range() method:\n",
    "# for n in range(epsarray.size):\n",
    "#     col.subprocess['LW'].absorptivity = epsarray[n]\n",
    "#     ...\n",
    "\n",
    "for n, eps in enumerate(epsarray):\n",
    "    col.subprocess['LW'].absorptivity = eps\n",
    "    col.compute_diagnostics()\n",
    "    OLRarray[n] = col.OLR"
   ]
  },
  {
   "cell_type": "code",
   "execution_count": 36,
   "metadata": {
    "slideshow": {
     "slide_type": "slide"
    }
   },
   "outputs": [
    {
     "data": {
      "text/plain": [
       "Text(0, 0.5, 'OLR')"
      ]
     },
     "execution_count": 36,
     "metadata": {},
     "output_type": "execute_result"
    },
    {
     "data": {
      "image/png": "[encoded data removed]",
      "text/plain": [
       "<Figure size 432x288 with 1 Axes>"
      ]
     },
     "metadata": {
      "needs_background": "light"
     },
     "output_type": "display_data"
    }
   ],
   "source": [
    "plt.plot(epsarray, OLRarray)\n",
    "plt.grid()\n",
    "plt.xlabel('epsilon')\n",
    "plt.ylabel('OLR')"
   ]
  },
  {
   "cell_type": "markdown",
   "metadata": {
    "slideshow": {
     "slide_type": "fragment"
    }
   },
   "source": [
    "The necessary value seems to lie near 0.055 or so.\n",
    "\n",
    "We can be more precise with a numerical root-finder."
   ]
  },
  {
   "cell_type": "code",
   "execution_count": 37,
   "metadata": {
    "slideshow": {
     "slide_type": "slide"
    }
   },
   "outputs": [],
   "source": [
    "def OLRanom(eps):\n",
    "    col.subprocess['LW'].absorptivity = eps\n",
    "    col.compute_diagnostics()\n",
    "    return col.OLR - 238.5"
   ]
  },
  {
   "cell_type": "code",
   "execution_count": 38,
   "metadata": {},
   "outputs": [
    {
     "name": "stdout",
     "output_type": "stream",
     "text": [
      "0.05369073166506245\n"
     ]
    }
   ],
   "source": [
    "# Use numerical root-finding to get the equilibria\n",
    "from scipy.optimize import brentq\n",
    "# brentq is a root-finding function\n",
    "# Need to give it a function and two end-points\n",
    "# It will look for a zero of the function between those end-points\n",
    "eps = brentq(OLRanom, 0.01, 0.1)\n",
    "print( eps)"
   ]
  },
  {
   "cell_type": "code",
   "execution_count": 39,
   "metadata": {
    "slideshow": {
     "slide_type": "slide"
    }
   },
   "outputs": [
    {
     "data": {
      "text/plain": [
       "Field([0.05369073, 0.05369073, 0.05369073, 0.05369073, 0.05369073,\n",
       "       0.05369073, 0.05369073, 0.05369073, 0.05369073, 0.05369073,\n",
       "       0.05369073, 0.05369073, 0.05369073, 0.05369073, 0.05369073,\n",
       "       0.05369073, 0.05369073, 0.05369073, 0.05369073, 0.05369073,\n",
       "       0.05369073, 0.05369073, 0.05369073, 0.05369073, 0.05369073,\n",
       "       0.05369073, 0.05369073, 0.05369073, 0.05369073, 0.05369073])"
      ]
     },
     "execution_count": 39,
     "metadata": {},
     "output_type": "execute_result"
    }
   ],
   "source": [
    "col.subprocess.LW.absorptivity = eps\n",
    "col.subprocess.LW.absorptivity"
   ]
  },
  {
   "cell_type": "code",
   "execution_count": 40,
   "metadata": {
    "slideshow": {
     "slide_type": "fragment"
    }
   },
   "outputs": [
    {
     "data": {
      "text/plain": [
       "array([238.5])"
      ]
     },
     "execution_count": 40,
     "metadata": {},
     "output_type": "execute_result"
    }
   ],
   "source": [
    "col.compute_diagnostics()\n",
    "col.OLR"
   ]
  },
  {
   "cell_type": "markdown",
   "metadata": {
    "slideshow": {
     "slide_type": "slide"
    }
   },
   "source": [
    "____________\n",
    "<a id='section5'></a>\n",
    "\n",
    "## 5. Radiative forcing in the 30-layer model\n",
    "____________\n",
    "\n",
    "Let's compute radiative forcing for a **2% increase in absorptivity**."
   ]
  },
  {
   "cell_type": "code",
   "execution_count": 41,
   "metadata": {
    "slideshow": {
     "slide_type": "slide"
    }
   },
   "outputs": [
    {
     "name": "stdout",
     "output_type": "stream",
     "text": [
      "climlab Process of type <class 'climlab.model.column.GreyRadiationModel'>. \n",
      "State variables and domain shapes: \n",
      "  Ts: (1,) \n",
      "  Tatm: (30,) \n",
      "The subprocess tree: \n",
      "Untitled: <class 'climlab.model.column.GreyRadiationModel'>\n",
      "   LW: <class 'climlab.radiation.greygas.GreyGas'>\n",
      "   SW: <class 'climlab.radiation.greygas.GreyGasSW'>\n",
      "   insolation: <class 'climlab.radiation.insolation.FixedInsolation'>\n",
      "\n"
     ]
    }
   ],
   "source": [
    "#  clone our model using a built-in climlab function\n",
    "col2 = climlab.process_like(col)\n",
    "print(col2)"
   ]
  },
  {
   "cell_type": "code",
   "execution_count": 42,
   "metadata": {
    "slideshow": {
     "slide_type": "slide"
    }
   },
   "outputs": [
    {
     "data": {
      "text/plain": [
       "Field([0.05476455, 0.05476455, 0.05476455, 0.05476455, 0.05476455,\n",
       "       0.05476455, 0.05476455, 0.05476455, 0.05476455, 0.05476455,\n",
       "       0.05476455, 0.05476455, 0.05476455, 0.05476455, 0.05476455,\n",
       "       0.05476455, 0.05476455, 0.05476455, 0.05476455, 0.05476455,\n",
       "       0.05476455, 0.05476455, 0.05476455, 0.05476455, 0.05476455,\n",
       "       0.05476455, 0.05476455, 0.05476455, 0.05476455, 0.05476455])"
      ]
     },
     "execution_count": 42,
     "metadata": {},
     "output_type": "execute_result"
    }
   ],
   "source": [
    "# *= Multiplies a value and the variable and assigns the result to that variable\n",
    "col2.subprocess['LW'].absorptivity *= 1.02\n",
    "col2.subprocess['LW'].absorptivity"
   ]
  },
  {
   "cell_type": "code",
   "execution_count": 43,
   "metadata": {
    "slideshow": {
     "slide_type": "slide"
    }
   },
   "outputs": [
    {
     "data": {
      "text/plain": [
       "Field([0.])"
      ]
     },
     "execution_count": 43,
     "metadata": {},
     "output_type": "execute_result"
    }
   ],
   "source": [
    "#  Radiative forcing by definition is the change in TOA radiative flux,\n",
    "# HOLDING THE TEMPERATURES FIXED.\n",
    "col2.Ts - col.Ts"
   ]
  },
  {
   "cell_type": "code",
   "execution_count": 44,
   "metadata": {},
   "outputs": [
    {
     "data": {
      "text/plain": [
       "Field([0., 0., 0., 0., 0., 0., 0., 0., 0., 0., 0., 0., 0., 0., 0., 0., 0.,\n",
       "       0., 0., 0., 0., 0., 0., 0., 0., 0., 0., 0., 0., 0.])"
      ]
     },
     "execution_count": 44,
     "metadata": {},
     "output_type": "execute_result"
    }
   ],
   "source": [
    "col2.Tatm - col.Tatm"
   ]
  },
  {
   "cell_type": "code",
   "execution_count": 45,
   "metadata": {
    "slideshow": {
     "slide_type": "slide"
    }
   },
   "outputs": [
    {
     "data": {
      "text/plain": [
       "array([236.65384137])"
      ]
     },
     "execution_count": 45,
     "metadata": {},
     "output_type": "execute_result"
    }
   ],
   "source": [
    "col2.compute_diagnostics()\n",
    "col2.OLR"
   ]
  },
  {
   "cell_type": "markdown",
   "metadata": {},
   "source": [
    "The OLR decreased after we added the extra absorbers, as we expect. Now we can calculate the radiative forcing:"
   ]
  },
  {
   "cell_type": "code",
   "execution_count": 46,
   "metadata": {
    "slideshow": {
     "slide_type": "fragment"
    }
   },
   "outputs": [
    {
     "name": "stdout",
     "output_type": "stream",
     "text": [
      "The radiative forcing is [1.84615863] W/m2\n",
      "The radiative forcing is [1.84615863] W/m2\n"
     ]
    }
   ],
   "source": [
    "RF = -(col2.OLR - col.OLR)\n",
    "print('The radiative forcing is {} W/m2'.format(RF))\n",
    "\n",
    "# Here is a new Python string formatting syntax called the formatted string literal. \n",
    "# These are also informally called f-strings.\n",
    "\n",
    "print(f'The radiative forcing is {RF} W/m2')"
   ]
  },
  {
   "cell_type": "markdown",
   "metadata": {
    "slideshow": {
     "slide_type": "slide"
    }
   },
   "source": [
    "____________\n",
    "<a id='section6'></a>\n",
    "\n",
    "## 6. Radiative equilibrium in the 30-layer model\n",
    "____________\n"
   ]
  },
  {
   "cell_type": "code",
   "execution_count": 47,
   "metadata": {
    "slideshow": {
     "slide_type": "slide"
    }
   },
   "outputs": [],
   "source": [
    "re = climlab.process_like(col)"
   ]
  },
  {
   "cell_type": "code",
   "execution_count": 48,
   "metadata": {},
   "outputs": [
    {
     "name": "stdout",
     "output_type": "stream",
     "text": [
      "Integrating for 365 steps, 365.2422 days, or 1.0 years.\n",
      "Total elapsed time is 0.9993368783782377 years.\n"
     ]
    }
   ],
   "source": [
    "#  To get to equilibrium, we just time-step the model forward long enough\n",
    "re.integrate_years(1.)"
   ]
  },
  {
   "cell_type": "code",
   "execution_count": 49,
   "metadata": {
    "slideshow": {
     "slide_type": "slide"
    }
   },
   "outputs": [
    {
     "name": "stdout",
     "output_type": "stream",
     "text": [
      "The net downward radiative flux at TOA is [-0.00158188] W/m2\n"
     ]
    }
   ],
   "source": [
    "#  Check for energy balance\n",
    "print(f'The net downward radiative flux at TOA is {re.ASR - re.OLR} W/m2')"
   ]
  },
  {
   "cell_type": "code",
   "execution_count": 50,
   "metadata": {
    "slideshow": {
     "slide_type": "slide"
    }
   },
   "outputs": [
    {
     "data": {
      "text/plain": [
       "<matplotlib.axes._subplots.AxesSubplot at 0x12616dcf8>"
      ]
     },
     "execution_count": 50,
     "metadata": {},
     "output_type": "execute_result"
    },
    {
     "data": {
      "image/png": "[encoded data removed]",
      "text/plain": [
       "<Figure size 648x648 with 1 Axes>"
      ]
     },
     "metadata": {
      "needs_background": "light"
     },
     "output_type": "display_data"
    }
   ],
   "source": [
    "result_list.append(re.state)\n",
    "name_list.append('Radiative equilibrium (grey gas)')\n",
    "plot_soundings(result_list, name_list)"
   ]
  },
  {
   "cell_type": "markdown",
   "metadata": {
    "slideshow": {
     "slide_type": "slide"
    }
   },
   "source": [
    "Some properties of the **radiative equilibrium** temperature profile:\n",
    "\n",
    "- The surface is warmer than observed.\n",
    "- The lower troposphere is colder than observed.\n",
    "- Very cold air is sitting immediately above the warm surface.\n",
    "- There is no tropopause, no stratosphere."
   ]
  },
  {
   "cell_type": "markdown",
   "metadata": {
    "slideshow": {
     "slide_type": "slide"
    }
   },
   "source": [
    "____________\n",
    "<a id='section7'></a>\n",
    "\n",
    "## 7. Radiative-Convective Equilibrium in the 30-layer model\n",
    "____________\n",
    "\n",
    "We recognize that the large drop in temperature just above the surface is unphysical. Parcels of air in direct contact with the ground will be warmed by mechansisms other than radiative transfer.\n",
    "\n",
    "These warm air parcels will then become buoyant, and will convect upward, mixing their heat content with the environment.\n",
    "\n",
    "We **parameterize** the statistical effects of this mixing through a **convective adjustment**. \n",
    "\n",
    "At each timestep, our model checks for any locations at which the **lapse rate** exceeds some threshold. Unstable layers are removed through an energy-conserving mixing formula.\n",
    "\n",
    "This process is assumed to be fast relative to radiative heating. In the model, it is instantaneous."
   ]
  },
  {
   "cell_type": "markdown",
   "metadata": {
    "slideshow": {
     "slide_type": "slide"
    }
   },
   "source": [
    "### Add the convective adjustment as an additional subprocess"
   ]
  },
  {
   "cell_type": "code",
   "execution_count": 51,
   "metadata": {},
   "outputs": [
    {
     "name": "stdout",
     "output_type": "stream",
     "text": [
      "climlab Process of type <class 'climlab.model.column.GreyRadiationModel'>. \n",
      "State variables and domain shapes: \n",
      "  Ts: (1,) \n",
      "  Tatm: (30,) \n",
      "The subprocess tree: \n",
      "Untitled: <class 'climlab.model.column.GreyRadiationModel'>\n",
      "   LW: <class 'climlab.radiation.greygas.GreyGas'>\n",
      "   SW: <class 'climlab.radiation.greygas.GreyGasSW'>\n",
      "   insolation: <class 'climlab.radiation.insolation.FixedInsolation'>\n",
      "\n"
     ]
    }
   ],
   "source": [
    "#  Here is the existing model\n",
    "print(re)"
   ]
  },
  {
   "cell_type": "code",
   "execution_count": 52,
   "metadata": {
    "slideshow": {
     "slide_type": "slide"
    }
   },
   "outputs": [
    {
     "name": "stdout",
     "output_type": "stream",
     "text": [
      "climlab Process of type <class 'climlab.model.column.GreyRadiationModel'>. \n",
      "State variables and domain shapes: \n",
      "  Ts: (1,) \n",
      "  Tatm: (30,) \n",
      "The subprocess tree: \n",
      "Untitled: <class 'climlab.model.column.GreyRadiationModel'>\n",
      "   LW: <class 'climlab.radiation.greygas.GreyGas'>\n",
      "   SW: <class 'climlab.radiation.greygas.GreyGasSW'>\n",
      "   insolation: <class 'climlab.radiation.insolation.FixedInsolation'>\n",
      "   Convective Adjustment: <class 'climlab.convection.convadj.ConvectiveAdjustment'>\n",
      "\n"
     ]
    }
   ],
   "source": [
    "#  First we make a new clone\n",
    "rce = climlab.process_like(re)\n",
    "#  Then create a new ConvectiveAdjustment process\n",
    "conv = climlab.convection.ConvectiveAdjustment(state=rce.state, \n",
    "                                               adj_lapse_rate=6.)\n",
    "#  And add it to our model\n",
    "rce.add_subprocess('Convective Adjustment', conv)\n",
    "print(rce)"
   ]
  },
  {
   "cell_type": "markdown",
   "metadata": {
    "slideshow": {
     "slide_type": "fragment"
    }
   },
   "source": [
    "This model is exactly like our previous models, except for one additional subprocess called ``Convective Adjustment``. \n",
    "\n",
    "We passed a parameter ``adj_lapse_rate`` (in K / km) that sets the neutrally stable lapse rate -- in this case, 6 K / km.\n",
    "\n",
    "This number is chosed to very loosely represent the net effect of **moist convection**."
   ]
  },
  {
   "cell_type": "code",
   "execution_count": 53,
   "metadata": {
    "slideshow": {
     "slide_type": "slide"
    }
   },
   "outputs": [
    {
     "name": "stdout",
     "output_type": "stream",
     "text": [
      "Integrating for 365 steps, 365.2422 days, or 1.0 years.\n",
      "Total elapsed time is 1.9986737567564754 years.\n"
     ]
    }
   ],
   "source": [
    "#  Run out to equilibrium\n",
    "rce.integrate_years(1.)"
   ]
  },
  {
   "cell_type": "code",
   "execution_count": 54,
   "metadata": {},
   "outputs": [
    {
     "data": {
      "text/plain": [
       "Field([0.00079773])"
      ]
     },
     "execution_count": 54,
     "metadata": {},
     "output_type": "execute_result"
    }
   ],
   "source": [
    "#  Check for energy balance\n",
    "rce.ASR - rce.OLR"
   ]
  },
  {
   "cell_type": "code",
   "execution_count": 55,
   "metadata": {},
   "outputs": [],
   "source": [
    "result_list.append(rce.state)\n",
    "name_list.append('Radiatve-Convective equilibrium (grey gas)')"
   ]
  },
  {
   "cell_type": "code",
   "execution_count": 56,
   "metadata": {
    "slideshow": {
     "slide_type": "slide"
    }
   },
   "outputs": [
    {
     "data": {
      "text/plain": [
       "<matplotlib.axes._subplots.AxesSubplot at 0x12649f828>"
      ]
     },
     "execution_count": 56,
     "metadata": {},
     "output_type": "execute_result"
    },
    {
     "data": {
      "image/png": "[encoded data removed]",
      "text/plain": [
       "<Figure size 648x648 with 1 Axes>"
      ]
     },
     "metadata": {
      "needs_background": "light"
     },
     "output_type": "display_data"
    }
   ],
   "source": [
    "plot_soundings(result_list, name_list)"
   ]
  },
  {
   "cell_type": "markdown",
   "metadata": {
    "slideshow": {
     "slide_type": "slide"
    }
   },
   "source": [
    "Introducing convective adjustment into the model cools the surface quite a bit (compared to Radiative Equilibrium, in green here) -- and warms the lower troposphere. It gives us a MUCH better fit to observations.\n",
    "\n",
    "But of course we still have no stratosphere."
   ]
  },
  {
   "cell_type": "markdown",
   "metadata": {
    "slideshow": {
     "slide_type": "slide"
    }
   },
   "source": [
    "____________\n",
    "<a id='section8'></a>\n",
    "\n",
    "## 8. Putting stratospheric ozone in the grey-gas model\n",
    "____________\n",
    "\n",
    "Our model has no equivalent of the stratosphere, where temperature increases with height. That's because our model has been completely transparent to shortwave radiation up until now."
   ]
  },
  {
   "cell_type": "markdown",
   "metadata": {
    "slideshow": {
     "slide_type": "slide"
    }
   },
   "source": [
    "We can load the observed ozone climatology from the input files for the CESM model:"
   ]
  },
  {
   "cell_type": "code",
   "execution_count": 57,
   "metadata": {
    "slideshow": {
     "slide_type": "-"
    }
   },
   "outputs": [],
   "source": [
    "#cesm_data_path = \"http://thredds.atmos.albany.edu:8080/thredds/dodsC/CESMA/\"\n",
    "cesm_data_path = \"../Data/CESMA/\"\n",
    "cesm_full_path = cesm_data_path + 'som_input/ozone_1.9x2.5_L26_2000clim_c091112.nc'\n",
    "ozone = xr.open_dataset(cesm_full_path)"
   ]
  },
  {
   "cell_type": "code",
   "execution_count": 58,
   "metadata": {
    "slideshow": {
     "slide_type": "slide"
    }
   },
   "outputs": [
    {
     "name": "stdout",
     "output_type": "stream",
     "text": [
      "<xarray.Dataset>\n",
      "Dimensions:  (ilev: 27, lat: 96, lev: 26, lon: 144, slat: 95, slon: 144, time: 12)\n",
      "Coordinates:\n",
      "  * ilev     (ilev) float64 2.194 4.895 9.882 18.05 ... 903.3 956.0 985.1 1e+03\n",
      "  * lat      (lat) float64 -90.0 -88.11 -86.21 -84.32 ... 84.32 86.21 88.11 90.0\n",
      "  * lev      (lev) float64 3.545 7.389 13.97 23.94 ... 867.2 929.6 970.6 992.6\n",
      "  * lon      (lon) float64 0.0 2.5 5.0 7.5 10.0 ... 350.0 352.5 355.0 357.5\n",
      "  * slat     (slat) float64 -89.05 -87.16 -85.26 -83.37 ... 85.26 87.16 89.05\n",
      "  * slon     (slon) float64 -1.25 1.25 3.75 6.25 ... 348.8 351.2 353.8 356.2\n",
      "  * time     (time) object 2000-01-15 00:00:00 ... 2000-12-15 00:00:00\n",
      "Data variables:\n",
      "    P0       float64 ...\n",
      "    date     (time) int32 ...\n",
      "    datesec  (time) int32 ...\n",
      "    gw       (lat) float64 ...\n",
      "    hyai     (ilev) float64 ...\n",
      "    hyam     (lev) float64 ...\n",
      "    hybi     (ilev) float64 ...\n",
      "    hybm     (lev) float64 ...\n",
      "    w_stag   (slat) float64 ...\n",
      "    O3       (time, lev, lat, lon) float32 ...\n",
      "    PS       (time, lat, lon) float32 ...\n",
      "Attributes:\n",
      "    Conventions:                     CF-1.0\n",
      "    source:                          CAM\n",
      "    case:                            ar5_cam_1850-2000_03\n",
      "    title:                           \n",
      "    logname:                         lamar\n",
      "    host:                            be0207en.ucar.ed\n",
      "    Version:                         $Name$\n",
      "    revision_Id:                     $Id$\n",
      "    initial_file:                    /ptmp/lamar/cam-inputs/ar5_cam_1850_06.c...\n",
      "    topography_file:                 /fs/cgd/csm/inputdata/atm/cam/topo/USGS-...\n",
      "    history:                         Wed Jan  5 14:56:28 2011: ncks -d time,1...\n",
      "    nco_openmp_thread_number:        1\n",
      "    NCO:                             4.0.5\n",
      "    DODS_EXTRA.Unlimited_Dimension:  time\n"
     ]
    }
   ],
   "source": [
    "print(ozone)"
   ]
  },
  {
   "cell_type": "markdown",
   "metadata": {
    "slideshow": {
     "slide_type": "slide"
    }
   },
   "source": [
    "The pressure levels in this dataset are:"
   ]
  },
  {
   "cell_type": "code",
   "execution_count": 59,
   "metadata": {},
   "outputs": [
    {
     "name": "stdout",
     "output_type": "stream",
     "text": [
      "<xarray.DataArray 'lev' (lev: 26)>\n",
      "array([  3.544638,   7.388814,  13.967214,  23.944625,  37.23029 ,  53.114605,\n",
      "        70.05915 ,  85.439115, 100.514695, 118.250335, 139.115395, 163.66207 ,\n",
      "       192.539935, 226.513265, 266.481155, 313.501265, 368.81798 , 433.895225,\n",
      "       510.455255, 600.5242  , 696.79629 , 787.70206 , 867.16076 , 929.648875,\n",
      "       970.55483 , 992.5561  ])\n",
      "Coordinates:\n",
      "  * lev      (lev) float64 3.545 7.389 13.97 23.94 ... 867.2 929.6 970.6 992.6\n",
      "Attributes:\n",
      "    long_name:      hybrid level at midpoints (1000*(A+B))\n",
      "    units:          level\n",
      "    positive:       down\n",
      "    standard_name:  atmosphere_hybrid_sigma_pressure_coordinate\n",
      "    formula_terms:  a: hyam b: hybm p0: P0 ps: PS\n"
     ]
    }
   ],
   "source": [
    "print( ozone.lev)"
   ]
  },
  {
   "cell_type": "markdown",
   "metadata": {
    "slideshow": {
     "slide_type": "slide"
    }
   },
   "source": [
    "### Take the global average of the ozone climatology, and plot it as a function of pressure (or height)"
   ]
  },
  {
   "cell_type": "code",
   "execution_count": 60,
   "metadata": {},
   "outputs": [
    {
     "name": "stdout",
     "output_type": "stream",
     "text": [
      "<xarray.DataArray (lev: 26)>\n",
      "array([7.82792878e-06, 8.64150529e-06, 7.58940028e-06, 5.24567145e-06,\n",
      "       3.17761574e-06, 1.82320006e-06, 9.80756960e-07, 6.22870516e-07,\n",
      "       4.47620550e-07, 3.34481169e-07, 2.62570302e-07, 2.07898125e-07,\n",
      "       1.57074555e-07, 1.12425545e-07, 8.06004999e-08, 6.27826498e-08,\n",
      "       5.42990561e-08, 4.99506089e-08, 4.60075681e-08, 4.22977789e-08,\n",
      "       3.80559071e-08, 3.38768568e-08, 3.12171619e-08, 2.97807119e-08,\n",
      "       2.87980968e-08, 2.75429934e-08])\n",
      "Coordinates:\n",
      "  * lev      (lev) float64 3.545 7.389 13.97 23.94 ... 867.2 929.6 970.6 992.6\n"
     ]
    }
   ],
   "source": [
    "#  Take global, annual average\n",
    "weight_ozone = cos(deg2rad(ozone.lat)) / cos(deg2rad(ozone.lat)).mean(dim='lat')\n",
    "O3_global = (ozone.O3 * weight_ozone).mean(dim=('lat','lon','time'))\n",
    "print( O3_global)"
   ]
  },
  {
   "cell_type": "code",
   "execution_count": 61,
   "metadata": {
    "slideshow": {
     "slide_type": "slide"
    }
   },
   "outputs": [
    {
     "data": {
      "image/png": "[encoded data removed]",
      "text/plain": [
       "<Figure size 720x576 with 1 Axes>"
      ]
     },
     "metadata": {
      "needs_background": "light"
     },
     "output_type": "display_data"
    }
   ],
   "source": [
    "fig2, ax = plt.subplots(figsize=(10, 8))\n",
    "ax.plot( O3_global * 1.E6, -np.log(ozone.lev/climlab.constants.ps) )\n",
    "ax.set_xlabel('Ozone (ppm)', fontsize=16)\n",
    "ax.set_ylabel('Pressure (hPa)', fontsize=16 )\n",
    "yticks = np.array([1000., 750., 500., 250., 100., 50., 20., 10., 5.])\n",
    "ax.set_yticks(-np.log(yticks/1000.))\n",
    "ax.set_yticklabels(yticks)\n",
    "ax.grid()\n",
    "ax.set_title('Global, annual mean ozone concentration', fontsize = 16);"
   ]
  },
  {
   "cell_type": "markdown",
   "metadata": {},
   "source": [
    "This shows that most of the ozone is indeed in the stratosphere, and peaks near the top of the stratosphere."
   ]
  },
  {
   "cell_type": "markdown",
   "metadata": {
    "slideshow": {
     "slide_type": "slide"
    }
   },
   "source": [
    "Now create a new column model object **on the same pressure levels as the ozone data**.  We are also going set an adjusted lapse rate of 6 K / km."
   ]
  },
  {
   "cell_type": "code",
   "execution_count": 62,
   "metadata": {},
   "outputs": [
    {
     "name": "stdout",
     "output_type": "stream",
     "text": [
      "climlab Process of type <class 'climlab.model.column.RadiativeConvectiveModel'>. \n",
      "State variables and domain shapes: \n",
      "  Ts: (1,) \n",
      "  Tatm: (26,) \n",
      "The subprocess tree: \n",
      "Untitled: <class 'climlab.model.column.RadiativeConvectiveModel'>\n",
      "   LW: <class 'climlab.radiation.greygas.GreyGas'>\n",
      "   SW: <class 'climlab.radiation.greygas.GreyGasSW'>\n",
      "   insolation: <class 'climlab.radiation.insolation.FixedInsolation'>\n",
      "   convective adjustment: <class 'climlab.convection.convadj.ConvectiveAdjustment'>\n",
      "\n"
     ]
    }
   ],
   "source": [
    "# the RadiativeConvectiveModel is pre-defined in climlab\n",
    "# It contains the same components are our previous model\n",
    "# But here we are specifying a different set of vertical levels.\n",
    "oz_col = climlab.RadiativeConvectiveModel(lev = ozone.lev, adj_lapse_rate=6)\n",
    "print(oz_col)"
   ]
  },
  {
   "cell_type": "markdown",
   "metadata": {
    "slideshow": {
     "slide_type": "slide"
    }
   },
   "source": [
    "Now we will do something new: let the column absorb some shortwave radiation. We will assume that the shortwave absorptivity is proportional to the ozone concentration we plotted above. "
   ]
  },
  {
   "cell_type": "markdown",
   "metadata": {
    "slideshow": {
     "slide_type": "slide"
    }
   },
   "source": [
    "Now we need to weight the absorptivity by the pressure (mass) of each layer."
   ]
  },
  {
   "cell_type": "code",
   "execution_count": 63,
   "metadata": {},
   "outputs": [],
   "source": [
    "# This number is an arbitrary parameter that scales how absorptive we are making the ozone\n",
    "# in our grey gas model\n",
    "ozonefactor = 75\n",
    "dp = oz_col.Tatm.domain.lev.delta\n",
    "epsSW = O3_global.values * dp * ozonefactor"
   ]
  },
  {
   "cell_type": "markdown",
   "metadata": {},
   "source": [
    "We want to use the field `epsSW` as the absorptivity for our SW radiation model.\n",
    "\n",
    "Let's see what the absorptivity is current set to:"
   ]
  },
  {
   "cell_type": "code",
   "execution_count": 64,
   "metadata": {
    "slideshow": {
     "slide_type": "slide"
    }
   },
   "outputs": [
    {
     "name": "stdout",
     "output_type": "stream",
     "text": [
      "[0. 0. 0. 0. 0. 0. 0. 0. 0. 0. 0. 0. 0. 0. 0. 0. 0. 0. 0. 0. 0. 0. 0. 0.\n",
      " 0. 0.]\n"
     ]
    }
   ],
   "source": [
    "print(oz_col.subprocess['SW'].absorptivity)"
   ]
  },
  {
   "cell_type": "markdown",
   "metadata": {
    "slideshow": {
     "slide_type": "-"
    }
   },
   "source": [
    "It defaults to zero.\n",
    "\n",
    "Before changing this (putting in the ozone), let's take a look at the shortwave absorption in the column:"
   ]
  },
  {
   "cell_type": "code",
   "execution_count": 65,
   "metadata": {
    "slideshow": {
     "slide_type": "fragment"
    }
   },
   "outputs": [],
   "source": [
    "oz_col.compute_diagnostics()"
   ]
  },
  {
   "cell_type": "code",
   "execution_count": 66,
   "metadata": {},
   "outputs": [
    {
     "data": {
      "text/plain": [
       "array([0., 0., 0., 0., 0., 0., 0., 0., 0., 0., 0., 0., 0., 0., 0., 0., 0.,\n",
       "       0., 0., 0., 0., 0., 0., 0., 0., 0.])"
      ]
     },
     "execution_count": 66,
     "metadata": {},
     "output_type": "execute_result"
    }
   ],
   "source": [
    "oz_col.diagnostics['SW_absorbed_atm']"
   ]
  },
  {
   "cell_type": "markdown",
   "metadata": {
    "slideshow": {
     "slide_type": "slide"
    }
   },
   "source": [
    "Let's now put in the ozone:"
   ]
  },
  {
   "cell_type": "code",
   "execution_count": 67,
   "metadata": {},
   "outputs": [
    {
     "name": "stdout",
     "output_type": "stream",
     "text": [
      "[3.20948549e-03 3.37750296e-03 4.71182551e-03 4.57614201e-03\n",
      " 3.47591203e-03 2.24450924e-03 1.18884331e-03 7.11369788e-04\n",
      " 5.50761612e-04 4.84170273e-04 4.47141487e-04 4.16507314e-04\n",
      " 3.70212131e-04 3.11733073e-04 2.62922861e-04 2.40936639e-04\n",
      " 2.45147939e-04 2.65307555e-04 2.87482272e-04 2.95567946e-04\n",
      " 2.67120872e-04 2.16427978e-04 1.66169127e-04 1.15468088e-04\n",
      " 6.79353134e-05 3.81013280e-05]\n"
     ]
    }
   ],
   "source": [
    "oz_col.subprocess['SW'].absorptivity = epsSW\n",
    "print( oz_col.subprocess['SW'].absorptivity)"
   ]
  },
  {
   "cell_type": "markdown",
   "metadata": {
    "slideshow": {
     "slide_type": "slide"
    }
   },
   "source": [
    "Let's check how this changes the SW absorption:"
   ]
  },
  {
   "cell_type": "code",
   "execution_count": 68,
   "metadata": {},
   "outputs": [
    {
     "data": {
      "text/plain": [
       "array([1.40571621, 1.47671285, 2.05685574, 1.99236565, 1.50916587,\n",
       "       0.97239284, 0.51429089, 0.30750441, 0.23797743, 0.20913838,\n",
       "       0.19309134, 0.17981756, 0.1597929 , 0.13452308, 0.11343944,\n",
       "       0.10393806, 0.10574109, 0.11442201, 0.12396838, 0.12743553,\n",
       "       0.11515129, 0.09328389, 0.07161233, 0.04975714, 0.02927232,\n",
       "       0.01641659])"
      ]
     },
     "execution_count": 68,
     "metadata": {},
     "output_type": "execute_result"
    }
   ],
   "source": [
    "oz_col.compute_diagnostics()\n",
    "oz_col.SW_absorbed_atm"
   ]
  },
  {
   "cell_type": "markdown",
   "metadata": {},
   "source": [
    "It is now non-zero, and largest near the top of the column (also top of the array) where the ozone concentration is highest."
   ]
  },
  {
   "cell_type": "markdown",
   "metadata": {
    "slideshow": {
     "slide_type": "slide"
    }
   },
   "source": [
    "Now it's time to run the model out to radiative-convective equilibrium"
   ]
  },
  {
   "cell_type": "code",
   "execution_count": 69,
   "metadata": {},
   "outputs": [
    {
     "name": "stdout",
     "output_type": "stream",
     "text": [
      "Integrating for 365 steps, 365.2422 days, or 1.0 years.\n",
      "Total elapsed time is 0.9993368783782377 years.\n"
     ]
    }
   ],
   "source": [
    "oz_col.integrate_years(1.)"
   ]
  },
  {
   "cell_type": "code",
   "execution_count": 70,
   "metadata": {},
   "outputs": [
    {
     "name": "stdout",
     "output_type": "stream",
     "text": [
      "[-0.0040524]\n"
     ]
    }
   ],
   "source": [
    "print( oz_col.ASR - oz_col.OLR)"
   ]
  },
  {
   "cell_type": "markdown",
   "metadata": {
    "slideshow": {
     "slide_type": "slide"
    }
   },
   "source": [
    "And let's now see what we got!"
   ]
  },
  {
   "cell_type": "code",
   "execution_count": 71,
   "metadata": {},
   "outputs": [],
   "source": [
    "result_list.append(oz_col.state)\n",
    "name_list.append('Radiative-Convective equilibrium with O3')"
   ]
  },
  {
   "cell_type": "code",
   "execution_count": 72,
   "metadata": {
    "slideshow": {
     "slide_type": "slide"
    }
   },
   "outputs": [
    {
     "data": {
      "text/plain": [
       "<matplotlib.axes._subplots.AxesSubplot at 0x1263a6eb8>"
      ]
     },
     "execution_count": 72,
     "metadata": {},
     "output_type": "execute_result"
    },
    {
     "data": {
      "image/png": "[encoded data removed]",
      "text/plain": [
       "<Figure size 648x648 with 1 Axes>"
      ]
     },
     "metadata": {
      "needs_background": "light"
     },
     "output_type": "display_data"
    }
   ],
   "source": [
    "# Make a plot to compare observations, Radiative Equilibrium, Radiative-Convective \n",
    "# Equilibrium, and RCE with ozone!\n",
    "plot_soundings(result_list, name_list)"
   ]
  },
  {
   "cell_type": "markdown",
   "metadata": {
    "slideshow": {
     "slide_type": "slide"
    }
   },
   "source": [
    "And we finally have something that looks looks like the tropopause, with temperature increasing above at approximately the correct rate. \n",
    "\n",
    "There are still plenty of discrepancies between this model solution and the observations, including:\n",
    "\n",
    "- Tropopause temperature is too warm, by about 15 degrees\n",
    "- Surface temperature is too cold"
   ]
  },
  {
   "cell_type": "markdown",
   "metadata": {
    "slideshow": {
     "slide_type": "slide"
    }
   },
   "source": [
    "There are a number of parameters we might adjust if we wanted to improve the fit, including:\n",
    "\n",
    "- Longwave absorptivity\n",
    "- Surface albedo\n",
    "\n",
    "Feel free to experiment! (That's what models are for, after all)."
   ]
  },
  {
   "cell_type": "markdown",
   "metadata": {
    "slideshow": {
     "slide_type": "slide"
    }
   },
   "source": [
    "### The take home message\n",
    "\n",
    "The dominant effect of stratospheric ozone is to vastly increase the radiative equilibrium temperature in the ozone layer. The temperature needs to be higher so that the longwave emission can balance the shortwave absorption.\n",
    "\n",
    "Without ozone to absorb incoming solar radiation, the **temperature does not increase with height**.\n",
    "\n",
    "This simple grey-gas model illustrates this principle very clearly."
   ]
  },
  {
   "cell_type": "markdown",
   "metadata": {
    "slideshow": {
     "slide_type": "skip"
    }
   },
   "source": [
    "____________\n",
    "\n",
    "## Credits\n",
    "\n",
    "This notebook is part of [The Climate Laboratory](https://brian-rose.github.io/ClimateLaboratoryBook), an open-source textbook developed and maintained by [Brian E. J. Rose](http://www.atmos.albany.edu/facstaff/brose/index.html), University at Albany. It has been modified by [Nicole Feldl](http://nicolefeldl.com), UC Santa Cruz.\n",
    "\n",
    "It is licensed for free and open consumption under the\n",
    "[Creative Commons Attribution 4.0 International (CC BY 4.0)](https://creativecommons.org/licenses/by/4.0/) license.\n",
    "\n",
    "Development of these notes and the [climlab software](https://github.com/brian-rose/climlab) is partially supported by the National Science Foundation under award AGS-1455071 to Brian Rose. Any opinions, findings, conclusions or recommendations expressed here are mine and do not necessarily reflect the views of the National Science Foundation.\n",
    "____________"
   ]
  },
  {
   "cell_type": "code",
   "execution_count": null,
   "metadata": {},
   "outputs": [],
   "source": []
  }
 ],
 "metadata": {
  "anaconda-cloud": {},
  "kernelspec": {
   "display_name": "Python 3",
   "language": "python",
   "name": "python3"
  },
  "language_info": {
   "codemirror_mode": {
    "name": "ipython",
    "version": 3
   },
   "file_extension": ".py",
   "mimetype": "text/x-python",
   "name": "python",
   "nbconvert_exporter": "python",
   "pygments_lexer": "ipython3",
   "version": "3.6.10"
  }
 },
 "nbformat": 4,
 "nbformat_minor": 4
}

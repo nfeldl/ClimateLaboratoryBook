{
 "cells": [
  {
   "cell_type": "markdown",
   "metadata": {},
   "source": [
    "# Advanced topic: Solving the two-layer grey gas model analytically with sympy"
   ]
  },
  {
   "cell_type": "markdown",
   "metadata": {},
   "source": [
    "____________\n",
    "\n",
    "## 1. Introducing symbolic computation with sympy\n",
    "____________"
   ]
  },
  {
   "cell_type": "markdown",
   "metadata": {},
   "source": [
    "These notes elaborate on material in the [lecture on elementary greenhouse models](elementary-greenhouse.ipynb), demonstrating use of a computer algebra system to make precise calculations."
   ]
  },
  {
   "cell_type": "markdown",
   "metadata": {},
   "source": [
    "### Symbolic math with the sympy package\n",
    "\n",
    "The two-layer grey gas model is simple enough that we can work out all the details algebraically. There are three temperatures to keep track of $(T_s, T_0, T_1)$, so we will have 3x3 matrix equations.\n",
    "\n",
    "We all know how to work these things out with pencil and paper. But it can be tedious and error-prone. \n",
    "\n",
    "Symbolic math software lets us use the computer to automate a lot of tedious algebra.\n",
    "\n",
    "The [sympy](http://www.sympy.org/en/index.html) package is a powerful open-source symbolic math library that is well-integrated into the scientific Python ecosystem. "
   ]
  },
  {
   "cell_type": "markdown",
   "metadata": {},
   "source": [
    "### Getting started with sympy"
   ]
  },
  {
   "cell_type": "code",
   "execution_count": 1,
   "metadata": {},
   "outputs": [
    {
     "data": {
      "image/png": "[encoded data removed]",
      "text/latex": [
       "$$T_{s}$$"
      ],
      "text/plain": [
       "Tₛ"
      ]
     },
     "execution_count": 1,
     "metadata": {},
     "output_type": "execute_result"
    }
   ],
   "source": [
    "import sympy\n",
    "#  Allow sympy to produce nice looking equations as output\n",
    "sympy.init_printing()\n",
    "#  Define some symbols for mathematical quantities\n",
    "#  Assume all quantities are positive (which will help simplify some expressions)\n",
    "epsilon, T_e, T_s, T_0, T_1, sigma = \\\n",
    "    sympy.symbols('epsilon, T_e, T_s, T_0, T_1, sigma', positive=True)\n",
    "#  So far we have just defined some symbols, e.g.\n",
    "T_s"
   ]
  },
  {
   "cell_type": "code",
   "execution_count": 2,
   "metadata": {},
   "outputs": [
    {
     "data": {
      "text/plain": [
       "True"
      ]
     },
     "execution_count": 2,
     "metadata": {},
     "output_type": "execute_result"
    }
   ],
   "source": [
    "#  We have hard-coded the assumption that the temperature is positive\n",
    "sympy.ask(T_s>0)"
   ]
  },
  {
   "cell_type": "markdown",
   "metadata": {},
   "source": [
    "____________\n",
    "\n",
    "## 2. Coding up the 2-layer grey gas model in sympy\n",
    "____________"
   ]
  },
  {
   "cell_type": "markdown",
   "metadata": {},
   "source": [
    "### Longwave emissions\n",
    "\n",
    "Let's denote the emissions from each layer as\n",
    "\\begin{align}\n",
    "E_s &= \\sigma T_s^4 \\\\\n",
    "E_0 &= \\epsilon \\sigma T_0^4 \\\\\n",
    "E_1 &= \\epsilon \\sigma T_1^4 \n",
    "\\end{align}\n",
    "\n",
    "recognizing that $E_0$ and $E_1$ contribute to **both** the upwelling and downwelling beams."
   ]
  },
  {
   "cell_type": "code",
   "execution_count": 3,
   "metadata": {},
   "outputs": [
    {
     "data": {
      "image/png": "[encoded data removed]",
      "text/latex": [
       "$$\\left[\\begin{matrix}T_{s}^{4} \\sigma\\\\T_{0}^{4} \\epsilon \\sigma\\\\T_{1}^{4} \\epsilon \\sigma\\end{matrix}\\right]$$"
      ],
      "text/plain": [
       "⎡   4   ⎤\n",
       "⎢ Tₛ ⋅σ ⎥\n",
       "⎢       ⎥\n",
       "⎢  4    ⎥\n",
       "⎢T₀ ⋅ε⋅σ⎥\n",
       "⎢       ⎥\n",
       "⎢  4    ⎥\n",
       "⎣T₁ ⋅ε⋅σ⎦"
      ]
     },
     "execution_count": 3,
     "metadata": {},
     "output_type": "execute_result"
    }
   ],
   "source": [
    "#  Define these operations as sympy symbols \n",
    "#  And display as a column vector:\n",
    "E_s = sigma*T_s**4\n",
    "E_0 = epsilon*sigma*T_0**4\n",
    "E_1 = epsilon*sigma*T_1**4\n",
    "E = sympy.Matrix([E_s, E_0, E_1])\n",
    "E"
   ]
  },
  {
   "cell_type": "markdown",
   "metadata": {},
   "source": [
    "### Shortwave radiation\n",
    "\n",
    "Since we have assumed the atmosphere is transparent to shortwave, the incident beam $Q$ passes unchanged from the top to the surface, where a fraction $\\alpha$ is reflected upward out to space."
   ]
  },
  {
   "cell_type": "code",
   "execution_count": 4,
   "metadata": {},
   "outputs": [
    {
     "data": {
      "image/png": "[encoded data removed]",
      "text/latex": [
       "$$\\left \\{ Q : 341.3, \\quad \\alpha : 0.298564312921184, \\quad \\sigma : 5.67e-08\\right \\}$$"
      ],
      "text/plain": [
       "{Q: 341.3, α: 0.298564312921184, σ: 5.67e-08}"
      ]
     },
     "execution_count": 4,
     "metadata": {},
     "output_type": "execute_result"
    }
   ],
   "source": [
    "#  Define some new symbols for shortwave radiation\n",
    "Q, alpha = sympy.symbols('Q, alpha', positive=True)\n",
    "#  Create a dictionary to hold our numerical values\n",
    "tuned = {}\n",
    "tuned[Q] = 341.3  #  global mean insolation in W/m2\n",
    "tuned[alpha] = 101.9/Q.subs(tuned)  #  observed planetary albedo\n",
    "tuned[sigma] = 5.67E-8  #  Stefan-Boltzmann constant in W/m2/K4\n",
    "tuned\n",
    "#  Numerical value for emission temperature\n",
    "#T_e.subs(tuned)"
   ]
  },
  {
   "cell_type": "markdown",
   "metadata": {
    "slideshow": {
     "slide_type": "slide"
    }
   },
   "source": [
    "### Tracing the upwelling beam of longwave radiation\n",
    "\n",
    "Let $U$ be the upwelling flux of longwave radiation. \n",
    "\n",
    "The upward flux **from the surface to layer 0** is\n",
    "\n",
    "$$ U_0 = E_s $$\n",
    "\n",
    "(just the emission from the suface)."
   ]
  },
  {
   "cell_type": "code",
   "execution_count": 5,
   "metadata": {},
   "outputs": [
    {
     "data": {
      "image/png": "[encoded data removed]",
      "text/latex": [
       "$$T_{s}^{4} \\sigma$$"
      ],
      "text/plain": [
       "  4  \n",
       "Tₛ ⋅σ"
      ]
     },
     "execution_count": 5,
     "metadata": {},
     "output_type": "execute_result"
    }
   ],
   "source": [
    "U_0 = E_s\n",
    "U_0"
   ]
  },
  {
   "cell_type": "markdown",
   "metadata": {
    "slideshow": {
     "slide_type": "slide"
    }
   },
   "source": [
    "Following this beam upward, we can write the upward flux from layer 0 to layer 1 as the sum of the transmitted component that originated below layer 0 and the new emissions from layer 0:\n",
    "\n",
    "$$ U_1 = (1-\\epsilon) U_0 + E_0 $$"
   ]
  },
  {
   "cell_type": "code",
   "execution_count": 6,
   "metadata": {},
   "outputs": [
    {
     "data": {
      "image/png": "[encoded data removed]",
      "text/latex": [
       "$$T_{0}^{4} \\epsilon \\sigma + T_{s}^{4} \\sigma \\left(- \\epsilon + 1\\right)$$"
      ],
      "text/plain": [
       "  4         4           \n",
       "T₀ ⋅ε⋅σ + Tₛ ⋅σ⋅(-ε + 1)"
      ]
     },
     "execution_count": 6,
     "metadata": {},
     "output_type": "execute_result"
    }
   ],
   "source": [
    "U_1 = (1-epsilon)*U_0 + E_0\n",
    "U_1"
   ]
  },
  {
   "cell_type": "markdown",
   "metadata": {
    "slideshow": {
     "slide_type": "fragment"
    }
   },
   "source": [
    "Continuing to follow the same beam, the upwelling flux above layer 1 is\n",
    "$$ U_2 = (1-\\epsilon) U_1 + E_1 $$"
   ]
  },
  {
   "cell_type": "code",
   "execution_count": 7,
   "metadata": {},
   "outputs": [],
   "source": [
    "U_2 = (1-epsilon) * U_1 + E_1"
   ]
  },
  {
   "cell_type": "markdown",
   "metadata": {
    "slideshow": {
     "slide_type": "slide"
    }
   },
   "source": [
    "Since there is no more atmosphere above layer 1, this upwelling flux is our Outgoing Longwave Radiation for this model:\n",
    "\n",
    "$$ OLR = U_2 $$"
   ]
  },
  {
   "cell_type": "code",
   "execution_count": 8,
   "metadata": {},
   "outputs": [
    {
     "data": {
      "image/png": "[encoded data removed]",
      "text/latex": [
       "$$T_{1}^{4} \\epsilon \\sigma + \\left(- \\epsilon + 1\\right) \\left(T_{0}^{4} \\epsilon \\sigma + T_{s}^{4} \\sigma \\left(- \\epsilon + 1\\right)\\right)$$"
      ],
      "text/plain": [
       "  4                ⎛  4         4           ⎞\n",
       "T₁ ⋅ε⋅σ + (-ε + 1)⋅⎝T₀ ⋅ε⋅σ + Tₛ ⋅σ⋅(-ε + 1)⎠"
      ]
     },
     "execution_count": 8,
     "metadata": {},
     "output_type": "execute_result"
    }
   ],
   "source": [
    "U_2"
   ]
  },
  {
   "cell_type": "markdown",
   "metadata": {
    "slideshow": {
     "slide_type": "slide"
    }
   },
   "source": [
    "The three terms in the above expression represent the **contributions to the total OLR that originate from each of the three levels**. \n",
    "\n",
    "Let's code this up explicitly for future reference:"
   ]
  },
  {
   "cell_type": "code",
   "execution_count": 9,
   "metadata": {
    "slideshow": {
     "slide_type": "-"
    }
   },
   "outputs": [
    {
     "name": "stdout",
     "output_type": "stream",
     "text": [
      "The expression for OLR is\n"
     ]
    },
    {
     "data": {
      "image/png": "[encoded data removed]",
      "text/latex": [
       "$$T_{0}^{4} \\epsilon \\sigma \\left(- \\epsilon + 1\\right) + T_{1}^{4} \\epsilon \\sigma + T_{s}^{4} \\sigma \\left(- \\epsilon + 1\\right)^{2}$$"
      ],
      "text/plain": [
       "  4                  4         4           2\n",
       "T₀ ⋅ε⋅σ⋅(-ε + 1) + T₁ ⋅ε⋅σ + Tₛ ⋅σ⋅(-ε + 1) "
      ]
     },
     "execution_count": 9,
     "metadata": {},
     "output_type": "execute_result"
    }
   ],
   "source": [
    "#  Define the contributions to OLR originating from each level\n",
    "OLR_s = (1-epsilon)**2 *sigma*T_s**4\n",
    "OLR_0 = epsilon*(1-epsilon)*sigma*T_0**4\n",
    "OLR_1 = epsilon*sigma*T_1**4\n",
    "\n",
    "OLR = OLR_s + OLR_0 + OLR_1\n",
    "\n",
    "print( 'The expression for OLR is')\n",
    "OLR"
   ]
  },
  {
   "cell_type": "markdown",
   "metadata": {
    "slideshow": {
     "slide_type": "slide"
    }
   },
   "source": [
    "### Downwelling beam\n",
    "\n",
    "Let $D$ be the downwelling longwave beam. Since there is no longwave radiation coming in from space, we begin with "
   ]
  },
  {
   "cell_type": "code",
   "execution_count": 10,
   "metadata": {},
   "outputs": [],
   "source": [
    "fromspace = 0\n",
    "D_2 = fromspace"
   ]
  },
  {
   "cell_type": "markdown",
   "metadata": {},
   "source": [
    "Between layer 1 and layer 0 the beam contains emissions from layer 1:\n",
    "\n",
    "$$ D_1 = (1-\\epsilon)D_2 + E_1 = E_1 $$"
   ]
  },
  {
   "cell_type": "code",
   "execution_count": 11,
   "metadata": {},
   "outputs": [
    {
     "data": {
      "image/png": "[encoded data removed]",
      "text/latex": [
       "$$T_{1}^{4} \\epsilon \\sigma$$"
      ],
      "text/plain": [
       "  4    \n",
       "T₁ ⋅ε⋅σ"
      ]
     },
     "execution_count": 11,
     "metadata": {},
     "output_type": "execute_result"
    }
   ],
   "source": [
    "D_1 = (1-epsilon)*D_2 + E_1\n",
    "D_1"
   ]
  },
  {
   "cell_type": "markdown",
   "metadata": {
    "slideshow": {
     "slide_type": "slide"
    }
   },
   "source": [
    "Finally between layer 0 and the surface the beam contains a transmitted component and the emissions from layer 0:\n",
    "\n",
    "$$ D_0 = (1-\\epsilon) D_1 + E_0 = \\epsilon(1-\\epsilon) \\sigma T_1^4 + \\epsilon \\sigma T_0^4$$"
   ]
  },
  {
   "cell_type": "code",
   "execution_count": 12,
   "metadata": {},
   "outputs": [
    {
     "data": {
      "image/png": "[encoded data removed]",
      "text/latex": [
       "$$T_{0}^{4} \\epsilon \\sigma + T_{1}^{4} \\epsilon \\sigma \\left(- \\epsilon + 1\\right)$$"
      ],
      "text/plain": [
       "  4         4             \n",
       "T₀ ⋅ε⋅σ + T₁ ⋅ε⋅σ⋅(-ε + 1)"
      ]
     },
     "execution_count": 12,
     "metadata": {},
     "output_type": "execute_result"
    }
   ],
   "source": [
    "D_0 = (1-epsilon)*D_1 + E_0\n",
    "D_0"
   ]
  },
  {
   "cell_type": "markdown",
   "metadata": {},
   "source": [
    "This $D_0$ is what we call the **back radiation**, i.e. the longwave radiation from the atmosphere to the surface."
   ]
  },
  {
   "cell_type": "markdown",
   "metadata": {
    "slideshow": {
     "slide_type": "slide"
    }
   },
   "source": [
    "____________\n",
    "<a id='section3'></a>\n",
    "\n",
    "## 3. Tuning the grey gas model to observations\n",
    "____________"
   ]
  },
  {
   "cell_type": "markdown",
   "metadata": {
    "slideshow": {
     "slide_type": "slide"
    }
   },
   "source": [
    "In building our new model we have introduced exactly one parameter, the absorptivity $\\epsilon$. We need to choose a value for $\\epsilon$.\n",
    "\n",
    "We will tune our model so that it **reproduces the observed global mean OLR** given **observed global mean temperatures**.\n",
    "\n",
    "To get appropriate temperatures for $T_s, T_0, T_1$, revisit the global, annual mean lapse rate plot from NCEP Reanalysis data we first encountered in the [Radiation notes](https://brian-rose.github.io/ClimateLaboratoryBook/courseware/radiation.html)."
   ]
  },
  {
   "cell_type": "markdown",
   "metadata": {
    "slideshow": {
     "slide_type": "slide"
    }
   },
   "source": [
    "### Temperatures\n",
    "\n",
    "First, we set \n",
    "$$T_s = 288 \\text{ K}  $$\n",
    "\n",
    "From the lapse rate plot, an average temperature for the layer between 1000 and 500 hPa is \n",
    "\n",
    "$$ T_0 = 275 \\text{ K}$$\n",
    "\n",
    "Defining an average temperature for the layer between 500 and 0 hPa is more ambiguous because of the lapse rate reversal at the tropopause. We will choose\n",
    "\n",
    "$$ T_1 = 230 \\text{ K}$$\n",
    "\n",
    "From the graph, this is approximately the observed global mean temperature at 275 hPa or about 10 km."
   ]
  },
  {
   "cell_type": "code",
   "execution_count": 13,
   "metadata": {
    "slideshow": {
     "slide_type": "slide"
    }
   },
   "outputs": [
    {
     "data": {
      "image/png": "[encoded data removed]",
      "text/latex": [
       "$$\\left \\{ Q : 341.3, \\quad T_{0} : 275.0, \\quad T_{1} : 230.0, \\quad T_{s} : 288.0, \\quad \\alpha : 0.298564312921184, \\quad \\sigma : 5.67e-08\\right \\}$$"
      ],
      "text/plain": [
       "{Q: 341.3, T₀: 275.0, T₁: 230.0, Tₛ: 288.0, α: 0.298564312921184, σ: 5.67e-08}"
      ]
     },
     "execution_count": 13,
     "metadata": {},
     "output_type": "execute_result"
    }
   ],
   "source": [
    "#  add to our dictionary of values:\n",
    "tuned[T_s] = 288.\n",
    "tuned[T_0] = 275.\n",
    "tuned[T_1] = 230.\n",
    "tuned"
   ]
  },
  {
   "cell_type": "markdown",
   "metadata": {
    "slideshow": {
     "slide_type": "slide"
    }
   },
   "source": [
    "### OLR\n",
    "\n",
    "From the [observed global energy budget](https://brian-rose.github.io/ClimateLaboratoryBook/courseware/models-budgets-fun.html#2.-The-observed-global-energy-budget) we set \n",
    "\n",
    "$$ OLR = 238.5 \\text{ W m}^{-2} $$"
   ]
  },
  {
   "cell_type": "markdown",
   "metadata": {
    "slideshow": {
     "slide_type": "slide"
    }
   },
   "source": [
    "### Solving for $\\epsilon$\n",
    "\n",
    "We wrote down the expression for OLR as a function of temperatures and absorptivity in our model above. \n",
    "\n",
    "We just need to equate this to the observed value and solve a **quadratic equation** for $\\epsilon$.\n",
    "\n",
    "This is where the real power of the symbolic math toolkit comes in. "
   ]
  },
  {
   "cell_type": "markdown",
   "metadata": {
    "slideshow": {
     "slide_type": "slide"
    }
   },
   "source": [
    "Subsitute in the numerical values we are interested in:"
   ]
  },
  {
   "cell_type": "code",
   "execution_count": 14,
   "metadata": {},
   "outputs": [
    {
     "data": {
      "image/png": "[encoded data removed]",
      "text/latex": [
       "$$324.2752734375 \\epsilon \\left(- \\epsilon + 1\\right) + 158.669847 \\epsilon + 390.0793946112 \\left(- \\epsilon + 1\\right)^{2}$$"
      ],
      "text/plain": [
       "                                                                  2\n",
       "324.2752734375⋅ε⋅(-ε + 1) + 158.669847⋅ε + 390.0793946112⋅(-ε + 1) "
      ]
     },
     "execution_count": 14,
     "metadata": {},
     "output_type": "execute_result"
    }
   ],
   "source": [
    "# the .subs() method for a sympy symbol means\n",
    "#  substitute values in the expression using the supplied dictionary\n",
    "#  Here we use observed values of Ts, T0, T1 \n",
    "OLR2 = OLR.subs(tuned)\n",
    "OLR2"
   ]
  },
  {
   "cell_type": "markdown",
   "metadata": {
    "slideshow": {
     "slide_type": "fragment"
    }
   },
   "source": [
    "We have a quadratic equation for $\\epsilon$.\n",
    "\n",
    "Now use the `sympy.solve` function to solve the quadratic:"
   ]
  },
  {
   "cell_type": "code",
   "execution_count": 15,
   "metadata": {
    "slideshow": {
     "slide_type": "-"
    }
   },
   "outputs": [
    {
     "data": {
      "image/png": "[encoded data removed]",
      "text/latex": [
       "$$\\left [ 0.586041150248834, \\quad 3.93060102175677\\right ]$$"
      ],
      "text/plain": [
       "[0.586041150248834, 3.93060102175677]"
      ]
     },
     "execution_count": 15,
     "metadata": {},
     "output_type": "execute_result"
    }
   ],
   "source": [
    "#  The sympy.solve method takes an expression equal to zero\n",
    "#  So in this case we subtract the tuned value of OLR from our expression\n",
    "eps_solution = sympy.solve(OLR2 - 238.5, epsilon)\n",
    "eps_solution"
   ]
  },
  {
   "cell_type": "markdown",
   "metadata": {
    "slideshow": {
     "slide_type": "slide"
    }
   },
   "source": [
    "There are two roots, but the second one is unphysical since we must have $0 < \\epsilon < 1$."
   ]
  },
  {
   "cell_type": "markdown",
   "metadata": {},
   "source": [
    "Just for fun, here is a simple of example of *filtering a list* using powerful Python *list comprehension* syntax:"
   ]
  },
  {
   "cell_type": "code",
   "execution_count": 16,
   "metadata": {},
   "outputs": [
    {
     "name": "stdout",
     "output_type": "stream",
     "text": [
      "[0.586041150248834]\n",
      "0.586041150248834\n"
     ]
    }
   ],
   "source": [
    "# Give me only the roots that are between zero and 1!\n",
    "list_result = [eps for eps in eps_solution if 0<eps<1]\n",
    "print( list_result)\n",
    "# The result is a list with a single element.\n",
    "#  We need to slice the list to get just the number:\n",
    "eps_tuned = list_result[0]\n",
    "print( eps_tuned)"
   ]
  },
  {
   "cell_type": "markdown",
   "metadata": {
    "slideshow": {
     "slide_type": "slide"
    }
   },
   "source": [
    "We conclude that our tuned value is (to within 3 decimal places):\n",
    "\n",
    "$$ \\epsilon = 0.586 $$\n",
    "\n",
    "This is the absorptivity that guarantees that our model reproduces the observed OLR given the observed tempertures."
   ]
  },
  {
   "cell_type": "code",
   "execution_count": 17,
   "metadata": {},
   "outputs": [
    {
     "data": {
      "image/png": "[encoded data removed]",
      "text/latex": [
       "$$\\left \\{ Q : 341.3, \\quad T_{0} : 275.0, \\quad T_{1} : 230.0, \\quad T_{s} : 288.0, \\quad \\alpha : 0.298564312921184, \\quad \\epsilon : 0.586041150248834, \\quad \\sigma : 5.67e-08\\right \\}$$"
      ],
      "text/plain": [
       "{Q: 341.3, T₀: 275.0, T₁: 230.0, Tₛ: 288.0, α: 0.298564312921184, ε: 0.5860411\n",
       "50248834, σ: 5.67e-08}"
      ]
     },
     "execution_count": 17,
     "metadata": {},
     "output_type": "execute_result"
    }
   ],
   "source": [
    "tuned[epsilon] = eps_tuned\n",
    "tuned"
   ]
  },
  {
   "cell_type": "markdown",
   "metadata": {
    "slideshow": {
     "slide_type": "slide"
    }
   },
   "source": [
    "____________\n",
    "<a id='section4'></a>\n",
    "\n",
    "## 4. Level of emission\n",
    "____________"
   ]
  },
  {
   "cell_type": "markdown",
   "metadata": {
    "slideshow": {
     "slide_type": "slide"
    }
   },
   "source": [
    "Even in this very simple greenhouse model, there is **no single level** at which the OLR is generated.\n",
    "\n",
    "The three terms in our formula for OLR tell us the contributions from each level."
   ]
  },
  {
   "cell_type": "code",
   "execution_count": 18,
   "metadata": {
    "slideshow": {
     "slide_type": "-"
    }
   },
   "outputs": [
    {
     "data": {
      "image/png": "[encoded data removed]",
      "text/latex": [
       "$$\\left[\\begin{matrix}T_{s}^{4} \\sigma \\left(- \\epsilon + 1\\right)^{2}\\\\T_{0}^{4} \\epsilon \\sigma \\left(- \\epsilon + 1\\right)\\\\T_{1}^{4} \\epsilon \\sigma\\end{matrix}\\right]$$"
      ],
      "text/plain": [
       "⎡  4           2 ⎤\n",
       "⎢Tₛ ⋅σ⋅(-ε + 1)  ⎥\n",
       "⎢                ⎥\n",
       "⎢  4             ⎥\n",
       "⎢T₀ ⋅ε⋅σ⋅(-ε + 1)⎥\n",
       "⎢                ⎥\n",
       "⎢      4         ⎥\n",
       "⎣    T₁ ⋅ε⋅σ     ⎦"
      ]
     },
     "execution_count": 18,
     "metadata": {},
     "output_type": "execute_result"
    }
   ],
   "source": [
    "OLRterms = sympy.Matrix([OLR_s, OLR_0, OLR_1])\n",
    "OLRterms"
   ]
  },
  {
   "cell_type": "markdown",
   "metadata": {
    "slideshow": {
     "slide_type": "slide"
    }
   },
   "source": [
    "Now evaluate these expressions for our tuned temperature and absorptivity:"
   ]
  },
  {
   "cell_type": "code",
   "execution_count": 19,
   "metadata": {
    "slideshow": {
     "slide_type": "-"
    }
   },
   "outputs": [
    {
     "data": {
      "image/png": "[encoded data removed]",
      "text/latex": [
       "$$\\left[\\begin{matrix}66.8447576358007\\\\78.6681827185129\\\\92.9870596456864\\end{matrix}\\right]$$"
      ],
      "text/plain": [
       "⎡66.8447576358007⎤\n",
       "⎢                ⎥\n",
       "⎢78.6681827185129⎥\n",
       "⎢                ⎥\n",
       "⎣92.9870596456864⎦"
      ]
     },
     "execution_count": 19,
     "metadata": {},
     "output_type": "execute_result"
    }
   ],
   "source": [
    "OLRtuned = OLRterms.subs(tuned)\n",
    "OLRtuned"
   ]
  },
  {
   "cell_type": "markdown",
   "metadata": {
    "slideshow": {
     "slide_type": "-"
    }
   },
   "source": [
    "So we are getting about 67 W m$^{-2}$ from the surface, 79 W m$^{-2}$ from layer 0, and 93 W m$^{-2}$ from the top layer."
   ]
  },
  {
   "cell_type": "markdown",
   "metadata": {
    "slideshow": {
     "slide_type": "slide"
    }
   },
   "source": [
    "In terms of fractional contributions to the total OLR, we have (limiting the output to two decimal places):"
   ]
  },
  {
   "cell_type": "code",
   "execution_count": 20,
   "metadata": {},
   "outputs": [
    {
     "data": {
      "image/png": "[encoded data removed]",
      "text/latex": [
       "$$\\left[\\begin{matrix}0.28\\\\0.33\\\\0.39\\end{matrix}\\right]$$"
      ],
      "text/plain": [
       "⎡0.28⎤\n",
       "⎢    ⎥\n",
       "⎢0.33⎥\n",
       "⎢    ⎥\n",
       "⎣0.39⎦"
      ]
     },
     "execution_count": 20,
     "metadata": {},
     "output_type": "execute_result"
    }
   ],
   "source": [
    "sympy.N(OLRtuned / 238.5, 2)"
   ]
  },
  {
   "cell_type": "markdown",
   "metadata": {},
   "source": [
    "Notice that the largest single contribution is coming from the top layer. This is in spite of the fact that the emissions from this layer are weak, because it is so cold."
   ]
  },
  {
   "cell_type": "markdown",
   "metadata": {
    "slideshow": {
     "slide_type": "slide"
    }
   },
   "source": [
    "Comparing to observations, the actual contribution to OLR from the surface is about 22 W m$^{-2}$ (or about 9% of the total), not 67 W m$^{-2}$. So we certainly don't have all the details worked out yet!\n",
    "\n",
    "As we will see later, to really understand what sets that observed 22 W m$^{-2}$, we will need to start thinking about the spectral dependence of the longwave absorptivity."
   ]
  },
  {
   "cell_type": "markdown",
   "metadata": {
    "slideshow": {
     "slide_type": "slide"
    }
   },
   "source": [
    "____________\n",
    "<a id='section5'></a>\n",
    "\n",
    "## 5. Radiative forcing in the 2-layer grey gas model\n",
    "____________"
   ]
  },
  {
   "cell_type": "markdown",
   "metadata": {
    "slideshow": {
     "slide_type": "-"
    }
   },
   "source": [
    "Adding some extra greenhouse absorbers will mean that a greater fraction of incident longwave radiation is absorbed in each layer.\n",
    "\n",
    "Thus **$\\epsilon$ must increase** as we add greenhouse gases."
   ]
  },
  {
   "cell_type": "markdown",
   "metadata": {
    "slideshow": {
     "slide_type": "slide"
    }
   },
   "source": [
    "Suppose we have $\\epsilon$ initially, and the absorptivity increases to $\\epsilon_2 = \\epsilon + \\delta_\\epsilon$.\n",
    "\n",
    "Suppose further that this increase happens **abruptly** so that there is no time for the temperatures to respond to this change. **We hold the temperatures fixed** in the column and ask how the radiative fluxes change.\n",
    "\n",
    "**Do you expect the OLR to increase or decrease?**\n",
    "\n",
    "Let's use our two-layer leaky greenhouse model to investigate the answer."
   ]
  },
  {
   "cell_type": "markdown",
   "metadata": {
    "slideshow": {
     "slide_type": "slide"
    }
   },
   "source": [
    "The components of the OLR before the perturbation are"
   ]
  },
  {
   "cell_type": "code",
   "execution_count": 21,
   "metadata": {},
   "outputs": [
    {
     "data": {
      "image/png": "[encoded data removed]",
      "text/latex": [
       "$$\\left[\\begin{matrix}T_{s}^{4} \\sigma \\left(- \\epsilon + 1\\right)^{2}\\\\T_{0}^{4} \\epsilon \\sigma \\left(- \\epsilon + 1\\right)\\\\T_{1}^{4} \\epsilon \\sigma\\end{matrix}\\right]$$"
      ],
      "text/plain": [
       "⎡  4           2 ⎤\n",
       "⎢Tₛ ⋅σ⋅(-ε + 1)  ⎥\n",
       "⎢                ⎥\n",
       "⎢  4             ⎥\n",
       "⎢T₀ ⋅ε⋅σ⋅(-ε + 1)⎥\n",
       "⎢                ⎥\n",
       "⎢      4         ⎥\n",
       "⎣    T₁ ⋅ε⋅σ     ⎦"
      ]
     },
     "execution_count": 21,
     "metadata": {},
     "output_type": "execute_result"
    }
   ],
   "source": [
    "OLRterms"
   ]
  },
  {
   "cell_type": "markdown",
   "metadata": {
    "slideshow": {
     "slide_type": "fragment"
    }
   },
   "source": [
    "After the perturbation we have"
   ]
  },
  {
   "cell_type": "code",
   "execution_count": 22,
   "metadata": {},
   "outputs": [
    {
     "data": {
      "image/png": "[encoded data removed]",
      "text/latex": [
       "$$\\left[\\begin{matrix}T_{s}^{4} \\sigma \\left(- \\delta_{\\epsilon} - \\epsilon + 1\\right)^{2}\\\\T_{0}^{4} \\sigma \\left(\\delta_{\\epsilon} + \\epsilon\\right) \\left(- \\delta_{\\epsilon} - \\epsilon + 1\\right)\\\\T_{1}^{4} \\sigma \\left(\\delta_{\\epsilon} + \\epsilon\\right)\\end{matrix}\\right]$$"
      ],
      "text/plain": [
       "⎡         4                      2       ⎤\n",
       "⎢       Tₛ ⋅σ⋅(-δₑₚₛᵢₗₒₙ - ε + 1)        ⎥\n",
       "⎢                                        ⎥\n",
       "⎢  4                                     ⎥\n",
       "⎢T₀ ⋅σ⋅(δₑₚₛᵢₗₒₙ + ε)⋅(-δₑₚₛᵢₗₒₙ - ε + 1)⎥\n",
       "⎢                                        ⎥\n",
       "⎢            4                           ⎥\n",
       "⎣          T₁ ⋅σ⋅(δₑₚₛᵢₗₒₙ + ε)          ⎦"
      ]
     },
     "execution_count": 22,
     "metadata": {},
     "output_type": "execute_result"
    }
   ],
   "source": [
    "delta_epsilon = sympy.symbols('delta_epsilon')\n",
    "OLRterms_pert = OLRterms.subs(epsilon, epsilon+delta_epsilon)\n",
    "OLRterms_pert"
   ]
  },
  {
   "cell_type": "markdown",
   "metadata": {
    "slideshow": {
     "slide_type": "slide"
    }
   },
   "source": [
    "Let's take the difference"
   ]
  },
  {
   "cell_type": "code",
   "execution_count": 23,
   "metadata": {},
   "outputs": [
    {
     "data": {
      "image/png": "[encoded data removed]",
      "text/latex": [
       "$$\\left[\\begin{matrix}- T_{s}^{4} \\sigma \\left(- \\epsilon + 1\\right)^{2} + T_{s}^{4} \\sigma \\left(- \\delta_{\\epsilon} - \\epsilon + 1\\right)^{2}\\\\- T_{0}^{4} \\epsilon \\sigma \\left(- \\epsilon + 1\\right) + T_{0}^{4} \\sigma \\left(\\delta_{\\epsilon} + \\epsilon\\right) \\left(- \\delta_{\\epsilon} - \\epsilon + 1\\right)\\\\- T_{1}^{4} \\epsilon \\sigma + T_{1}^{4} \\sigma \\left(\\delta_{\\epsilon} + \\epsilon\\right)\\end{matrix}\\right]$$"
      ],
      "text/plain": [
       "⎡           4           2     4                      2        ⎤\n",
       "⎢       - Tₛ ⋅σ⋅(-ε + 1)  + Tₛ ⋅σ⋅(-δₑₚₛᵢₗₒₙ - ε + 1)         ⎥\n",
       "⎢                                                             ⎥\n",
       "⎢    4                  4                                     ⎥\n",
       "⎢- T₀ ⋅ε⋅σ⋅(-ε + 1) + T₀ ⋅σ⋅(δₑₚₛᵢₗₒₙ + ε)⋅(-δₑₚₛᵢₗₒₙ - ε + 1)⎥\n",
       "⎢                                                             ⎥\n",
       "⎢                  4         4                                ⎥\n",
       "⎣              - T₁ ⋅ε⋅σ + T₁ ⋅σ⋅(δₑₚₛᵢₗₒₙ + ε)               ⎦"
      ]
     },
     "execution_count": 23,
     "metadata": {},
     "output_type": "execute_result"
    }
   ],
   "source": [
    "deltaOLR = OLRterms_pert - OLRterms\n",
    "deltaOLR"
   ]
  },
  {
   "cell_type": "markdown",
   "metadata": {
    "slideshow": {
     "slide_type": "slide"
    }
   },
   "source": [
    "To make things simpler, we will neglect the terms in $\\delta_\\epsilon^2$. This is perfectly reasonably because we are dealing with **small perturbations** where $\\delta_\\epsilon << \\epsilon$.\n",
    "\n",
    "Telling `sympy` to set the quadratic terms to zero gives us"
   ]
  },
  {
   "cell_type": "code",
   "execution_count": 24,
   "metadata": {},
   "outputs": [
    {
     "data": {
      "image/png": "[encoded data removed]",
      "text/latex": [
       "$$\\left[\\begin{matrix}2 T_{s}^{4} \\delta_{\\epsilon} \\epsilon \\sigma - 2 T_{s}^{4} \\delta_{\\epsilon} \\sigma\\\\- 2 T_{0}^{4} \\delta_{\\epsilon} \\epsilon \\sigma + T_{0}^{4} \\delta_{\\epsilon} \\sigma\\\\T_{1}^{4} \\delta_{\\epsilon} \\sigma\\end{matrix}\\right]$$"
      ],
      "text/plain": [
       "⎡    4                    4           ⎤\n",
       "⎢2⋅Tₛ ⋅δₑₚₛᵢₗₒₙ⋅ε⋅σ - 2⋅Tₛ ⋅δₑₚₛᵢₗₒₙ⋅σ⎥\n",
       "⎢                                     ⎥\n",
       "⎢      4                  4           ⎥\n",
       "⎢- 2⋅T₀ ⋅δₑₚₛᵢₗₒₙ⋅ε⋅σ + T₀ ⋅δₑₚₛᵢₗₒₙ⋅σ⎥\n",
       "⎢                                     ⎥\n",
       "⎢             4                       ⎥\n",
       "⎣           T₁ ⋅δₑₚₛᵢₗₒₙ⋅σ            ⎦"
      ]
     },
     "execution_count": 24,
     "metadata": {},
     "output_type": "execute_result"
    }
   ],
   "source": [
    "deltaOLR_linear = sympy.expand(deltaOLR).subs(delta_epsilon**2, 0)\n",
    "deltaOLR_linear"
   ]
  },
  {
   "cell_type": "markdown",
   "metadata": {},
   "source": [
    "Recall that the three terms are the contributions to the OLR from the three different levels. In this case, the **changes** in those contributions after adding more absorbers."
   ]
  },
  {
   "cell_type": "markdown",
   "metadata": {
    "slideshow": {
     "slide_type": "slide"
    }
   },
   "source": [
    "Now let's divide through by $\\delta_\\epsilon$ to get the normalized change in OLR per unit change in absorptivity:"
   ]
  },
  {
   "cell_type": "code",
   "execution_count": 25,
   "metadata": {},
   "outputs": [
    {
     "data": {
      "image/png": "[encoded data removed]",
      "text/latex": [
       "$$\\left[\\begin{matrix}2 T_{s}^{4} \\sigma \\left(\\epsilon - 1\\right)\\\\T_{0}^{4} \\sigma \\left(- 2 \\epsilon + 1\\right)\\\\T_{1}^{4} \\sigma\\end{matrix}\\right]$$"
      ],
      "text/plain": [
       "⎡    4           ⎤\n",
       "⎢2⋅Tₛ ⋅σ⋅(ε - 1) ⎥\n",
       "⎢                ⎥\n",
       "⎢  4             ⎥\n",
       "⎢T₀ ⋅σ⋅(-2⋅ε + 1)⎥\n",
       "⎢                ⎥\n",
       "⎢       4        ⎥\n",
       "⎣     T₁ ⋅σ      ⎦"
      ]
     },
     "execution_count": 25,
     "metadata": {},
     "output_type": "execute_result"
    }
   ],
   "source": [
    "deltaOLR_per_deltaepsilon = \\\n",
    "    sympy.simplify(deltaOLR_linear / delta_epsilon)\n",
    "deltaOLR_per_deltaepsilon"
   ]
  },
  {
   "cell_type": "markdown",
   "metadata": {},
   "source": [
    "Now look at the **sign** of each term. Recall that $0 < \\epsilon < 1$. **Which terms in the OLR go up and which go down?**\n",
    "\n",
    "**THIS IS VERY IMPORTANT, SO STOP AND THINK ABOUT IT.**"
   ]
  },
  {
   "cell_type": "markdown",
   "metadata": {
    "slideshow": {
     "slide_type": "fragment"
    }
   },
   "source": [
    "The contribution from the **surface** must **decrease**, while the contribution from the **top layer** must **increase**.\n",
    "\n",
    "**When we add absorbers, the average level of emission goes up!**"
   ]
  },
  {
   "cell_type": "markdown",
   "metadata": {
    "slideshow": {
     "slide_type": "slide"
    }
   },
   "source": [
    "### \"Radiative forcing\" is the change in radiative flux at TOA after adding absorbers\n",
    "\n",
    "In this model, only the longwave flux can change, so we define the radiative forcing as\n",
    "\n",
    "$$ R = - \\delta OLR $$\n",
    "\n",
    "(with the minus sign so that $R$ is positive when the climate system is gaining extra energy)."
   ]
  },
  {
   "cell_type": "markdown",
   "metadata": {
    "slideshow": {
     "slide_type": "slide"
    }
   },
   "source": [
    "We just worked out that whenever we add some extra absorbers, the emissions to space (on average) will originate from higher levels in the atmosphere. \n",
    "\n",
    "What does this mean for OLR? Will it increase or decrease?\n",
    "\n",
    "To get the answer, we just have to sum up the three contributions we wrote above:"
   ]
  },
  {
   "cell_type": "code",
   "execution_count": 26,
   "metadata": {},
   "outputs": [
    {
     "data": {
      "image/png": "[encoded data removed]",
      "text/latex": [
       "$$- T_{0}^{4} \\sigma \\left(- 2 \\epsilon + 1\\right) - T_{1}^{4} \\sigma - 2 T_{s}^{4} \\sigma \\left(\\epsilon - 1\\right)$$"
      ],
      "text/plain": [
       "    4                  4         4          \n",
       "- T₀ ⋅σ⋅(-2⋅ε + 1) - T₁ ⋅σ - 2⋅Tₛ ⋅σ⋅(ε - 1)"
      ]
     },
     "execution_count": 26,
     "metadata": {},
     "output_type": "execute_result"
    }
   ],
   "source": [
    "R_per_deltaepsilon = -sum(deltaOLR_per_deltaepsilon)\n",
    "R_per_deltaepsilon"
   ]
  },
  {
   "cell_type": "markdown",
   "metadata": {},
   "source": [
    "Is this a positive or negative number? The key point is this:\n",
    "\n",
    "**It depends on the temperatures, i.e. on the lapse rate.**"
   ]
  },
  {
   "cell_type": "markdown",
   "metadata": {
    "slideshow": {
     "slide_type": "slide"
    }
   },
   "source": [
    "### Greenhouse effect for an isothermal atmosphere\n",
    "\n",
    "Stop and think about this question:\n",
    "\n",
    "If the **surface and atmosphere are all at the same temperature**, does the OLR go up or down when $\\epsilon$ increases (i.e. we add more absorbers)?\n",
    "\n",
    "Understanding this question is key to understanding how the greenhouse effect works."
   ]
  },
  {
   "cell_type": "markdown",
   "metadata": {
    "slideshow": {
     "slide_type": "slide"
    }
   },
   "source": [
    "#### Let's solve the isothermal case\n",
    "\n",
    "We will just set $T_s = T_0 = T_1$ in the above expression for the radiative forcing."
   ]
  },
  {
   "cell_type": "code",
   "execution_count": 27,
   "metadata": {},
   "outputs": [
    {
     "data": {
      "image/png": "[encoded data removed]",
      "text/latex": [
       "$$- T_{s}^{4} \\sigma \\left(- 2 \\epsilon + 1\\right) - 2 T_{s}^{4} \\sigma \\left(\\epsilon - 1\\right) - T_{s}^{4} \\sigma$$"
      ],
      "text/plain": [
       "    4                    4               4  \n",
       "- Tₛ ⋅σ⋅(-2⋅ε + 1) - 2⋅Tₛ ⋅σ⋅(ε - 1) - Tₛ ⋅σ"
      ]
     },
     "execution_count": 27,
     "metadata": {},
     "output_type": "execute_result"
    }
   ],
   "source": [
    "R_per_deltaepsilon.subs([(T_0, T_s), (T_1, T_s)])"
   ]
  },
  {
   "cell_type": "markdown",
   "metadata": {
    "slideshow": {
     "slide_type": "fragment"
    }
   },
   "source": [
    "which then simplifies to"
   ]
  },
  {
   "cell_type": "code",
   "execution_count": 28,
   "metadata": {},
   "outputs": [
    {
     "data": {
      "image/png": "[encoded data removed]",
      "text/latex": [
       "$$0$$"
      ],
      "text/plain": [
       "0"
      ]
     },
     "execution_count": 28,
     "metadata": {},
     "output_type": "execute_result"
    }
   ],
   "source": [
    "sympy.simplify(R_per_deltaepsilon.subs([(T_0, T_s), (T_1, T_s)]))"
   ]
  },
  {
   "cell_type": "markdown",
   "metadata": {
    "slideshow": {
     "slide_type": "slide"
    }
   },
   "source": [
    "#### The answer is zero\n",
    "\n",
    "For an isothermal atmosphere, there is **no change** in OLR when we add extra greenhouse absorbers. Hence, no radiative forcing and no greenhouse effect.\n",
    "\n",
    "Why?\n",
    "\n",
    "The level of emission still must go up. But since the temperature at the upper level is the **same** as everywhere else, the emissions are exactly the same."
   ]
  },
  {
   "cell_type": "markdown",
   "metadata": {
    "slideshow": {
     "slide_type": "-"
    }
   },
   "source": [
    "### The radiative forcing (change in OLR) depends on the lapse rate!"
   ]
  },
  {
   "cell_type": "markdown",
   "metadata": {
    "slideshow": {
     "slide_type": "slide"
    }
   },
   "source": [
    "For a more realistic example of radiative forcing due to an increase in greenhouse absorbers, we can substitute in our tuned values for temperature and $\\epsilon$. \n",
    "\n",
    "We'll express the answer in W m$^{-2}$ for a 2% increase in $\\epsilon$."
   ]
  },
  {
   "cell_type": "code",
   "execution_count": 29,
   "metadata": {},
   "outputs": [
    {
     "data": {
      "image/png": "[encoded data removed]",
      "text/latex": [
       "$$0.02 \\epsilon$$"
      ],
      "text/plain": [
       "0.02⋅ε"
      ]
     },
     "execution_count": 29,
     "metadata": {},
     "output_type": "execute_result"
    }
   ],
   "source": [
    "delta_epsilon = 0.02 * epsilon\n",
    "delta_epsilon"
   ]
  },
  {
   "cell_type": "markdown",
   "metadata": {},
   "source": [
    "The three components of the OLR change are"
   ]
  },
  {
   "cell_type": "code",
   "execution_count": 30,
   "metadata": {},
   "outputs": [
    {
     "data": {
      "image/png": "[encoded data removed]",
      "text/latex": [
       "$$\\left[\\begin{matrix}-3.78528239476332\\\\-0.654045776110835\\\\1.85974119291373\\end{matrix}\\right]$$"
      ],
      "text/plain": [
       "⎡-3.78528239476332 ⎤\n",
       "⎢                  ⎥\n",
       "⎢-0.654045776110835⎥\n",
       "⎢                  ⎥\n",
       "⎣ 1.85974119291373 ⎦"
      ]
     },
     "execution_count": 30,
     "metadata": {},
     "output_type": "execute_result"
    }
   ],
   "source": [
    "(deltaOLR_per_deltaepsilon * delta_epsilon).subs(tuned)"
   ]
  },
  {
   "cell_type": "markdown",
   "metadata": {},
   "source": [
    "And the net radiative forcing is"
   ]
  },
  {
   "cell_type": "code",
   "execution_count": 31,
   "metadata": {},
   "outputs": [
    {
     "data": {
      "image/png": "[encoded data removed]",
      "text/latex": [
       "$$2.57958697796043$$"
      ],
      "text/plain": [
       "2.57958697796043"
      ]
     },
     "execution_count": 31,
     "metadata": {},
     "output_type": "execute_result"
    }
   ],
   "source": [
    "(R_per_deltaepsilon*delta_epsilon).subs(tuned)"
   ]
  },
  {
   "cell_type": "markdown",
   "metadata": {
    "slideshow": {
     "slide_type": "slide"
    }
   },
   "source": [
    "So in our example, **the OLR decreases by 2.6 W m$^{-2}$**, or equivalently, the radiative forcing is +2.6 W m$^{-2}$.\n",
    "\n",
    "What we have just calculated is this:\n",
    "\n",
    "*Given the observed lapse rates, a small increase in absorbers will cause a small decrease in OLR.*\n",
    "\n",
    "The greenhouse effect thus gets stronger, and energy will begin to accumulate in the system -- which will eventually cause temperatures to increase as the system adjusts to a new equilibrium."
   ]
  },
  {
   "cell_type": "markdown",
   "metadata": {
    "slideshow": {
     "slide_type": "slide"
    }
   },
   "source": [
    "____________\n",
    "<a id='section6'></a>\n",
    "\n",
    "## 6. Radiative equilibrium in the 2-layer grey gas model\n",
    "____________"
   ]
  },
  {
   "cell_type": "markdown",
   "metadata": {
    "slideshow": {
     "slide_type": "slide"
    }
   },
   "source": [
    "In the previous section we:\n",
    "\n",
    "- made no assumptions about the processes that actually set the temperatures. \n",
    "- used the model to calculate radiative fluxes, **given observed temperatures**. \n",
    "- stressed the importance of knowing the lapse rates in order to know how an increase in emission level would affect the OLR, and thus determine the radiative forcing.\n",
    "\n",
    "A key question in climate dynamics is therefore this:\n",
    "\n",
    "**What sets the lapse rate?**"
   ]
  },
  {
   "cell_type": "markdown",
   "metadata": {
    "slideshow": {
     "slide_type": "slide"
    }
   },
   "source": [
    "It turns out that lots of different physical processes contribute to setting the lapse rate. \n",
    "\n",
    "Understanding how these processes acts together and how they change as the climate changes is one of the key reasons for which we need more complex climate models.\n",
    "\n",
    "For now, we will use our prototype greenhouse model to do the most basic lapse rate calculation: the **radiative equilibrium temperature**.\n",
    "\n",
    "We assume that\n",
    "\n",
    "- the only exchange of energy between layers is longwave radiation\n",
    "- equilibrium is achieved when the **net radiative flux convergence** in each layer is zero."
   ]
  },
  {
   "cell_type": "markdown",
   "metadata": {
    "slideshow": {
     "slide_type": "slide"
    }
   },
   "source": [
    "### Compute the radiative flux convergence\n",
    "\n",
    "First, the **net upwelling flux** is just the difference between flux up and flux down:"
   ]
  },
  {
   "cell_type": "code",
   "execution_count": 32,
   "metadata": {},
   "outputs": [
    {
     "data": {
      "image/png": "[encoded data removed]",
      "text/latex": [
       "$$\\left[\\begin{matrix}- T_{0}^{4} \\epsilon \\sigma - T_{1}^{4} \\epsilon \\sigma \\left(- \\epsilon + 1\\right) + T_{s}^{4} \\sigma\\\\T_{0}^{4} \\epsilon \\sigma - T_{1}^{4} \\epsilon \\sigma + T_{s}^{4} \\sigma \\left(- \\epsilon + 1\\right)\\\\T_{1}^{4} \\epsilon \\sigma + \\left(- \\epsilon + 1\\right) \\left(T_{0}^{4} \\epsilon \\sigma + T_{s}^{4} \\sigma \\left(- \\epsilon + 1\\right)\\right)\\end{matrix}\\right]$$"
      ],
      "text/plain": [
       "⎡        4         4                  4       ⎤\n",
       "⎢    - T₀ ⋅ε⋅σ - T₁ ⋅ε⋅σ⋅(-ε + 1) + Tₛ ⋅σ     ⎥\n",
       "⎢                                             ⎥\n",
       "⎢       4         4         4                 ⎥\n",
       "⎢     T₀ ⋅ε⋅σ - T₁ ⋅ε⋅σ + Tₛ ⋅σ⋅(-ε + 1)      ⎥\n",
       "⎢                                             ⎥\n",
       "⎢  4                ⎛  4         4           ⎞⎥\n",
       "⎣T₁ ⋅ε⋅σ + (-ε + 1)⋅⎝T₀ ⋅ε⋅σ + Tₛ ⋅σ⋅(-ε + 1)⎠⎦"
      ]
     },
     "execution_count": 32,
     "metadata": {},
     "output_type": "execute_result"
    }
   ],
   "source": [
    "#  Upwelling and downwelling beams as matrices\n",
    "U = sympy.Matrix([U_0, U_1, U_2])\n",
    "D = sympy.Matrix([D_0, D_1, D_2])\n",
    "# Net flux, positive up\n",
    "F = U-D\n",
    "F"
   ]
  },
  {
   "cell_type": "markdown",
   "metadata": {
    "slideshow": {
     "slide_type": "slide"
    }
   },
   "source": [
    "####  Net absorption is the flux convergence in each layer\n",
    "\n",
    "(difference between what's coming in the bottom and what's going out the top of each layer)"
   ]
  },
  {
   "cell_type": "code",
   "execution_count": 33,
   "metadata": {},
   "outputs": [
    {
     "data": {
      "image/png": "[encoded data removed]",
      "text/latex": [
       "$$\\left[\\begin{matrix}- T_{0}^{4} \\epsilon \\sigma - T_{1}^{4} \\epsilon \\sigma \\left(- \\epsilon + 1\\right) + T_{s}^{4} \\sigma\\\\- 2 T_{0}^{4} \\epsilon \\sigma - T_{1}^{4} \\epsilon \\sigma \\left(- \\epsilon + 1\\right) + T_{1}^{4} \\epsilon \\sigma - T_{s}^{4} \\sigma \\left(- \\epsilon + 1\\right) + T_{s}^{4} \\sigma\\\\T_{0}^{4} \\epsilon \\sigma - 2 T_{1}^{4} \\epsilon \\sigma + T_{s}^{4} \\sigma \\left(- \\epsilon + 1\\right) - \\left(- \\epsilon + 1\\right) \\left(T_{0}^{4} \\epsilon \\sigma + T_{s}^{4} \\sigma \\left(- \\epsilon + 1\\right)\\right)\\end{matrix}\\right]$$"
      ],
      "text/plain": [
       "⎡                       4         4                  4                     ⎤\n",
       "⎢                   - T₀ ⋅ε⋅σ - T₁ ⋅ε⋅σ⋅(-ε + 1) + Tₛ ⋅σ                   ⎥\n",
       "⎢                                                                          ⎥\n",
       "⎢          4         4                  4         4                4       ⎥\n",
       "⎢    - 2⋅T₀ ⋅ε⋅σ - T₁ ⋅ε⋅σ⋅(-ε + 1) + T₁ ⋅ε⋅σ - Tₛ ⋅σ⋅(-ε + 1) + Tₛ ⋅σ     ⎥\n",
       "⎢                                                                          ⎥\n",
       "⎢  4           4         4                       ⎛  4         4           ⎞⎥\n",
       "⎣T₀ ⋅ε⋅σ - 2⋅T₁ ⋅ε⋅σ + Tₛ ⋅σ⋅(-ε + 1) - (-ε + 1)⋅⎝T₀ ⋅ε⋅σ + Tₛ ⋅σ⋅(-ε + 1)⎠⎦"
      ]
     },
     "execution_count": 33,
     "metadata": {},
     "output_type": "execute_result"
    }
   ],
   "source": [
    "# define a vector of absorbed radiation -- same size as emissions\n",
    "A = E.copy()\n",
    "\n",
    "#  absorbed radiation at surface\n",
    "A[0] = F[0]\n",
    "# Compute the convergence\n",
    "for n in range(2):\n",
    "    A[n+1] = -(F[n+1]-F[n])\n",
    "\n",
    "A"
   ]
  },
  {
   "cell_type": "markdown",
   "metadata": {
    "slideshow": {
     "slide_type": "slide"
    }
   },
   "source": [
    "#### Radiative equilibrium means net absorption is ZERO in the atmosphere\n",
    "\n",
    "The only other heat source is the **shortwave heating** at the **surface**.\n",
    "\n",
    "In matrix form, here is the system of equations to be solved:"
   ]
  },
  {
   "cell_type": "code",
   "execution_count": 34,
   "metadata": {},
   "outputs": [
    {
     "data": {
      "image/png": "[encoded data removed]",
      "text/latex": [
       "$$\\left[\\begin{matrix}- T_{0}^{4} \\epsilon \\sigma - T_{1}^{4} \\epsilon \\sigma \\left(- \\epsilon + 1\\right) + T_{s}^{4} \\sigma\\\\- 2 T_{0}^{4} \\epsilon \\sigma - T_{1}^{4} \\epsilon \\sigma \\left(- \\epsilon + 1\\right) + T_{1}^{4} \\epsilon \\sigma - T_{s}^{4} \\sigma \\left(- \\epsilon + 1\\right) + T_{s}^{4} \\sigma\\\\T_{0}^{4} \\epsilon \\sigma - 2 T_{1}^{4} \\epsilon \\sigma + T_{s}^{4} \\sigma \\left(- \\epsilon + 1\\right) - \\left(- \\epsilon + 1\\right) \\left(T_{0}^{4} \\epsilon \\sigma + T_{s}^{4} \\sigma \\left(- \\epsilon + 1\\right)\\right)\\end{matrix}\\right] = \\left[\\begin{matrix}Q \\left(- \\alpha + 1\\right)\\\\0\\\\0\\end{matrix}\\right]$$"
      ],
      "text/plain": [
       "⎡                       4         4                  4                     ⎤  \n",
       "⎢                   - T₀ ⋅ε⋅σ - T₁ ⋅ε⋅σ⋅(-ε + 1) + Tₛ ⋅σ                   ⎥  \n",
       "⎢                                                                          ⎥  \n",
       "⎢          4         4                  4         4                4       ⎥  \n",
       "⎢    - 2⋅T₀ ⋅ε⋅σ - T₁ ⋅ε⋅σ⋅(-ε + 1) + T₁ ⋅ε⋅σ - Tₛ ⋅σ⋅(-ε + 1) + Tₛ ⋅σ     ⎥ =\n",
       "⎢                                                                          ⎥  \n",
       "⎢  4           4         4                       ⎛  4         4           ⎞⎥  \n",
       "⎣T₀ ⋅ε⋅σ - 2⋅T₁ ⋅ε⋅σ + Tₛ ⋅σ⋅(-ε + 1) - (-ε + 1)⋅⎝T₀ ⋅ε⋅σ + Tₛ ⋅σ⋅(-ε + 1)⎠⎦  \n",
       "\n",
       "             \n",
       "             \n",
       " ⎡Q⋅(-α + 1)⎤\n",
       " ⎢          ⎥\n",
       " ⎢    0     ⎥\n",
       " ⎢          ⎥\n",
       " ⎣    0     ⎦\n",
       "             "
      ]
     },
     "execution_count": 34,
     "metadata": {},
     "output_type": "execute_result"
    }
   ],
   "source": [
    "radeq = sympy.Equality(A, sympy.Matrix([(1-alpha)*Q, 0, 0]))\n",
    "radeq"
   ]
  },
  {
   "cell_type": "markdown",
   "metadata": {
    "slideshow": {
     "slide_type": "slide"
    }
   },
   "source": [
    "Just as we did for the 1-layer model, it is helpful to rewrite this system using the definition of the **emission temperture** $T_e$\n",
    "\n",
    "$$ (1-\\alpha) Q = \\sigma T_e^4 $$"
   ]
  },
  {
   "cell_type": "code",
   "execution_count": 35,
   "metadata": {},
   "outputs": [
    {
     "data": {
      "image/png": "[encoded data removed]",
      "text/latex": [
       "$$\\left[\\begin{matrix}- T_{0}^{4} \\epsilon \\sigma - T_{1}^{4} \\epsilon \\sigma \\left(- \\epsilon + 1\\right) + T_{s}^{4} \\sigma\\\\- 2 T_{0}^{4} \\epsilon \\sigma - T_{1}^{4} \\epsilon \\sigma \\left(- \\epsilon + 1\\right) + T_{1}^{4} \\epsilon \\sigma - T_{s}^{4} \\sigma \\left(- \\epsilon + 1\\right) + T_{s}^{4} \\sigma\\\\T_{0}^{4} \\epsilon \\sigma - 2 T_{1}^{4} \\epsilon \\sigma + T_{s}^{4} \\sigma \\left(- \\epsilon + 1\\right) - \\left(- \\epsilon + 1\\right) \\left(T_{0}^{4} \\epsilon \\sigma + T_{s}^{4} \\sigma \\left(- \\epsilon + 1\\right)\\right)\\end{matrix}\\right] = \\left[\\begin{matrix}T_{e}^{4} \\sigma\\\\0\\\\0\\end{matrix}\\right]$$"
      ],
      "text/plain": [
       "⎡                       4         4                  4                     ⎤  \n",
       "⎢                   - T₀ ⋅ε⋅σ - T₁ ⋅ε⋅σ⋅(-ε + 1) + Tₛ ⋅σ                   ⎥  \n",
       "⎢                                                                          ⎥  \n",
       "⎢          4         4                  4         4                4       ⎥  \n",
       "⎢    - 2⋅T₀ ⋅ε⋅σ - T₁ ⋅ε⋅σ⋅(-ε + 1) + T₁ ⋅ε⋅σ - Tₛ ⋅σ⋅(-ε + 1) + Tₛ ⋅σ     ⎥ =\n",
       "⎢                                                                          ⎥  \n",
       "⎢  4           4         4                       ⎛  4         4           ⎞⎥  \n",
       "⎣T₀ ⋅ε⋅σ - 2⋅T₁ ⋅ε⋅σ + Tₛ ⋅σ⋅(-ε + 1) - (-ε + 1)⋅⎝T₀ ⋅ε⋅σ + Tₛ ⋅σ⋅(-ε + 1)⎠⎦  \n",
       "\n",
       "        \n",
       " ⎡  4  ⎤\n",
       " ⎢Tₑ ⋅σ⎥\n",
       " ⎢     ⎥\n",
       " ⎢  0  ⎥\n",
       " ⎢     ⎥\n",
       " ⎣  0  ⎦\n",
       "        "
      ]
     },
     "execution_count": 35,
     "metadata": {},
     "output_type": "execute_result"
    }
   ],
   "source": [
    "radeq2 = radeq.subs([((1-alpha)*Q, sigma*T_e**4)])\n",
    "radeq2"
   ]
  },
  {
   "cell_type": "markdown",
   "metadata": {},
   "source": [
    "In this form we can see that we actually have a **linear system** of equations for a set of variables $T_s^4, T_0^4, T_1^4$.\n",
    "\n",
    "We can solve this matrix problem to get these as functions of $T_e^4$."
   ]
  },
  {
   "cell_type": "code",
   "execution_count": 36,
   "metadata": {
    "slideshow": {
     "slide_type": "slide"
    }
   },
   "outputs": [
    {
     "data": {
      "image/png": "[encoded data removed]",
      "text/latex": [
       "$$\\left \\{ T_{0}^{4} : - \\frac{T_{e}^{4} \\left(\\epsilon + 1\\right)}{\\epsilon - 2}, \\quad T_{1}^{4} : - \\frac{T_{e}^{4}}{\\epsilon - 2}, \\quad T_{s}^{4} : - \\frac{T_{e}^{4} \\left(\\epsilon + 2\\right)}{\\epsilon - 2}\\right \\}$$"
      ],
      "text/plain": [
       "⎧        4                   4           4         ⎫\n",
       "⎪  4  -Tₑ ⋅(ε + 1)     4  -Tₑ      4  -Tₑ ⋅(ε + 2) ⎪\n",
       "⎨T₀ : ─────────────, T₁ : ─────, Tₛ : ─────────────⎬\n",
       "⎪         ε - 2           ε - 2           ε - 2    ⎪\n",
       "⎩                                                  ⎭"
      ]
     },
     "execution_count": 36,
     "metadata": {},
     "output_type": "execute_result"
    }
   ],
   "source": [
    "# Solve for radiative equilibrium \n",
    "fourthpower = sympy.solve(radeq2, [T_s**4, T_1**4, T_0**4])\n",
    "fourthpower"
   ]
  },
  {
   "cell_type": "markdown",
   "metadata": {},
   "source": [
    "This produces a dictionary of solutions for the fourth power of the temperatures!"
   ]
  },
  {
   "cell_type": "markdown",
   "metadata": {
    "slideshow": {
     "slide_type": "slide"
    }
   },
   "source": [
    "A little manipulation gets us the solutions for temperatures that we want:"
   ]
  },
  {
   "cell_type": "code",
   "execution_count": 37,
   "metadata": {},
   "outputs": [
    {
     "data": {
      "image/png": "[encoded data removed]",
      "text/latex": [
       "$$\\left[\\begin{matrix}T_{s}\\\\T_{0}\\\\T_{1}\\end{matrix}\\right] = \\left[\\begin{matrix}T_{e} \\sqrt[4]{- \\frac{1}{\\epsilon - 2}} \\sqrt[4]{\\epsilon + 2}\\\\T_{e} \\sqrt[4]{- \\frac{1}{\\epsilon - 2}} \\sqrt[4]{\\epsilon + 1}\\\\T_{e} \\sqrt[4]{- \\frac{1}{\\epsilon - 2}}\\end{matrix}\\right]$$"
      ],
      "text/plain": [
       "       ⎡       _______          ⎤\n",
       "       ⎢      ╱  -1    4 _______⎥\n",
       "       ⎢Tₑ⋅4 ╱  ───── ⋅╲╱ ε + 2 ⎥\n",
       "       ⎢   ╲╱   ε - 2           ⎥\n",
       "       ⎢                        ⎥\n",
       "⎡Tₛ⎤   ⎢       _______          ⎥\n",
       "⎢  ⎥   ⎢      ╱  -1    4 _______⎥\n",
       "⎢T₀⎥ = ⎢Tₑ⋅4 ╱  ───── ⋅╲╱ ε + 1 ⎥\n",
       "⎢  ⎥   ⎢   ╲╱   ε - 2           ⎥\n",
       "⎣T₁⎦   ⎢                        ⎥\n",
       "       ⎢            _______     ⎥\n",
       "       ⎢           ╱  -1        ⎥\n",
       "       ⎢     Tₑ⋅4 ╱  ─────      ⎥\n",
       "       ⎣        ╲╱   ε - 2      ⎦"
      ]
     },
     "execution_count": 37,
     "metadata": {},
     "output_type": "execute_result"
    }
   ],
   "source": [
    "# need the symbolic fourth root operation\n",
    "from sympy.simplify.simplify import nthroot\n",
    "\n",
    "fourthpower_list = [fourthpower[key] for key in [T_s**4, T_0**4, T_1**4]]\n",
    "solution = sympy.Matrix([nthroot(item,4) for item in fourthpower_list])\n",
    "#  Display result as matrix equation!\n",
    "T = sympy.Matrix([T_s, T_0, T_1])\n",
    "sympy.Equality(T, solution)"
   ]
  },
  {
   "cell_type": "markdown",
   "metadata": {
    "slideshow": {
     "slide_type": "slide"
    }
   },
   "source": [
    "In more familiar notation, the radiative equilibrium solution is thus\n",
    "\n",
    "\\begin{align} \n",
    "T_s &= T_e \\left( \\frac{2+\\epsilon}{2-\\epsilon} \\right)^{1/4} \\\\\n",
    "T_0 &= T_e \\left( \\frac{1+\\epsilon}{2-\\epsilon} \\right)^{1/4} \\\\\n",
    "T_1 &= T_e \\left( \\frac{ 1}{2 - \\epsilon} \\right)^{1/4}\n",
    "\\end{align}"
   ]
  },
  {
   "cell_type": "markdown",
   "metadata": {
    "slideshow": {
     "slide_type": "slide"
    }
   },
   "source": [
    "Plugging in the tuned value $\\epsilon = 0.586$ gives"
   ]
  },
  {
   "cell_type": "code",
   "execution_count": 38,
   "metadata": {},
   "outputs": [
    {
     "data": {
      "image/png": "[encoded data removed]",
      "text/latex": [
       "$$\\left[\\begin{matrix}T_{s}\\\\T_{0}\\\\T_{1}\\end{matrix}\\right] = \\left[\\begin{matrix}1.16291953299473 T_{e}\\\\1.02912806093786 T_{e}\\\\0.917045338028656 T_{e}\\end{matrix}\\right]$$"
      ],
      "text/plain": [
       "⎡Tₛ⎤   ⎡1.16291953299473⋅Tₑ ⎤\n",
       "⎢  ⎥   ⎢                    ⎥\n",
       "⎢T₀⎥ = ⎢1.02912806093786⋅Tₑ ⎥\n",
       "⎢  ⎥   ⎢                    ⎥\n",
       "⎣T₁⎦   ⎣0.917045338028656⋅Tₑ⎦"
      ]
     },
     "execution_count": 38,
     "metadata": {},
     "output_type": "execute_result"
    }
   ],
   "source": [
    "Tsolution = solution.subs(tuned)\n",
    "#  Display result as matrix equation!\n",
    "sympy.Equality(T, Tsolution)"
   ]
  },
  {
   "cell_type": "markdown",
   "metadata": {
    "slideshow": {
     "slide_type": "slide"
    }
   },
   "source": [
    "Now we just need to know the Earth's emission temperature $T_e$!\n",
    "\n",
    "(Which we already know is about 255 K)"
   ]
  },
  {
   "cell_type": "code",
   "execution_count": 39,
   "metadata": {},
   "outputs": [
    {
     "data": {
      "image/png": "[encoded data removed]",
      "text/latex": [
       "$$\\left [ 254.909060186948\\right ]$$"
      ],
      "text/plain": [
       "[254.909060186948]"
      ]
     },
     "execution_count": 39,
     "metadata": {},
     "output_type": "execute_result"
    }
   ],
   "source": [
    "# Here's how to calculate T_e from the observed values\n",
    "sympy.solve(((1-alpha)*Q - sigma*T_e**4).subs(tuned), T_e)"
   ]
  },
  {
   "cell_type": "code",
   "execution_count": 40,
   "metadata": {},
   "outputs": [
    {
     "data": {
      "image/png": "[encoded data removed]",
      "text/latex": [
       "$$254.909060186948$$"
      ],
      "text/plain": [
       "254.909060186948"
      ]
     },
     "execution_count": 40,
     "metadata": {},
     "output_type": "execute_result"
    }
   ],
   "source": [
    "# Need to unpack the list\n",
    "Te_value = sympy.solve(((1-alpha)*Q - sigma*T_e**4).subs(tuned), T_e)[0]\n",
    "Te_value"
   ]
  },
  {
   "cell_type": "markdown",
   "metadata": {
    "slideshow": {
     "slide_type": "slide"
    }
   },
   "source": [
    "#### Now we finally get our solution for radiative equilibrium"
   ]
  },
  {
   "cell_type": "code",
   "execution_count": 41,
   "metadata": {
    "slideshow": {
     "slide_type": "-"
    }
   },
   "outputs": [
    {
     "data": {
      "image/png": "[encoded data removed]",
      "text/latex": [
       "$$\\left[\\begin{matrix}T_{s}\\\\T_{0}\\\\T_{1}\\end{matrix}\\right] = \\left[\\begin{matrix}296.4\\\\262.3\\\\233.8\\end{matrix}\\right]$$"
      ],
      "text/plain": [
       "⎡Tₛ⎤   ⎡296.4⎤\n",
       "⎢  ⎥   ⎢     ⎥\n",
       "⎢T₀⎥ = ⎢262.3⎥\n",
       "⎢  ⎥   ⎢     ⎥\n",
       "⎣T₁⎦   ⎣233.8⎦"
      ]
     },
     "execution_count": 41,
     "metadata": {},
     "output_type": "execute_result"
    }
   ],
   "source": [
    "#  Output 4 significant digits\n",
    "Trad = sympy.N(Tsolution.subs([(T_e, Te_value)]), 4)\n",
    "sympy.Equality(T, Trad)"
   ]
  },
  {
   "cell_type": "markdown",
   "metadata": {
    "slideshow": {
     "slide_type": "fragment"
    }
   },
   "source": [
    "Compare these to the values we derived from the **observed lapse rates**:"
   ]
  },
  {
   "cell_type": "code",
   "execution_count": 42,
   "metadata": {},
   "outputs": [
    {
     "data": {
      "image/png": "[encoded data removed]",
      "text/latex": [
       "$$\\left[\\begin{matrix}T_{s}\\\\T_{0}\\\\T_{1}\\end{matrix}\\right] = \\left[\\begin{matrix}288.0\\\\275.0\\\\230.0\\end{matrix}\\right]$$"
      ],
      "text/plain": [
       "⎡Tₛ⎤   ⎡288.0⎤\n",
       "⎢  ⎥   ⎢     ⎥\n",
       "⎢T₀⎥ = ⎢275.0⎥\n",
       "⎢  ⎥   ⎢     ⎥\n",
       "⎣T₁⎦   ⎣230.0⎦"
      ]
     },
     "execution_count": 42,
     "metadata": {},
     "output_type": "execute_result"
    }
   ],
   "source": [
    "sympy.Equality(T, T.subs(tuned))"
   ]
  },
  {
   "cell_type": "markdown",
   "metadata": {
    "slideshow": {
     "slide_type": "slide"
    }
   },
   "source": [
    "The **radiative equilibrium** solution is substantially **warmer at the surface** and **colder in the lower troposphere** than reality.\n",
    "\n",
    "This is a very general feature of radiative equilibrium, and we will see it again very soon in this course."
   ]
  },
  {
   "cell_type": "markdown",
   "metadata": {
    "slideshow": {
     "slide_type": "slide"
    }
   },
   "source": [
    "____________\n",
    "<a id='section7'></a>\n",
    "\n",
    "## 7. Summary\n",
    "____________"
   ]
  },
  {
   "cell_type": "markdown",
   "metadata": {
    "slideshow": {
     "slide_type": "-"
    }
   },
   "source": [
    "## Key physical lessons\n",
    "\n",
    "- Putting a **layer of longwave absorbers** above the surface keeps the **surface substantially warmer**, because of the **backradiation** from the atmosphere (greenhouse effect).\n",
    "- The **grey gas** model assumes that each layer absorbs and emits a fraction $\\epsilon$ of its blackbody value, independent of wavelength."
   ]
  },
  {
   "cell_type": "markdown",
   "metadata": {
    "slideshow": {
     "slide_type": "slide"
    }
   },
   "source": [
    "- With **incomplete absorption** ($\\epsilon < 1$), there are contributions to the OLR from every level and the surface (there is no single **level of emission**)\n",
    "- Adding more absorbers means that **contributions to the OLR** from **upper levels** go **up**, while contributions from the surface go **down**.\n",
    "- This upward shift in the weighting of different levels is what we mean when we say the **level of emission goes up**."
   ]
  },
  {
   "cell_type": "markdown",
   "metadata": {
    "slideshow": {
     "slide_type": "slide"
    }
   },
   "source": [
    "- The **radiative forcing** caused by an increase in absorbers **depends on the lapse rate**.\n",
    "- For an **isothermal atmosphere** the radiative forcing is zero and there is **no greenhouse effect**\n",
    "- The radiative forcing is positive for our atmosphere **because tropospheric temperatures tends to decrease with height**.\n",
    "- Pure **radiative equilibrium** produces a **warm surface** and **cold lower troposphere**.\n",
    "- This is unrealistic, and suggests that crucial heat transfer mechanisms are missing from our model."
   ]
  },
  {
   "cell_type": "markdown",
   "metadata": {
    "slideshow": {
     "slide_type": "slide"
    }
   },
   "source": [
    "### And on the Python side...\n",
    "\n",
    "Did we need `sympy` to work all this out? No, of course not. We could have solved the 3x3 matrix problems by hand. But computer algebra can be very useful and save you a lot of time and error, so it's good to invest some effort into learning how to use it. \n",
    "\n",
    "Hopefully these notes provide a useful starting point."
   ]
  },
  {
   "cell_type": "markdown",
   "metadata": {},
   "source": [
    "____________\n",
    "\n",
    "## Credits\n",
    "\n",
    "This notebook is part of [The Climate Laboratory](https://brian-rose.github.io/ClimateLaboratoryBook), an open-source textbook developed and maintained by [Brian E. J. Rose](http://www.atmos.albany.edu/facstaff/brose/index.html), University at Albany. It has been modified by [Nicole Feldl](http://nicolefeldl.com), UC Santa Cruz.\n",
    "\n",
    "It is licensed for free and open consumption under the\n",
    "[Creative Commons Attribution 4.0 International (CC BY 4.0)](https://creativecommons.org/licenses/by/4.0/) license.\n",
    "\n",
    "Development of these notes and the [climlab software](https://github.com/brian-rose/climlab) is partially supported by the National Science Foundation under award AGS-1455071 to Brian Rose. Any opinions, findings, conclusions or recommendations expressed here are mine and do not necessarily reflect the views of the National Science Foundation.\n",
    "____________"
   ]
  },
  {
   "cell_type": "code",
   "execution_count": null,
   "metadata": {},
   "outputs": [],
   "source": []
  }
 ],
 "metadata": {
  "kernelspec": {
   "display_name": "Python 3",
   "language": "python",
   "name": "python3"
  },
  "language_info": {
   "codemirror_mode": {
    "name": "ipython",
    "version": 3
   },
   "file_extension": ".py",
   "mimetype": "text/x-python",
   "name": "python",
   "nbconvert_exporter": "python",
   "pygments_lexer": "ipython3",
   "version": "3.6.10"
  }
 },
 "nbformat": 4,
 "nbformat_minor": 4
}

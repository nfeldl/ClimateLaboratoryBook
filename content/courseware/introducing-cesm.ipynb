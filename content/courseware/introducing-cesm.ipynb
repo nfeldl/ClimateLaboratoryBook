{
 "cells": [
  {
   "cell_type": "markdown",
   "metadata": {
    "slideshow": {
     "slide_type": "slide"
    }
   },
   "source": [
    "# Introducing the Community Earth System Model (CESM)"
   ]
  },
  {
   "cell_type": "markdown",
   "metadata": {
    "slideshow": {
     "slide_type": "slide"
    }
   },
   "source": [
    "____________\n",
    "## About the CESM\n",
    "____________"
   ]
  },
  {
   "cell_type": "markdown",
   "metadata": {
    "slideshow": {
     "slide_type": "-"
    }
   },
   "source": [
    "### What is it?\n",
    "\n",
    "- CESM is one of a handful of complex coupled GCMs that are used as part of the IPCC process.\n",
    "- Developed and maintained at NCAR (Boulder CO) by a group of climate scientists and software engineers.\n",
    "- “Community” refers to the fact that the code is open-source, with new pieces contributed by a wide variety of users. \n",
    "\n",
    "I use CESM in my own research. We are going to be using CESM in this course. For lots more information about CESM:\n",
    "\n",
    "http://www.cesm.ucar.edu/models/"
   ]
  },
  {
   "cell_type": "markdown",
   "metadata": {
    "slideshow": {
     "slide_type": "slide"
    }
   },
   "source": [
    "### Key components of CESM:\n",
    "\n",
    "see http://www.cesm.ucar.edu/models/cesm1.2/ for more info\n",
    " \n",
    " - Atmospheric model (AGCM)\n",
    "     - Community Atmsophere Model (CAM)\n",
    " - Ocean model (OGCM)\n",
    "     - Parallel Ocean Program (POP)\n",
    " - Land surface model\n",
    "     - Community Land Model (CLM)\n",
    " - Sea ice model\n",
    "     - Community Ice CodE (CICE)\n",
    "     \n",
    "The software is somewhat modular, so different submodels can be combined together depending on the nature of the scientific problem at hand and the available computer power."
   ]
  },
  {
   "cell_type": "markdown",
   "metadata": {
    "slideshow": {
     "slide_type": "slide"
    }
   },
   "source": [
    "____________\n",
    "<a id='section6'></a>\n",
    "## Our numerical experiments with CESM\n",
    "____________"
   ]
  },
  {
   "cell_type": "markdown",
   "metadata": {
    "slideshow": {
     "slide_type": "slide"
    }
   },
   "source": [
    "### Atmosphere\n",
    "\n",
    " - Horizontal resolution about 2º lat/lon\n",
    " - AGCM solves the fundamental equations:\n",
    "    - Conservation of momentum, mass, energy, water, equation of state\n",
    " - At 2º we resolve the **synoptic-scale dynamics**\n",
    "     - storm tracks and cyclones. \n",
    " - We do NOT resolve the mesoscale and smaller\n",
    "     - thunderstorms, individual convective events, clouds\n",
    " - These all must be parameterized.\n",
    " - Model also solves equations of radiative transfer. This takes account of\n",
    "     - composition of the atmosphere and the absorption properties of different gases\n",
    "     - radiative effects of clouds."
   ]
  },
  {
   "cell_type": "markdown",
   "metadata": {
    "slideshow": {
     "slide_type": "slide"
    }
   },
   "source": [
    "### Sea ice\n",
    "\n",
    "- Resolution of 1º.\n",
    "- Thermodynamics (conservation of energy, water and salt)\n",
    "    - determines freezing and melting\n",
    "- Dynamics (momentum equations) \n",
    "    - determine ice motion and deformation.\n",
    "- Complex! Sea ice is sort of a mixture of a fluid and a solid."
   ]
  },
  {
   "cell_type": "markdown",
   "metadata": {
    "slideshow": {
     "slide_type": "slide"
    }
   },
   "source": [
    "### Land surface model\n",
    "\n",
    "- Same resolution as atmosphere. \n",
    "- Determines surface fluxes of heat, water, momentum (friction) based on prescribed vegetation types.\n",
    "- Don’t actually know much about how it works!\n",
    "- Great topic for someone to dig in to for their term project."
   ]
  },
  {
   "cell_type": "markdown",
   "metadata": {
    "slideshow": {
     "slide_type": "slide"
    }
   },
   "source": [
    "### Ocean\n",
    "\n",
    "- Same grid as sea ice, 1º.\n",
    "- Exchanges heat, water, and momentum with the atmosphere and sea ice\n",
    "- Receives runoff from the land surface (rivers)\n",
    "- Full 3D simulation of the currents."
   ]
  },
  {
   "cell_type": "markdown",
   "metadata": {
    "slideshow": {
     "slide_type": "slide"
    }
   },
   "source": [
    "### Experimental setup\n",
    "\n",
    "Model is given realistic atmospheric composition, realistic solar radiation, etc.\n",
    "\n",
    "We perform a **preindustrial control run** to get a baseline simulation, and take **averages of several years** (because the model has internal variability – every year is a little bit different)\n",
    "\n",
    "We then (later) we will change something, e.g. double the atmospheric $CO_2$!\n",
    "\n",
    "And allow the model to adjust toward a new equilibrium, just as we did with the toy energy balance model."
   ]
  },
  {
   "cell_type": "markdown",
   "metadata": {
    "slideshow": {
     "slide_type": "slide"
    }
   },
   "source": [
    "## Browsing input data with xarray\n",
    "\n",
    "First, let's take a look at some of the ingredients that go into the control run. **All of the necessary data will be served up by a special data server sitting in the department**, so you should be able to run this code to interact with the data on any computer that is connected to the internet."
   ]
  },
  {
   "cell_type": "markdown",
   "metadata": {
    "slideshow": {
     "slide_type": "fragment"
    }
   },
   "source": [
    "You can browse the available data through the JupyterHub Data directory.\n",
    "\n",
    "Within this folder called `CESMA`, you will find another folder called `som_input` which contains all the input files.\n",
    "\n",
    "The data are all stored in `NetCDF` files, a standard file format for self-describing gridded data."
   ]
  },
  {
   "cell_type": "code",
   "execution_count": null,
   "metadata": {
    "slideshow": {
     "slide_type": "slide"
    }
   },
   "outputs": [],
   "source": [
    "%matplotlib inline\n",
    "import numpy as np\n",
    "import matplotlib.pyplot as plt\n",
    "import xarray as xr"
   ]
  },
  {
   "cell_type": "markdown",
   "metadata": {},
   "source": [
    "We are going to use a package called [xarray](http://xarray.pydata.org) (abbreviated here as `xr`) to work with the datasets."
   ]
  },
  {
   "cell_type": "markdown",
   "metadata": {
    "slideshow": {
     "slide_type": "slide"
    }
   },
   "source": [
    "### Boundary conditions: continents and topography\n",
    "\n",
    "Here we are going to load the input topography file and take a look at what's inside. \n",
    "\n",
    "In this case we are passing it a URL to our online dataserver. We'll put the URL in a string variable called `datapath` to simplify things later on."
   ]
  },
  {
   "cell_type": "code",
   "execution_count": null,
   "metadata": {},
   "outputs": [],
   "source": [
    "#cesm_data_path = \"http://thredds.atmos.albany.edu:8080/thredds/dodsC/CESMA/\"\n",
    "cesm_data_path = \"../Data/CESMA/\"\n",
    "cesm_input_path = cesm_data_path + \"som_input/\"\n",
    "#  Notice that in Python we can easily concatenate strings together just by `adding` them\n",
    "fullURL = cesm_input_path + \"USGS-gtopo30_1.9x2.5_remap_c050602.nc\"\n",
    "print( fullURL)"
   ]
  },
  {
   "cell_type": "code",
   "execution_count": null,
   "metadata": {
    "slideshow": {
     "slide_type": "slide"
    }
   },
   "outputs": [],
   "source": [
    "#  Now we actually open the dataset\n",
    "topo = xr.open_dataset( fullURL )\n",
    "print(topo)"
   ]
  },
  {
   "cell_type": "markdown",
   "metadata": {
    "slideshow": {
     "slide_type": "slide"
    }
   },
   "source": [
    "The `Dataset` object has several important attributes. Much of this should look familiar if you have worked with `netCDF` data before. The `xarray` package gives a very powerful and easy to use interface to the data."
   ]
  },
  {
   "cell_type": "markdown",
   "metadata": {
    "slideshow": {
     "slide_type": "-"
    }
   },
   "source": [
    "We can access individual variables within the `xarray.Dataset` object as follows:"
   ]
  },
  {
   "cell_type": "code",
   "execution_count": null,
   "metadata": {
    "slideshow": {
     "slide_type": "slide"
    }
   },
   "outputs": [],
   "source": [
    "topo.PHIS"
   ]
  },
  {
   "cell_type": "markdown",
   "metadata": {
    "slideshow": {
     "slide_type": "slide"
    }
   },
   "source": [
    "### Plotting the topography\n",
    "\n",
    "We will now read the geopotential and make a plot of the topography of the Earth's surface as represented on the 2º grid. The code below makes a colorful plot of the topography. We also use the land-sea mask in order to plot nothing at grid points that are entirely ocean-covered. \n",
    "\n",
    "Execute this code exactly as written first, and then play around with it to see how you might customize the graph. "
   ]
  },
  {
   "cell_type": "code",
   "execution_count": null,
   "metadata": {
    "slideshow": {
     "slide_type": "slide"
    }
   },
   "outputs": [],
   "source": [
    "g = 9.8  # gravity in m/s2\n",
    "meters_per_kilometer = 1E3 \n",
    "height = topo.PHIS / g / meters_per_kilometer  # in kilometers\n",
    "#  Note that we have just created a new xarray.DataArray object that preserves the axis labels\n",
    "#  Let's go ahead and give it some useful metadata:\n",
    "height.attrs['units'] = 'km'\n",
    "height.name = 'height'\n",
    "height"
   ]
  },
  {
   "cell_type": "markdown",
   "metadata": {
    "slideshow": {
     "slide_type": "slide"
    }
   },
   "source": [
    "Let's make a plot! `xarray` is able to automatically generate labeled plots. This is very handy for \"quick and dirty\" investigation of the data:"
   ]
  },
  {
   "cell_type": "code",
   "execution_count": null,
   "metadata": {
    "slideshow": {
     "slide_type": "-"
    }
   },
   "outputs": [],
   "source": [
    "height.plot()"
   ]
  },
  {
   "cell_type": "markdown",
   "metadata": {
    "slideshow": {
     "slide_type": "slide"
    }
   },
   "source": [
    "If we want more control over the appearance of the plot, we can use features of `matplotlib`"
   ]
  },
  {
   "cell_type": "code",
   "execution_count": null,
   "metadata": {
    "slideshow": {
     "slide_type": "-"
    }
   },
   "outputs": [],
   "source": [
    "#  A filled contour plot of topography with contours every 500 m\n",
    "lev = np.arange(0., 6., 0.5)\n",
    "fig1, ax1 = plt.subplots(figsize=(8,4))\n",
    "# Here we are masking the data to exclude points where the land fraction is zero (water only)\n",
    "cax1 = ax1.contourf( height.lon, height.lat, \n",
    "                    height.where(topo.LANDFRAC>0), levels=lev)\n",
    "ax1.set_title('Topography (km) and land-sea mask in CESM')\n",
    "ax1.set_xlabel('Longitude')\n",
    "ax1.set_ylabel('Latitude')\n",
    "cbar1 = fig1.colorbar(cax1)"
   ]
  },
  {
   "cell_type": "markdown",
   "metadata": {
    "slideshow": {
     "slide_type": "slide"
    }
   },
   "source": [
    "Note that at 2º resolution we can see many smaller features (e.g. Pacific islands). The model is given a fractional land cover for each grid point. \n",
    "\n",
    "Here let's plot the land-sea mask itself so we can see where there is at least \"some\" water:"
   ]
  },
  {
   "cell_type": "code",
   "execution_count": null,
   "metadata": {
    "slideshow": {
     "slide_type": "fragment"
    }
   },
   "outputs": [],
   "source": [
    "fig2, ax2 = plt.subplots()\n",
    "cax2 = ax2.pcolormesh( topo.lon, topo.lat, topo.LANDFRAC )\n",
    "ax2.set_title('Ocean mask in CESM')\n",
    "ax2.set_xlabel('Longitude') \n",
    "ax2.set_ylabel('Latitude')\n",
    "cbar2 = fig2.colorbar(cax2)"
   ]
  },
  {
   "cell_type": "markdown",
   "metadata": {
    "slideshow": {
     "slide_type": "slide"
    }
   },
   "source": [
    "### Making nicer maps\n",
    "\n",
    "Notice that to make these plots we've just plotted the lat-lon array without using any map projection.\n",
    "\n",
    "There are nice tools available to make better maps. We'll leave that as a topic for another day. But if you're keen to read ahead, check out:\n",
    "\n",
    "<http://scitools.org.uk/cartopy/>\n"
   ]
  },
  {
   "cell_type": "markdown",
   "metadata": {
    "slideshow": {
     "slide_type": "slide"
    }
   },
   "source": [
    "## Ocean boundary conditions\n",
    "\n",
    "Let's load another file that contains some information about the ocean and its interaction with the atmosphere."
   ]
  },
  {
   "cell_type": "code",
   "execution_count": null,
   "metadata": {
    "slideshow": {
     "slide_type": "slide"
    }
   },
   "outputs": [],
   "source": [
    "som_input = xr.open_dataset( cesm_input_path + \"pop_frc.1x1d.090130.nc\", decode_times=False)\n",
    "print(som_input)"
   ]
  },
  {
   "cell_type": "markdown",
   "metadata": {
    "slideshow": {
     "slide_type": "-"
    }
   },
   "source": [
    "The ocean / sea ice models exist on different grids than the atmosphere (1º instead of 2º resolution)."
   ]
  },
  {
   "cell_type": "markdown",
   "metadata": {
    "slideshow": {
     "slide_type": "slide"
    }
   },
   "source": [
    "Now we are going to look at the **annual mean heat flux out of the ocean**.\n",
    "\n",
    "It is stored in the field `qdp` in the dataset we just opened. \n",
    "\n",
    "The sign convention in CESM is that `qdp > 0` where **heat is going IN to the ocean**. We will change the sign to plot heat going OUT of the ocean INTO the atmosphere (a more atmosphere-centric viewpoint). "
   ]
  },
  {
   "cell_type": "code",
   "execution_count": null,
   "metadata": {
    "slideshow": {
     "slide_type": "slide"
    }
   },
   "outputs": [],
   "source": [
    "som_input.qdp"
   ]
  },
  {
   "cell_type": "markdown",
   "metadata": {},
   "source": [
    "Unfortunately, here is a case in which the metadata are not very useful. There is no text description of what variable `qdp` actually is, or what its units are.  (It is actually in units of W m$^{-2}$)\n",
    "\n",
    "We can see that there are 12 x 180 x 360 data points. One 180 x 360 grid for each calendar month!"
   ]
  },
  {
   "cell_type": "markdown",
   "metadata": {
    "slideshow": {
     "slide_type": "slide"
    }
   },
   "source": [
    "Now we are going to take the average over the year at each point. \n",
    "\n",
    "We will use the power of `xarray` here to take the average over the time dimension, leaving us with a single grid on 180 latitude points by 360 longitude points:"
   ]
  },
  {
   "cell_type": "code",
   "execution_count": null,
   "metadata": {
    "slideshow": {
     "slide_type": "fragment"
    }
   },
   "outputs": [],
   "source": [
    "(-som_input.qdp.mean(dim='time')).plot()"
   ]
  },
  {
   "cell_type": "markdown",
   "metadata": {
    "slideshow": {
     "slide_type": "slide"
    }
   },
   "source": [
    "Now make a nice plot of the annual mean q-flux. "
   ]
  },
  {
   "cell_type": "code",
   "execution_count": null,
   "metadata": {
    "slideshow": {
     "slide_type": "slide"
    }
   },
   "outputs": [],
   "source": [
    "#  We can always set a non-standard size for our figure window\n",
    "fig3, ax3 = plt.subplots(figsize=(10, 6))\n",
    "lev = np.arange(-700., 750., 50.)\n",
    "cax3 = ax3.contourf(som_input.xc, som_input.yc, \n",
    "                    -som_input.qdp.mean(dim='time'), \n",
    "                    levels=lev, cmap=plt.cm.bwr)\n",
    "cbar3 = fig3.colorbar(cax3)\n",
    "ax3.set_title( 'CESM: Prescribed heat flux out of ocean (W m$^{-2}$), annual mean', \n",
    "              fontsize=14 )\n",
    "ax3.set_xlabel('Longitude', fontsize=14)\n",
    "ax3.set_ylabel('Latitude', fontsize=14)\n",
    "ax3.text(65, 50, 'Annual', fontsize=16 )\n",
    "ax3.contour(topo.lon, topo.lat, topo.LANDFRAC, levels=[0.5], colors='k');"
   ]
  },
  {
   "cell_type": "markdown",
   "metadata": {
    "slideshow": {
     "slide_type": "slide"
    }
   },
   "source": [
    "Notice all the spatial structure here: \n",
    "\n",
    "- Lots of heat is going in to the oceans at the equator, particularly in the eastern Pacific Ocean.\n",
    "- The red hot spots show where lots of heat is coming out of the ocean.\n",
    "- Hot spots include the mid-latitudes off the eastern coasts of Asia and North America\n",
    "- And also the northern North Atlantic. \n",
    "\n",
    "**All this structure is determined by ocean circulation, which we are not modeling here.** Instead, we are prescribing these heat flux patterns as an input to the atmosphere.\n",
    "\n",
    "This pattern changes throughout the year. Recall that we just averaged over all months to make this plot. We might want to look at just one month:"
   ]
  },
  {
   "cell_type": "code",
   "execution_count": null,
   "metadata": {
    "slideshow": {
     "slide_type": "slide"
    }
   },
   "outputs": [],
   "source": [
    "# select by month index (0 through 11)\n",
    "som_input.qdp.isel(time=0)"
   ]
  },
  {
   "cell_type": "code",
   "execution_count": null,
   "metadata": {
    "slideshow": {
     "slide_type": "slide"
    }
   },
   "outputs": [],
   "source": [
    "#  select by array slicing (but for this you have to know the axis order!)\n",
    "som_input.qdp[0,:,:]"
   ]
  },
  {
   "cell_type": "markdown",
   "metadata": {
    "slideshow": {
     "slide_type": "fragment"
    }
   },
   "source": [
    "Here we got just the first month (January) by specifying `[0,:,:]` after the variable name. This is called *slicing* or *indexing* an array. We are saying \"give me everything for month number 0\". Now make the plot:"
   ]
  },
  {
   "cell_type": "code",
   "execution_count": null,
   "metadata": {
    "slideshow": {
     "slide_type": "slide"
    }
   },
   "outputs": [],
   "source": [
    "fig4, ax4 = plt.subplots(figsize=(10,4)) \n",
    "cax4 = ax4.contourf( som_input.xc, som_input.yc, \n",
    "                    -som_input.qdp.isel(time=0), \n",
    "                      levels=lev, cmap=plt.cm.bwr)\n",
    "cbar4 = plt.colorbar(cax4)\n",
    "ax4.set_title( 'CESM: Prescribed heat flux out of ocean (W m$^{-2}$)', \n",
    "              fontsize=14 )\n",
    "ax3.set_xlabel('Longitude', fontsize=14)\n",
    "ax3.set_ylabel('Latitude', fontsize=14)\n",
    "ax4.text(65, 50, 'January', fontsize=12 );\n",
    "ax4.contour(topo.lon, topo.lat, topo.LANDFRAC, levels=[0.5], colors='k');"
   ]
  },
  {
   "cell_type": "markdown",
   "metadata": {
    "slideshow": {
     "slide_type": "slide"
    }
   },
   "source": [
    "For lots more help with using xarray to slice and dice your dataset, look at the online documentation:\n",
    "\n",
    "http://xarray.pydata.org"
   ]
  },
  {
   "cell_type": "markdown",
   "metadata": {
    "slideshow": {
     "slide_type": "slide"
    }
   },
   "source": [
    "## The \"pre-industrial\" control run\n",
    "\n",
    "Our control run is set up to simulate the climate of the \"pre-industrial era\", meaning before significant human-induced changes to the composition of the atmosphere, nominally the year 1850.\n",
    "\n",
    "Output from the control run is available on the same data server as above. Look in the folder called `cpl_1850_f19` (Here `cpl` stands for \"coupled model\" with interactive ocean, 1850 indicated pre-industrial conditions, and `f19` is a code for 2º the horizontal grid resolution).\n",
    "\n",
    "There are output files for each active model component:\n",
    "\n",
    "- atmosphere\n",
    "- ocean\n",
    "- sea ice\n",
    "- land surface "
   ]
  },
  {
   "cell_type": "markdown",
   "metadata": {
    "slideshow": {
     "slide_type": "slide"
    }
   },
   "source": [
    "The model produces **monthly average** output files for each component. We can load datasets from individual months, but there are also large **concatenated** files available that contain the entire output.\n",
    "\n",
    "Let's take a look at the atmosphere file. The file is called\n",
    "\n",
    "`cpl_1850_f19.cam.h0.nc`\n",
    "\n",
    "(the file extension `.nc` is used to indicate NetCDF format)."
   ]
  },
  {
   "cell_type": "code",
   "execution_count": null,
   "metadata": {
    "slideshow": {
     "slide_type": "slide"
    }
   },
   "outputs": [],
   "source": [
    "atm_control = xr.open_dataset(cesm_data_path + \"cpl_1850_f19/concatenated/cpl_1850_f19.cam.h0.nc\", decode_times=False)\n",
    "print(atm_control)"
   ]
  },
  {
   "cell_type": "markdown",
   "metadata": {
    "slideshow": {
     "slide_type": "slide"
    }
   },
   "source": [
    "Lots of different stuff! These are all the different quantities that are calculated as part of the model simulation. **Every quantity represents a monthly average**. \n",
    "\n",
    "Want to get more information about a particular variable?"
   ]
  },
  {
   "cell_type": "code",
   "execution_count": null,
   "metadata": {
    "slideshow": {
     "slide_type": "fragment"
    }
   },
   "outputs": [],
   "source": [
    "atm_control.co2vmr"
   ]
  },
  {
   "cell_type": "markdown",
   "metadata": {},
   "source": [
    "This is the amount of CO2 in the atmosphere (about 285 parts per million by volume). It is prescribed in these simulations and does not change."
   ]
  },
  {
   "cell_type": "markdown",
   "metadata": {
    "slideshow": {
     "slide_type": "slide"
    }
   },
   "source": [
    "One nice thing about `xarray.DataArray` objects is that we can do simple arithmetic with them (already seen several examples of this in the notes above). For example, change the units of CO2 amount to ppm:"
   ]
  },
  {
   "cell_type": "code",
   "execution_count": null,
   "metadata": {},
   "outputs": [],
   "source": [
    "atm_control.co2vmr * 1E6"
   ]
  },
  {
   "cell_type": "markdown",
   "metadata": {
    "slideshow": {
     "slide_type": "slide"
    }
   },
   "source": [
    "Here's another variable:"
   ]
  },
  {
   "cell_type": "code",
   "execution_count": null,
   "metadata": {},
   "outputs": [],
   "source": [
    "atm_control.SOLIN"
   ]
  },
  {
   "cell_type": "markdown",
   "metadata": {},
   "source": [
    "Apparently this is the incoming solar radiation or **insolation**, with shape (240,96,144) meaning it's got 240 months, 96 latitude points and 144 longitude points. "
   ]
  },
  {
   "cell_type": "markdown",
   "metadata": {
    "slideshow": {
     "slide_type": "slide"
    }
   },
   "source": [
    "___________________________\n",
    "## Exercise: Taking a time average\n",
    "____________________________"
   ]
  },
  {
   "cell_type": "markdown",
   "metadata": {},
   "source": [
    "- Take the **time average** of the `SOLIN` field. Store the result as a new variable.\n",
    "- What are the **dimensions** of the resulting data array? What would be a good way to visualize this quantity?"
   ]
  },
  {
   "cell_type": "code",
   "execution_count": null,
   "metadata": {},
   "outputs": [],
   "source": []
  },
  {
   "cell_type": "markdown",
   "metadata": {},
   "source": [
    "___________________________\n",
    "## Exercise: Plotting the time average insolation\n",
    "____________________________"
   ]
  },
  {
   "cell_type": "markdown",
   "metadata": {},
   "source": [
    "1. Make a well-labeled plot of the time-averaged insolation (using the variable you stored above).\n",
    "2. Is there a way to **further reduce the dimensionality** of the data, and plot the information in a different way?\n",
    "\n",
    "Remember that you can apply the `.mean()` operation across any number of named dimensions in a data array."
   ]
  },
  {
   "cell_type": "code",
   "execution_count": null,
   "metadata": {},
   "outputs": [],
   "source": []
  },
  {
   "cell_type": "markdown",
   "metadata": {},
   "source": [
    "## Comparing the control run with the observed energy budget\n",
    "\n",
    "Recall that our investigations so far have been guided by this figure of the observed **annual, global mean energy budget**:"
   ]
  },
  {
   "cell_type": "markdown",
   "metadata": {},
   "source": [
    "![Observed global energy budget](http://www.atmos.albany.edu/facstaff/brose/classes/ENV415_Spring2018/images/GlobalEnergyBudget.png)"
   ]
  },
  {
   "cell_type": "markdown",
   "metadata": {},
   "source": [
    "___________________________\n",
    "## Thinking about how to compute a global average\n",
    "____________________________\n",
    "\n",
    "In order to compare these numbers with the control run, **we need to take global averages** of the data. What do we mean by **global average**?\n",
    "\n",
    "Before proceeding with these notes, try to answer the following question:\n",
    "\n",
    "**Why does it not make sense to simply average over each data point on a latitude-longitude grid?**"
   ]
  },
  {
   "cell_type": "markdown",
   "metadata": {},
   "source": [
    "## Weighting for global average\n",
    "\n",
    "The global average needs to weighted by the area of each grid cell, which is proportional to the **cosine of latitude** (do you understand why?)\n",
    "\n",
    "We can implement this in xarray as follows:"
   ]
  },
  {
   "cell_type": "code",
   "execution_count": null,
   "metadata": {},
   "outputs": [],
   "source": [
    "#  Take the cosine of latitude (first converting to radians)\n",
    "coslat = np.cos(np.deg2rad(atm_control.lat))\n",
    "print(coslat)"
   ]
  },
  {
   "cell_type": "code",
   "execution_count": null,
   "metadata": {},
   "outputs": [],
   "source": [
    "#  And divide by its mean value\n",
    "weight_factor = coslat / coslat.mean(dim='lat') \n",
    "#  Want to see what we just created?\n",
    "print(weight_factor)"
   ]
  },
  {
   "cell_type": "code",
   "execution_count": null,
   "metadata": {},
   "outputs": [],
   "source": []
  },
  {
   "cell_type": "markdown",
   "metadata": {},
   "source": [
    "### An alternative: use weights already provided in the dataset\n",
    "\n",
    "You will find that many gridded datasets already provide a field that gives accurate area weighting.\n",
    "\n",
    "In the case of the CESM output, the field is called `gw`"
   ]
  },
  {
   "cell_type": "code",
   "execution_count": null,
   "metadata": {},
   "outputs": [],
   "source": [
    "weight_factor2 = atm_control.gw / atm_control.gw.mean(dim='lat')"
   ]
  },
  {
   "cell_type": "code",
   "execution_count": null,
   "metadata": {},
   "outputs": [],
   "source": [
    "weight_factor2"
   ]
  },
  {
   "cell_type": "markdown",
   "metadata": {},
   "source": [
    "### Compute the global, time average insolation"
   ]
  },
  {
   "cell_type": "code",
   "execution_count": null,
   "metadata": {},
   "outputs": [],
   "source": [
    "#  Compute the global, time average insolation using our two different weight factors\n",
    "#  Notice that we can apply the .mean() operation simultaneously over several dimensions!\n",
    "print( (atm_control.SOLIN * weight_factor).mean(dim=('time', 'lon', 'lat')))\n",
    "print( (atm_control.SOLIN * weight_factor2).mean(dim=('time', 'lon', 'lat')))"
   ]
  },
  {
   "cell_type": "markdown",
   "metadata": {},
   "source": [
    "These numbers should both be very close to 340.3\n",
    "\n",
    "This value is the global average insolation in units of W m$^{-2}$."
   ]
  },
  {
   "cell_type": "markdown",
   "metadata": {},
   "source": [
    "___________________________\n",
    "## Exercise: plotting a global average timeseries\n",
    "\n",
    "Plot a **timeseries** of the **global average surface temperature** in the control simulation.\n",
    "\n",
    "Surface temperature is called `'TS'` in the dataset.\n",
    "\n",
    "Make a plot of the global average `TS` with time on the x axis. *Make sure your global average is properly weighted as discussed above.*\n",
    "____________________________"
   ]
  },
  {
   "cell_type": "code",
   "execution_count": null,
   "metadata": {},
   "outputs": [],
   "source": []
  },
  {
   "cell_type": "code",
   "execution_count": null,
   "metadata": {},
   "outputs": [],
   "source": []
  },
  {
   "cell_type": "markdown",
   "metadata": {},
   "source": [
    "### Discussion point\n",
    "\n",
    "What do you see in this graph? Do you have any ideas about why the global average temperature looks like this?\n",
    "\n",
    "Also, what is the **time average** global-average surface temperature in this simulation?"
   ]
  },
  {
   "cell_type": "code",
   "execution_count": null,
   "metadata": {},
   "outputs": [],
   "source": []
  },
  {
   "cell_type": "markdown",
   "metadata": {},
   "source": [
    "### Finding the radiative fluxes in the model output\n",
    "\n",
    "Now that you can take global averages and time averages, we can compare some energy budget values against observations.\n",
    "\n",
    "The model output contains lots of diagnostics about the radiative fluxes. Here are some CESM naming conventions to help you find the appropriate output fields:\n",
    "\n",
    "- All variables whose names being with `'F'` are an **energy flux** of some kind. \n",
    "- Most have a four-letter code, e.g. `'FLNT'`\n",
    "- `'FL'` means **longwave flux** (i.e. terrestrial)\n",
    "- `'FS'` means **shortwave flux** (i.e. solar)\n",
    "- The third letter indicates **direction** of the flux:\n",
    "    - `'U'` = up\n",
    "    - `'D'` = down\n",
    "    - `'N'` = net\n",
    "- The fourth letter indicates the **location** of the flux:\n",
    "    - `'T'` = top of atmosphere\n",
    "    - `'S'` = surface\n",
    "- So `'FLNT'` means 'net longwave flux at the top of atmosphere', i.e. the outgoing longwave radiation or OLR.\n",
    "\n",
    "You wil see that these are all 240 x 96 x 144 -- i.e. a two-dimensional grid for every month in the simulation."
   ]
  },
  {
   "cell_type": "code",
   "execution_count": null,
   "metadata": {},
   "outputs": [],
   "source": [
    "atm_control.FLNT"
   ]
  },
  {
   "cell_type": "markdown",
   "metadata": {},
   "source": [
    "__________________________\n",
    "## Exercise: compute terms in the planetary energy budget\n",
    "\n",
    "Compute annual, global averages of the following four quantities. \n",
    "\n",
    "1. Incoming solar radiation (or insolation)\n",
    "2. Absorbed solar radiation (ASR)\n",
    "3. Planetary albedo *(remember this is a **ratio** of outgoing to incoming solar radiation)*\n",
    "4. Outgoing longwave radiation (OLR)\n",
    "\n",
    "Compare your results briefly to the observations.\n",
    "____________________________"
   ]
  },
  {
   "cell_type": "code",
   "execution_count": null,
   "metadata": {},
   "outputs": [],
   "source": []
  },
  {
   "cell_type": "markdown",
   "metadata": {},
   "source": [
    "## A few more tidbits\n",
    "\n",
    "Feel free to keep exploring the data!\n",
    "\n",
    "Many other fields are four-dimensional (time, level, latitude, longitude). \n",
    "\n",
    "For example, here the **air temperature** at every point and every month:"
   ]
  },
  {
   "cell_type": "code",
   "execution_count": null,
   "metadata": {},
   "outputs": [],
   "source": [
    "# Note normally we would write atm_control.T but .T also has the deprecated meaning \n",
    "# of transpose and will throw an error--try it yourself!\n",
    "atm_control['T']"
   ]
  },
  {
   "cell_type": "markdown",
   "metadata": {},
   "source": [
    "Often we want to sample the data **at a particular place and time**. xarray gives us simple ways to do that.\n",
    "\n",
    "For example, we can perform a **nearest-neighbor lookup** to a particular location in latitude and longitude (here it's the coordinates of Santa Cruz, CA):"
   ]
  },
  {
   "cell_type": "code",
   "execution_count": null,
   "metadata": {},
   "outputs": [],
   "source": [
    "Tlocal = atm_control['T'].sel(lat=36.97, lon=(360-122.03), method='nearest')\n",
    "print(Tlocal)"
   ]
  },
  {
   "cell_type": "markdown",
   "metadata": {},
   "source": [
    "We can also use **time indexing** to pick out a particular year and month:"
   ]
  },
  {
   "cell_type": "code",
   "execution_count": null,
   "metadata": {},
   "outputs": [],
   "source": [
    "# This block of code currently doesn't work because we set decode_times to False\n",
    "\n",
    "#  The .sel notation mean \"select\" along the given coordinate\n",
    "#  The string that follows is year-month. Our simulation begins in year 0001.\n",
    "#Tlocal.sel(time='0020-01')  # a particular January"
   ]
  },
  {
   "cell_type": "markdown",
   "metadata": {},
   "source": [
    "Now, for example, we can plot the temperature as a function of pressure at this place and time:"
   ]
  },
  {
   "cell_type": "code",
   "execution_count": null,
   "metadata": {},
   "outputs": [],
   "source": [
    "#Tlocal.sel(time='0020-01').plot()\n",
    "Tlocal[0,:].plot()"
   ]
  },
  {
   "cell_type": "markdown",
   "metadata": {},
   "source": [
    "____________\n",
    "\n",
    "## Credits\n",
    "\n",
    "This notebook is part of [The Climate Laboratory](https://brian-rose.github.io/ClimateLaboratoryBook), an open-source textbook developed and maintained by [Brian E. J. Rose](http://www.atmos.albany.edu/facstaff/brose/index.html), University at Albany. It has been modified by [Nicole Feldl](http://nicolefeldl.com), UC Santa Cruz.\n",
    "\n",
    "It is licensed for free and open consumption under the\n",
    "[Creative Commons Attribution 4.0 International (CC BY 4.0)](https://creativecommons.org/licenses/by/4.0/) license.\n",
    "\n",
    "Development of these notes and the [climlab software](https://github.com/brian-rose/climlab) is partially supported by the National Science Foundation under award AGS-1455071 to Brian Rose. Any opinions, findings, conclusions or recommendations expressed here are mine and do not necessarily reflect the views of the National Science Foundation.\n",
    "____________"
   ]
  },
  {
   "cell_type": "code",
   "execution_count": null,
   "metadata": {},
   "outputs": [],
   "source": []
  }
 ],
 "metadata": {
  "kernelspec": {
   "display_name": "Python 3",
   "language": "python",
   "name": "python3"
  },
  "language_info": {
   "codemirror_mode": {
    "name": "ipython",
    "version": 3
   },
   "file_extension": ".py",
   "mimetype": "text/x-python",
   "name": "python",
   "nbconvert_exporter": "python",
   "pygments_lexer": "ipython3",
   "version": "3.6.10"
  }
 },
 "nbformat": 4,
 "nbformat_minor": 2
}
